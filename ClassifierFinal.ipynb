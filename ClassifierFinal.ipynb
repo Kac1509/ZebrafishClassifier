{
 "cells": [
  {
   "cell_type": "markdown",
   "metadata": {
    "colab_type": "text",
    "id": "view-in-github"
   },
   "source": [
    "<a href=\"https://colab.research.google.com/github/Kac1509/ZebrafishClassifier/blob/master/ClassifierTuningHyper.ipynb\" target=\"_parent\"><img src=\"https://colab.research.google.com/assets/colab-badge.svg\" alt=\"Open In Colab\"/></a>"
   ]
  },
  {
   "cell_type": "code",
   "execution_count": 1,
   "metadata": {
    "colab": {
     "base_uri": "https://localhost:8080/",
     "height": 73
    },
    "colab_type": "code",
    "id": "Ur52mAVT78Ee",
    "outputId": "9d21d8e8-0666-40f7-cde6-3e7e16e6ce06"
   },
   "outputs": [
    {
     "name": "stdout",
     "output_type": "stream",
     "text": [
      "['C:\\\\Users\\\\Kaleem\\\\EPFL\\\\Fall 2018\\\\Machine Learning\\\\Project_2\\\\Git\\\\ZebrafishClassifier/Classifier/scripts', '', 'C:\\\\Users\\\\Kaleem\\\\Anaconda3\\\\python36.zip', 'C:\\\\Users\\\\Kaleem\\\\Anaconda3\\\\DLLs', 'C:\\\\Users\\\\Kaleem\\\\Anaconda3\\\\lib', 'C:\\\\Users\\\\Kaleem\\\\Anaconda3', 'C:\\\\Users\\\\Kaleem\\\\AppData\\\\Roaming\\\\Python\\\\Python36\\\\site-packages', 'C:\\\\Users\\\\Kaleem\\\\Anaconda3\\\\lib\\\\site-packages', 'C:\\\\Users\\\\Kaleem\\\\Anaconda3\\\\lib\\\\site-packages\\\\win32', 'C:\\\\Users\\\\Kaleem\\\\Anaconda3\\\\lib\\\\site-packages\\\\win32\\\\lib', 'C:\\\\Users\\\\Kaleem\\\\Anaconda3\\\\lib\\\\site-packages\\\\Pythonwin', 'C:\\\\Users\\\\Kaleem\\\\Anaconda3\\\\lib\\\\site-packages\\\\IPython\\\\extensions', 'C:\\\\Users\\\\Kaleem\\\\AppData\\\\Roaming\\\\SPB_Data\\\\.ipython']\n"
     ]
    },
    {
     "name": "stderr",
     "output_type": "stream",
     "text": [
      "C:\\Users\\Kaleem\\Anaconda3\\lib\\site-packages\\h5py\\__init__.py:36: FutureWarning: Conversion of the second argument of issubdtype from `float` to `np.floating` is deprecated. In future, it will be treated as `np.float64 == np.dtype(float).type`.\n",
      "  from ._conv import register_converters as _register_converters\n"
     ]
    }
   ],
   "source": [
    "import sys\n",
    "import os\n",
    "\n",
    "#Set if running locally or in Google Col}aboratory\n",
    "Colab = False\n",
    "if Colab:\n",
    "    Script_path = '/content/gdrive/My Drive/Colab Notebooks/Classifier/scripts'\n",
    "    Base_path = '/content/gdrive/My Drive/Colab Notebooks/Classifier/'\n",
    "    from google.colab import drive\n",
    "    drive.mount('/content/gdrive')\n",
    "else:\n",
    "    Script_path = os.getcwd() + '/Classifier/scripts'\n",
    "    Base_path = 'Classifier/'\n",
    "\n",
    "#Add script folder to system path\n",
    "sys.path.insert(0, Script_path)\n",
    "print(sys.path)\n",
    "\n",
    "%load_ext autoreload\n",
    "%autoreload 2\n",
    "\n",
    "from createSets import *\n",
    "from GenotypeClass import *\n",
    "from predictClass import *\n",
    "from Setup import *\n",
    "from Model import *\n",
    "from HyperparameterTuning import *\n",
    "from setParameters import *\n",
    "from dataVisualization import *"
   ]
  },
  {
   "cell_type": "code",
   "execution_count": 2,
   "metadata": {
    "colab": {},
    "colab_type": "code",
    "id": "Vw-2H_Os70cO",
    "scrolled": true
   },
   "outputs": [],
   "source": [
    "Extracted_path,Partitioned_path,Prediction_path,Validation_prediction_path = setupEnv(Base_path,'DataStraightened.zip')"
   ]
  },
  {
   "cell_type": "code",
   "execution_count": 3,
   "metadata": {},
   "outputs": [
    {
     "name": "stdout",
     "output_type": "stream",
     "text": [
      "3\n"
     ]
    }
   ],
   "source": [
    "Genotypes = createGenotypes(Extracted_path,Partitioned_path)"
   ]
  },
  {
   "cell_type": "code",
   "execution_count": 4,
   "metadata": {
    "colab": {
     "base_uri": "https://localhost:8080/",
     "height": 1343
    },
    "colab_type": "code",
    "id": "9ti00kPnYqb4",
    "outputId": "ad18fc4e-e57d-4ee1-ec30-24fb4017d690",
    "scrolled": false
   },
   "outputs": [
    {
     "name": "stdout",
     "output_type": "stream",
     "text": [
      "[0.1  0.99]\n",
      "parameter = 0.1\n",
      "31\n",
      "76\n",
      "33\n",
      "Fold:  0  test_index:  [ 1  2  5  9 11 13 16 18 26 28 30]\n",
      "Found 60 images belonging to 3 classes.\n",
      "Found 33 images belonging to 3 classes.\n",
      "Epoch 1/3\n",
      " - 4s - loss: 0.9067 - acc: 0.5556 - val_loss: 0.8033 - val_acc: 0.5556\n",
      "Epoch 2/3\n",
      " - 3s - loss: 0.7831 - acc: 0.5611 - val_loss: 0.7349 - val_acc: 0.5657\n",
      "Epoch 3/3\n",
      " - 3s - loss: 0.7250 - acc: 0.5667 - val_loss: 0.6945 - val_acc: 0.5859\n",
      "Fold:  1  test_index:  [ 0  6 10 12 17 20 21 24 27 29]\n",
      "Found 63 images belonging to 3 classes.\n",
      "Found 30 images belonging to 3 classes.\n",
      "Epoch 1/3\n",
      " - 4s - loss: 0.5433 - acc: 0.7566 - val_loss: 0.5064 - val_acc: 0.7667\n",
      "Epoch 2/3\n",
      " - 3s - loss: 0.5006 - acc: 0.7566 - val_loss: 0.4797 - val_acc: 0.7778\n",
      "Epoch 3/3\n",
      " - 3s - loss: 0.4756 - acc: 0.7831 - val_loss: 0.4588 - val_acc: 0.7778\n",
      "Fold:  2  test_index:  [ 3  4  7  8 14 15 19 22 23 25]\n",
      "Found 63 images belonging to 3 classes.\n",
      "Found 30 images belonging to 3 classes.\n",
      "Epoch 1/3\n",
      " - 3s - loss: 0.6786 - acc: 0.6561 - val_loss: 0.6266 - val_acc: 0.6667\n",
      "Epoch 2/3\n",
      " - 3s - loss: 0.6259 - acc: 0.6720 - val_loss: 0.5999 - val_acc: 0.6778\n",
      "Epoch 3/3\n",
      " - 3s - loss: 0.5955 - acc: 0.6878 - val_loss: 0.5793 - val_acc: 0.6889\n",
      "[0.1  0.99]\n",
      "parameter = 0.99\n",
      "31\n",
      "76\n",
      "33\n",
      "Fold:  0  test_index:  [ 1  2  5  9 11 13 16 18 26 28 30]\n",
      "Found 60 images belonging to 3 classes.\n",
      "Found 33 images belonging to 3 classes.\n",
      "Epoch 1/3\n",
      " - 4s - loss: 0.7042 - acc: 0.6111 - val_loss: 0.6718 - val_acc: 0.6566\n",
      "Epoch 2/3\n",
      " - 3s - loss: 0.6348 - acc: 0.6722 - val_loss: 0.6299 - val_acc: 0.6970\n",
      "Epoch 3/3\n",
      " - 3s - loss: 0.6003 - acc: 0.7056 - val_loss: 0.5981 - val_acc: 0.6869\n",
      "Fold:  1  test_index:  [ 0  6 10 12 17 20 21 24 27 29]\n",
      "Found 63 images belonging to 3 classes.\n",
      "Found 30 images belonging to 3 classes.\n",
      "Epoch 1/3\n",
      " - 4s - loss: 0.6562 - acc: 0.6667 - val_loss: 0.6214 - val_acc: 0.6667\n",
      "Epoch 2/3\n",
      " - 3s - loss: 0.6120 - acc: 0.6667 - val_loss: 0.5919 - val_acc: 0.6667\n",
      "Epoch 3/3\n",
      " - 3s - loss: 0.5900 - acc: 0.6667 - val_loss: 0.5692 - val_acc: 0.6667\n",
      "Fold:  2  test_index:  [ 3  4  7  8 14 15 19 22 23 25]\n",
      "Found 63 images belonging to 3 classes.\n",
      "Found 30 images belonging to 3 classes.\n",
      "Epoch 1/3\n",
      " - 4s - loss: 0.6133 - acc: 0.6825 - val_loss: 0.5758 - val_acc: 0.7222\n",
      "Epoch 2/3\n",
      " - 3s - loss: 0.5519 - acc: 0.7672 - val_loss: 0.5444 - val_acc: 0.7556\n",
      "Epoch 3/3\n",
      " - 3s - loss: 0.5206 - acc: 0.7672 - val_loss: 0.5239 - val_acc: 0.7889\n"
     ]
    },
    {
     "data": {
      "image/png": "[encoded data removed]",
      "text/plain": [
       "<Figure size 432x288 with 1 Axes>"
      ]
     },
     "metadata": {},
     "output_type": "display_data"
    }
   ],
   "source": [
    "Tuning = True\n",
    "if Tuning:\n",
    "\n",
    "    #learning_rates = np.logspace(-7, -2, 7)\n",
    "    #hidden_nodes = [4, 8, 16, 32, 64]#, 128, 256, 512, 1024]\n",
    "    dropout = np.linspace(0.1, 0.99, 2)\n",
    "    #input_sizes = [[75,750],[75,375], [75,150], [75,75], [50,50]]\n",
    "    \n",
    "    hyperparameters,loss_tr,loss_te,loss_trSTD,loss_teSTD,Plot_Xlabel = Hyperparameter_tuning(Base_path,\n",
    "                                                                                              Extracted_path,\n",
    "                                                                                              Partitioned_path,\n",
    "                                                                                              Genotypes,\n",
    "                                                                                              HypVals = dropout)\n",
    "    cross_validation_visualization1(hyperparameters,loss_tr, loss_trSTD,loss_te, loss_teSTD,Plot_Xlabel)\n",
    "else:\n",
    "    #Partition data into training and test set\n",
    "    #If fixed set to true, all training and test sets have the same size for all classes \n",
    "    createTrain_Test(Genotypes,0.3, fixed = True)\n",
    "    \n",
    "    Hyperparameters = setParameters(Base_path, shapeY = 50, shapeX = 50, dropout_rate = 0, LR = 0.0001, num_nodes = 256, VGG16 = True)\n",
    "    Gen,Hist,Mdl = runModel(Partitioned_path,Genotypes,Hyperparameters,epochs=3)\n",
    "    plot_loss_acc(Hist)\n",
    "    \n",
    "    \n",
    "    #Format predictions to 4 decimal points\n",
    "    float_formatter = lambda x: \"%.4f\" % x\n",
    "    np.set_printoptions(formatter={'float_kind':float_formatter})\n",
    "    \n",
    "    #Predict Inages in prediction path and save predictions to a csv file\n",
    "    predictionFiles, predictions = predictClass(Mdl,Prediction_path, Hyperparameters, class_mode='categorical')\n",
    "    savePredictions(Base_path,predictions,predictionFiles,Hyperparameters)\n",
    "\n"
   ]
  }
 ],
 "metadata": {
  "accelerator": "GPU",
  "colab": {
   "collapsed_sections": [],
   "name": "Classifier.ipynb",
   "provenance": [],
   "version": "0.3.2"
  },
  "kernelspec": {
   "display_name": "Python 3",
   "language": "python",
   "name": "python3"
  },
  "language_info": {
   "codemirror_mode": {
    "name": "ipython",
    "version": 3
   },
   "file_extension": ".py",
   "mimetype": "text/x-python",
   "name": "python",
   "nbconvert_exporter": "python",
   "pygments_lexer": "ipython3",
   "version": "3.6.5"
  }
 },
 "nbformat": 4,
 "nbformat_minor": 1
}
