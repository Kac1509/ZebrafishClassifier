{
 "cells": [
  {
   "cell_type": "markdown",
   "metadata": {
    "colab_type": "text",
    "id": "view-in-github"
   },
   "source": [
    "<a href=\"https://colab.research.google.com/github/Kac1509/ZebrafishClassifier/blob/master/ClassifierFinal.ipynb\" target=\"_parent\"><img src=\"https://colab.research.google.com/assets/colab-badge.svg\" alt=\"Open In Colab\"/></a>"
   ]
  },
  {
   "cell_type": "code",
   "execution_count": 1,
   "metadata": {
    "colab": {
     "base_uri": "https://localhost:8080/",
     "height": 73
    },
    "colab_type": "code",
    "id": "Ur52mAVT78Ee",
    "outputId": "9d21d8e8-0666-40f7-cde6-3e7e16e6ce06"
   },
   "outputs": [
    {
     "name": "stdout",
     "output_type": "stream",
     "text": [
      "['C:\\\\Users\\\\Kaleem\\\\EPFL\\\\ZebrafishProject\\\\Git\\\\ZebrafishClassifier/CNN_Classifier/scripts', 'c:\\\\nrn\\\\lib\\\\python', 'C:\\\\nrn\\\\bin', 'C:\\\\Users\\\\Kaleem\\\\Anaconda3\\\\python36.zip', 'C:\\\\Users\\\\Kaleem\\\\Anaconda3\\\\DLLs', 'C:\\\\Users\\\\Kaleem\\\\Anaconda3\\\\lib', 'C:\\\\Users\\\\Kaleem\\\\Anaconda3', '', 'C:\\\\Users\\\\Kaleem\\\\AppData\\\\Roaming\\\\Python\\\\Python36\\\\site-packages', 'C:\\\\Users\\\\Kaleem\\\\Anaconda3\\\\lib\\\\site-packages', 'c:\\\\users\\\\kaleem\\\\epfl\\\\spring 2019\\\\fundamentals of neuroengineering\\\\exercises\\\\exercise 2 neuron\\\\fne-neuron-exercise', 'C:\\\\Users\\\\Kaleem\\\\Anaconda3\\\\lib\\\\site-packages\\\\win32', 'C:\\\\Users\\\\Kaleem\\\\Anaconda3\\\\lib\\\\site-packages\\\\win32\\\\lib', 'C:\\\\Users\\\\Kaleem\\\\Anaconda3\\\\lib\\\\site-packages\\\\Pythonwin', 'C:\\\\Users\\\\Kaleem\\\\Anaconda3\\\\lib\\\\site-packages\\\\IPython\\\\extensions', 'C:\\\\Users\\\\Kaleem\\\\AppData\\\\Roaming\\\\SPB_Data\\\\.ipython']\n"
     ]
    }
   ],
   "source": [
    "import sys\n",
    "import os\n",
    "\n",
    "#Set if running locally or in Google Col}aboratory\n",
    "Colab = False\n",
    "if Colab:\n",
    "    Script_path = '/content/gdrive/My Drive/Colab Notebooks/CNN_Classifier/scripts'\n",
    "    Base_path = '/content/gdrive/My Drive/Colab Notebooks/CNN_Classifier/'\n",
    "    from google.colab import drive\n",
    "    drive.mount('/content/gdrive')\n",
    "else:\n",
    "    Script_path = os.getcwd() + '/CNN_Classifier/scripts'\n",
    "    Base_path = 'CNN_Classifier/'\n",
    "\n",
    "#Add script folder to system path\n",
    "sys.path.insert(0, Script_path)\n",
    "print(sys.path)\n",
    "\n",
    "%load_ext autoreload\n",
    "%autoreload 2\n",
    "\n",
    "\n",
    "from CNN_Model import *\n",
    "from DataVisualization import *\n",
    "from Genotype import *\n",
    "from HyperparameterTuning import *\n",
    "from Predictions import *\n",
    "from Setup import *\n",
    "#from run import *\n",
    "\n"
   ]
  },
  {
   "cell_type": "code",
   "execution_count": 2,
   "metadata": {
    "colab": {},
    "colab_type": "code",
    "id": "Vw-2H_Os70cO",
    "scrolled": true
   },
   "outputs": [],
   "source": [
    "Paths = setupEnvironment(Base_path,'Data4types.zip')"
   ]
  },
  {
   "cell_type": "code",
   "execution_count": 4,
   "metadata": {},
   "outputs": [
    {
     "name": "stdout",
     "output_type": "stream",
     "text": [
      "4\n"
     ]
    }
   ],
   "source": [
    "Genotypes = createGenotypes(Paths)"
   ]
  },
  {
   "cell_type": "code",
   "execution_count": 5,
   "metadata": {
    "colab": {
     "base_uri": "https://localhost:8080/",
     "height": 1343
    },
    "colab_type": "code",
    "id": "9ti00kPnYqb4",
    "outputId": "ad18fc4e-e57d-4ee1-ec30-24fb4017d690",
    "scrolled": false
   },
   "outputs": [
    {
     "name": "stdout",
     "output_type": "stream",
     "text": [
      "147\n",
      "30\n",
      "75\n",
      "134\n",
      "WARNING:tensorflow:From C:\\Users\\Kaleem\\Anaconda3\\lib\\site-packages\\tensorflow\\python\\ops\\resource_variable_ops.py:435: colocate_with (from tensorflow.python.framework.ops) is deprecated and will be removed in a future version.\n",
      "Instructions for updating:\n",
      "Colocations handled automatically by placer.\n",
      "Found 84 images belonging to 4 classes.\n",
      "Found 36 images belonging to 4 classes.\n",
      "WARNING:tensorflow:From C:\\Users\\Kaleem\\Anaconda3\\lib\\site-packages\\tensorflow\\python\\ops\\math_ops.py:3066: to_int32 (from tensorflow.python.ops.math_ops) is deprecated and will be removed in a future version.\n",
      "Instructions for updating:\n",
      "Use tf.cast instead.\n",
      "Epoch 1/2\n",
      "4/4 [==============================] - 2s 600ms/step - loss: 0.5606 - acc: 0.7500\n",
      " - 8s - loss: 0.5835 - acc: 0.7500 - val_loss: 0.5606 - val_acc: 0.7500\n",
      "Epoch 2/2\n",
      "4/4 [==============================] - 2s 543ms/step - loss: 0.5471 - acc: 0.7500\n",
      " - 6s - loss: 0.5584 - acc: 0.7500 - val_loss: 0.5471 - val_acc: 0.7500\n",
      "Found 120 images belonging to 2 classes.\n",
      "120/120 [==============================] - 9s 71ms/step\n"
     ]
    },
    {
     "data": {
      "image/png": "[encoded data removed]",
      "text/plain": [
       "<Figure size 432x288 with 1 Axes>"
      ]
     },
     "metadata": {
      "needs_background": "light"
     },
     "output_type": "display_data"
    },
    {
     "data": {
      "image/png": "[encoded data removed]",
      "text/plain": [
       "<Figure size 432x288 with 1 Axes>"
      ]
     },
     "metadata": {
      "needs_background": "light"
     },
     "output_type": "display_data"
    }
   ],
   "source": [
    "Tuning = False\n",
    "if Tuning:\n",
    "\n",
    "    #These are the hyperparameters tested\n",
    "    #learning_rates = np.logspace(-7, -2, 7)\n",
    "    #hidden_nodes = [4, 8, 16, 32, 64, 128, 256, 512, 1024]\n",
    "    #input_sizes = [[75,750],[75,375], [75,150], [75,75], [50,50]]\n",
    "    dropout = np.linspace(0.1, 0.5, 5)\n",
    "    Plot_Xlabel = 'Dropout Rate'\n",
    "    \n",
    "    \n",
    "    Parameters = setParameters(Paths, shapeY = 50, shapeX = 50,\n",
    "                                    dropout_rate = 0,\n",
    "                                    LR = 0.0001,\n",
    "                                    num_nodes = 256,\n",
    "                                    VGG16 = True,\n",
    "                                    Dropout = False)\n",
    "    Hyperparameters,Losses = Hyperparameter_tuning(Paths,\n",
    "                                                   Genotypes,\n",
    "                                                   Parameters,\n",
    "                                                   Hyperparameter = dropout,\n",
    "                                                   epochs = 3,\n",
    "                                                   k_fold = 2)\n",
    "    \n",
    "    cross_validation_visualization(Hyperparameters,Losses[0], Losses[1],Losses[2], Losses[3],Plot_Xlabel)\n",
    "\n",
    "else:\n",
    "    #Partition data into training and test set\n",
    "    createTrain_Test(Genotypes,training_size = 0.7, fixed = True)\n",
    "    \n",
    "    Parameters = setParameters(Paths,\n",
    "                               shapeY = 50, shapeX = 50,\n",
    "                               dropout_rate = 0,\n",
    "                               LR = 0.0001,\n",
    "                               num_nodes = 256,\n",
    "                               VGG16 = True,\n",
    "                               Dropout = False)\n",
    "    \n",
    "    Hist,Mdl,labels = runModel(Paths,Genotypes,Parameters,epochs=2)\n",
    "    Mdl.genes = list(labels.keys())\n",
    "    Mdl.save(\"model_1.h5\")\n",
    "    plot_loss_acc(Hist)\n",
    "    \n",
    "    \n",
    "    #Format predictions to 4 decimal points\n",
    "    float_formatter = lambda x: \"%.4f\" % x\n",
    "    np.set_printoptions(formatter={'float_kind':float_formatter})\n",
    "    \n",
    "    #Predict Inages in prediction path and save predictions to a csv file\n",
    "    predictionFiles, predictions = predictClass(Mdl,Paths, Parameters, class_mode='categorical')\n",
    "    savePredictions(Paths,labels,predictions,predictionFiles,Parameters)\n",
    "\n"
   ]
  },
  {
   "cell_type": "code",
   "execution_count": 6,
   "metadata": {},
   "outputs": [
    {
     "name": "stdout",
     "output_type": "stream",
     "text": [
      "{'4thPhenotypePNG': 0, 'HHPNG': 1, 'WildtypePNG': 2, 'fss_tbx6PNG': 3}\n",
      "dict_keys(['4thPhenotypePNG', 'HHPNG', 'WildtypePNG', 'fss_tbx6PNG'])\n",
      "4thPhenotypePNG\n",
      "ListWrapper(['4thPhenotypePNG', 'HHPNG', 'WildtypePNG', 'fss_tbx6PNG'])\n"
     ]
    }
   ],
   "source": [
    "print(labels)\n",
    "print(labels.keys())\n",
    "a = list(labels.keys())\n",
    "#a = labels.keys()\n",
    "print(a[0])\n",
    "print(Mdl.genes)"
   ]
  },
  {
   "cell_type": "code",
   "execution_count": 7,
   "metadata": {},
   "outputs": [
    {
     "name": "stdout",
     "output_type": "stream",
     "text": [
      "4thPhenotypePNG\n"
     ]
    }
   ],
   "source": [
    "print(Mdl.genes[0])"
   ]
  },
  {
   "cell_type": "code",
   "execution_count": null,
   "metadata": {},
   "outputs": [],
   "source": []
  }
 ],
 "metadata": {
  "accelerator": "GPU",
  "colab": {
   "collapsed_sections": [],
   "name": "Classifier.ipynb",
   "provenance": [],
   "version": "0.3.2"
  },
  "kernelspec": {
   "display_name": "Python 3",
   "language": "python",
   "name": "python3"
  },
  "language_info": {
   "codemirror_mode": {
    "name": "ipython",
    "version": 3
   },
   "file_extension": ".py",
   "mimetype": "text/x-python",
   "name": "python",
   "nbconvert_exporter": "python",
   "pygments_lexer": "ipython3",
   "version": "3.6.8"
  }
 },
 "nbformat": 4,
 "nbformat_minor": 1
}
