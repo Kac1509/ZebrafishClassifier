{
 "cells": [
  {
   "cell_type": "markdown",
   "metadata": {
    "colab_type": "text",
    "id": "view-in-github"
   },
   "source": [
    "<a href=\"https://colab.research.google.com/github/Kac1509/ZebrafishClassifier/blob/master/ClassifierFinal.ipynb\" target=\"_parent\"><img src=\"https://colab.research.google.com/assets/colab-badge.svg\" alt=\"Open In Colab\"/></a>"
   ]
  },
  {
   "cell_type": "code",
   "execution_count": null,
   "metadata": {
    "colab": {
     "base_uri": "https://localhost:8080/",
     "height": 73
    },
    "colab_type": "code",
    "id": "Ur52mAVT78Ee",
    "outputId": "9d21d8e8-0666-40f7-cde6-3e7e16e6ce06"
   },
   "outputs": [],
   "source": [
    "import sys\n",
    "import os\n",
    "\n",
    "#Set if running locally or in Google Col}aboratory\n",
    "Colab = False\n",
    "if Colab:\n",
    "    Script_path = '/content/gdrive/My Drive/Colab Notebooks/CNN_Classifier/scripts'\n",
    "    Base_path = '/content/gdrive/My Drive/Colab Notebooks/CNN_Classifier/'\n",
    "    from google.colab import drive\n",
    "    drive.mount('/content/gdrive')\n",
    "else:\n",
    "    Script_path = os.getcwd() + '/CNN_Classifier/scripts'\n",
    "    Base_path = 'CNN_Classifier/'\n",
    "\n",
    "#Add script folder to system path\n",
    "sys.path.insert(0, Script_path)\n",
    "print(sys.path)\n",
    "\n",
    "%load_ext autoreload\n",
    "%autoreload 2\n",
    "\n",
    "\n",
    "from CNN_Model import *\n",
    "from DataVisualization import *\n",
    "from Genotype import *\n",
    "from HyperparameterTuning import *\n",
    "from Predictions import *\n",
    "from Setup import *\n",
    "#from run import *\n",
    "\n"
   ]
  },
  {
   "cell_type": "code",
   "execution_count": null,
   "metadata": {
    "colab": {},
    "colab_type": "code",
    "id": "Vw-2H_Os70cO",
    "scrolled": true
   },
   "outputs": [],
   "source": [
    "Paths = setupEnvironment(Base_path,'Data4types.zip')"
   ]
  },
  {
   "cell_type": "code",
   "execution_count": null,
   "metadata": {},
   "outputs": [],
   "source": [
    "Genotypes = createGenotypes(Paths)"
   ]
  },
  {
   "cell_type": "code",
   "execution_count": null,
   "metadata": {
    "colab": {
     "base_uri": "https://localhost:8080/",
     "height": 1343
    },
    "colab_type": "code",
    "id": "9ti00kPnYqb4",
    "outputId": "ad18fc4e-e57d-4ee1-ec30-24fb4017d690",
    "scrolled": false
   },
   "outputs": [],
   "source": [
    "Tuning = False\n",
    "if Tuning:\n",
    "\n",
    "    #These are the hyperparameters tested\n",
    "    #learning_rates = np.logspace(-7, -2, 7)\n",
    "    #hidden_nodes = [4, 8, 16, 32, 64, 128, 256, 512, 1024]\n",
    "    #input_sizes = [[75,750],[75,375], [75,150], [75,75], [50,50]]\n",
    "    dropout = np.linspace(0.1, 0.5, 5)\n",
    "    Plot_Xlabel = 'Dropout Rate'\n",
    "    \n",
    "    \n",
    "    Parameters = setParameters(Paths, shapeY = 50, shapeX = 50,\n",
    "                                    dropout_rate = 0,\n",
    "                                    LR = 0.0001,\n",
    "                                    num_nodes = 256,\n",
    "                                    VGG16 = True,\n",
    "                                    Dropout = False)\n",
    "    Hyperparameters,Losses = Hyperparameter_tuning(Paths,\n",
    "                                                   Genotypes,\n",
    "                                                   Parameters,\n",
    "                                                   Hyperparameter = dropout,\n",
    "                                                   epochs = 3,\n",
    "                                                   k_fold = 2)\n",
    "    \n",
    "    cross_validation_visualization(Hyperparameters,Losses[0], Losses[1],Losses[2], Losses[3],Plot_Xlabel)\n",
    "\n",
    "else:\n",
    "    #Partition data into training and test set\n",
    "    createTrain_Test(Genotypes,training_size = 0.7, fixed = True)\n",
    "    \n",
    "    Parameters = setParameters(Paths,\n",
    "                               shapeY = 50, shapeX = 50,\n",
    "                               dropout_rate = 0,\n",
    "                               LR = 0.0001,\n",
    "                               num_nodes = 256,\n",
    "                               VGG16 = True,\n",
    "                               Dropout = False)\n",
    "    \n",
    "    Hist,Mdl,labels = runModel(Paths,Genotypes,Parameters,epochs=2)\n",
    "    Mdl.genes = list(labels.keys())\n",
    "    Mdl.save(\"model_1.h5\")\n",
    "    plot_loss_acc(Hist)\n",
    "    \n",
    "    \n",
    "    #Format predictions to 4 decimal points\n",
    "    float_formatter = lambda x: \"%.4f\" % x\n",
    "    np.set_printoptions(formatter={'float_kind':float_formatter})\n",
    "    \n",
    "    #Predict Inages in prediction path and save predictions to a csv file\n",
    "    predictionFiles, predictions = predictClass(Mdl,Paths, Parameters, class_mode='categorical')\n",
    "    savePredictions(Paths,labels,predictions,predictionFiles,Parameters)\n",
    "\n"
   ]
  },
  {
   "cell_type": "code",
   "execution_count": null,
   "metadata": {},
   "outputs": [],
   "source": [
    "print(labels)\n",
    "print(labels.keys())\n",
    "a = list(labels.keys())\n",
    "#a = labels.keys()\n",
    "print(a[0])\n",
    "print(Mdl.genes)"
   ]
  },
  {
   "cell_type": "code",
   "execution_count": null,
   "metadata": {},
   "outputs": [],
   "source": [
    "print(Mdl.genes[0])"
   ]
  },
  {
   "cell_type": "code",
   "execution_count": null,
   "metadata": {},
   "outputs": [],
   "source": []
  }
 ],
 "metadata": {
  "accelerator": "GPU",
  "colab": {
   "collapsed_sections": [],
   "name": "Classifier.ipynb",
   "provenance": [],
   "version": "0.3.2"
  },
  "kernelspec": {
   "display_name": "Python 3",
   "language": "python",
   "name": "python3"
  },
  "language_info": {
   "codemirror_mode": {
    "name": "ipython",
    "version": 3
   },
   "file_extension": ".py",
   "mimetype": "text/x-python",
   "name": "python",
   "nbconvert_exporter": "python",
   "pygments_lexer": "ipython3",
   "version": "3.6.8"
  }
 },
 "nbformat": 4,
 "nbformat_minor": 1
}
