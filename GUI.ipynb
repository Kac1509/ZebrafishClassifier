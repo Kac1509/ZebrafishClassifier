{
 "cells": [
  {
   "cell_type": "code",
   "execution_count": 9,
   "metadata": {},
   "outputs": [],
   "source": [
    "import tkinter\n",
    "from tkinter import filedialog"
   ]
  },
  {
   "cell_type": "code",
   "execution_count": 12,
   "metadata": {},
   "outputs": [
    {
     "name": "stdout",
     "output_type": "stream",
     "text": [
      "C:/Users/Kaleem/EPFL/ZebrafishProject/Images/DataPNG/4thPhenotypePNGCAM/Class_0_2_DAPT50ISC_2.png\n"
     ]
    }
   ],
   "source": [
    "window = tkinter.Tk()\n",
    "window.title('GUI')\n",
    "\n",
    "def function():\n",
    "    pass\n",
    "def functionOpen():\n",
    "    filename = filedialog.askopenfilename(initialdir = \"/\",title = \"Select file\",filetypes = ((\"jpeg files\",\"*.jpg\"),(\"all files\",\"*.*\")))\n",
    "    print (filename)\n",
    "\n",
    "\n",
    "\n",
    "root_menu = tkinter.Menu(window)\n",
    "window.config(menu = root_menu)\n",
    "\n",
    "# creating sub menus in the root menu\n",
    "file_menu = tkinter.Menu(root_menu) # it intializes a new su menu in the root menu\n",
    "root_menu.add_cascade(label = \"File\", menu = file_menu) # it creates the name of the sub menu\n",
    "file_menu.add_command(label = \"New file.....\", command = function) # it adds a option to the sub menu 'command' parameter is used to do some action\n",
    "file_menu.add_command(label = \"Open files\", command = functionOpen)\n",
    "file_menu.add_separator() # it adds a line after the 'Open files' option\n",
    "file_menu.add_command(label = \"Exit\", command = root_menu.quit)\n",
    "\n",
    "# creting another sub menu\n",
    "edit_menu = tkinter.Menu(root_menu)\n",
    "root_menu.add_cascade(label = \"Edit\", menu = edit_menu)\n",
    "edit_menu.add_command(label = \"Undo\", command = function)\n",
    "edit_menu.add_command(label = \"Redo\", command = function)\n",
    "\n",
    "window.mainloop()"
   ]
  },
  {
   "cell_type": "code",
   "execution_count": null,
   "metadata": {},
   "outputs": [],
   "source": []
  }
 ],
 "metadata": {
  "kernelspec": {
   "display_name": "Python 3",
   "language": "python",
   "name": "python3"
  }
 },
 "nbformat": 4,
 "nbformat_minor": 2
}
