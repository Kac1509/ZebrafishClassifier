{
 "cells": [
  {
   "cell_type": "code",
   "execution_count": 1,
   "metadata": {
    "colab": {
     "base_uri": "https://localhost:8080/",
     "height": 55
    },
    "colab_type": "code",
    "executionInfo": {
     "elapsed": 405,
     "status": "ok",
     "timestamp": 1544998210538,
     "user": {
      "displayName": "Lazar Stojkovic",
      "photoUrl": "",
      "userId": "01673518040152190517"
     },
     "user_tz": -60
    },
    "id": "or839YrWJy1g",
    "outputId": "51c27b65-ec8d-476c-9adf-9387f70c110e"
   },
   "outputs": [
    {
     "name": "stdout",
     "output_type": "stream",
     "text": [
      "Drive already mounted at /content/gdrive; to attempt to forcibly remount, call drive.mount(\"/content/gdrive\", force_remount=True).\n"
     ]
    }
   ],
   "source": [
    "# from google.colab import drive\n",
    "# drive.mount('/content/gdrive')"
   ]
  },
  {
   "cell_type": "code",
   "execution_count": 1,
   "metadata": {
    "colab": {},
    "colab_type": "code",
    "id": "L9GCr8vXJ-2i"
   },
   "outputs": [],
   "source": [
    "import sys\n",
    "sys.path.insert(0, 'scripts')\n",
    "#print sys.path\n",
    "\n",
    "import os\n",
    "import warnings\n",
    "warnings.filterwarnings(\"ignore\", category=DeprecationWarning)\n",
    "\n",
    "from unzip_data import *\n",
    "from separete_train_test_data import *\n",
    "from KNN_helpers import *\n",
    "from Helpers import *\n",
    "\n",
    "from Setup import *\n",
    "\n",
    "Script_path = os.getcwd() + '/scripts'\n",
    "Base_path = ''\n",
    "\n",
    "shapeY = 150\n",
    "shapeX = 750\n",
    "color_channels = 3\n"
   ]
  },
  {
   "cell_type": "code",
   "execution_count": 2,
   "metadata": {},
   "outputs": [],
   "source": [
    "Paths = setupEnvironment(Base_path,'DataStraightened.zip')"
   ]
  },
  {
   "cell_type": "code",
   "execution_count": 3,
   "metadata": {},
   "outputs": [],
   "source": [
    "separete_train_test_data('ExtractedData', training_size = 20)"
   ]
  },
  {
   "cell_type": "code",
   "execution_count": 4,
   "metadata": {
    "colab": {
     "base_uri": "https://localhost:8080/",
     "height": 126
    },
    "colab_type": "code",
    "executionInfo": {
     "elapsed": 1832,
     "status": "ok",
     "timestamp": 1544998216236,
     "user": {
      "displayName": "Lazar Stojkovic",
      "photoUrl": "",
      "userId": "01673518040152190517"
     },
     "user_tz": -60
    },
    "id": "GitivmDdv4Sx",
    "outputId": "aa9c23f3-af80-44a0-a862-0be47bc2bea7"
   },
   "outputs": [
    {
     "name": "stdout",
     "output_type": "stream",
     "text": [
      "TRAIN\n",
      "[INFO] pixels matrix: 13.18MB\n",
      "[INFO] features matrix: 5.12MB\n",
      "TEST\n",
      "[INFO] pixels matrix: 43.51MB\n",
      "[INFO] features matrix: 16.90MB\n"
     ]
    }
   ],
   "source": [
    "print('TRAIN')\n",
    "class0_train = read_images('ExtractedData/Train/her1her7s/*.png')\n",
    "class1_train = read_images('ExtractedData/Train/fsstbx6s/*.png')\n",
    "class2_train = read_images('ExtractedData/Train/WTs/*.png')\n",
    "rawImages, _ = images_to_rawpixels(class0_train, class1_train, class2_train, shapeX, shapeY)\n",
    "features, labels = images_to_hystogram_features(class0_train, class1_train, class2_train)\n",
    "\n",
    "\n",
    "print('TEST')\n",
    "class0_test = read_images('ExtractedData/Test/her1her7s/*.png')\n",
    "class1_test = read_images('ExtractedData/Test/fsstbx6s/*.png')\n",
    "class2_test = read_images('ExtractedData/Test/WTs/*.png')\n",
    "rawImagesTest, _ = images_to_rawpixels(class0_test, class1_test, class2_test, shapeX, shapeY)\n",
    "featuresTest, labelsTest = images_to_hystogram_features(class0_test, class1_test, class2_test)"
   ]
  },
  {
   "cell_type": "code",
   "execution_count": 6,
   "metadata": {
    "colab": {
     "base_uri": "https://localhost:8080/",
     "height": 90
    },
    "colab_type": "code",
    "executionInfo": {
     "elapsed": 1769,
     "status": "ok",
     "timestamp": 1544998247584,
     "user": {
      "displayName": "Lazar Stojkovic",
      "photoUrl": "",
      "userId": "01673518040152190517"
     },
     "user_tz": -60
    },
    "id": "FXbqxzqY6gcX",
    "outputId": "843c1151-6e54-4ce3-cdbc-f037ba6f3fae"
   },
   "outputs": [
    {
     "name": "stdout",
     "output_type": "stream",
     "text": [
      "[INFO] model accuracy: 80.30%\n",
      "[INFO] model certainty: [0.83%:0.81%]\n",
      "[INFO] model accuracy: 47.73%\n",
      "[INFO] model certainty: [0.75%:0.74%]\n"
     ]
    },
    {
     "data": {
      "text/plain": [
       "(0.4772727272727273, array([[0.33333333, 0.66666667],\n",
       "        [0.33333333, 0.66666667],\n",
       "        [0.33333333, 0.66666667],\n",
       "        [0.33333333, 0.66666667],\n",
       "        [0.33333333, 0.66666667],\n",
       "        [0.        , 1.        ],\n",
       "        [0.        , 1.        ],\n",
       "        [0.66666667, 0.33333333],\n",
       "        [0.33333333, 0.66666667],\n",
       "        [0.66666667, 0.33333333],\n",
       "        [0.66666667, 0.33333333],\n",
       "        [0.66666667, 0.33333333],\n",
       "        [0.33333333, 0.66666667],\n",
       "        [0.33333333, 0.66666667],\n",
       "        [0.66666667, 0.33333333],\n",
       "        [0.        , 1.        ],\n",
       "        [0.33333333, 0.66666667],\n",
       "        [0.66666667, 0.33333333],\n",
       "        [0.33333333, 0.66666667],\n",
       "        [0.33333333, 0.66666667],\n",
       "        [0.66666667, 0.33333333],\n",
       "        [0.33333333, 0.66666667],\n",
       "        [0.66666667, 0.33333333],\n",
       "        [0.33333333, 0.66666667],\n",
       "        [0.33333333, 0.66666667],\n",
       "        [0.66666667, 0.33333333],\n",
       "        [0.66666667, 0.33333333],\n",
       "        [1.        , 0.        ],\n",
       "        [0.33333333, 0.66666667],\n",
       "        [0.33333333, 0.66666667],\n",
       "        [0.66666667, 0.33333333],\n",
       "        [0.33333333, 0.66666667],\n",
       "        [0.66666667, 0.33333333],\n",
       "        [0.33333333, 0.66666667],\n",
       "        [0.33333333, 0.66666667],\n",
       "        [0.66666667, 0.33333333],\n",
       "        [0.33333333, 0.66666667],\n",
       "        [0.66666667, 0.33333333],\n",
       "        [0.33333333, 0.66666667],\n",
       "        [0.66666667, 0.33333333],\n",
       "        [0.        , 1.        ],\n",
       "        [0.66666667, 0.33333333],\n",
       "        [0.        , 1.        ],\n",
       "        [0.33333333, 0.66666667],\n",
       "        [0.        , 1.        ],\n",
       "        [0.33333333, 0.66666667],\n",
       "        [0.66666667, 0.33333333],\n",
       "        [0.33333333, 0.66666667],\n",
       "        [0.33333333, 0.66666667],\n",
       "        [0.33333333, 0.66666667],\n",
       "        [0.33333333, 0.66666667],\n",
       "        [0.33333333, 0.66666667],\n",
       "        [0.        , 1.        ],\n",
       "        [0.66666667, 0.33333333],\n",
       "        [0.66666667, 0.33333333],\n",
       "        [1.        , 0.        ],\n",
       "        [0.        , 1.        ],\n",
       "        [0.66666667, 0.33333333],\n",
       "        [0.33333333, 0.66666667],\n",
       "        [1.        , 0.        ],\n",
       "        [0.66666667, 0.33333333],\n",
       "        [0.66666667, 0.33333333],\n",
       "        [0.66666667, 0.33333333],\n",
       "        [1.        , 0.        ],\n",
       "        [0.33333333, 0.66666667],\n",
       "        [0.        , 1.        ],\n",
       "        [1.        , 0.        ],\n",
       "        [0.        , 1.        ],\n",
       "        [1.        , 0.        ],\n",
       "        [0.        , 1.        ],\n",
       "        [0.33333333, 0.66666667],\n",
       "        [0.66666667, 0.33333333],\n",
       "        [0.33333333, 0.66666667],\n",
       "        [0.66666667, 0.33333333],\n",
       "        [0.33333333, 0.66666667],\n",
       "        [0.33333333, 0.66666667],\n",
       "        [0.33333333, 0.66666667],\n",
       "        [0.33333333, 0.66666667],\n",
       "        [0.33333333, 0.66666667],\n",
       "        [0.33333333, 0.66666667],\n",
       "        [0.33333333, 0.66666667],\n",
       "        [0.66666667, 0.33333333],\n",
       "        [0.33333333, 0.66666667],\n",
       "        [0.66666667, 0.33333333],\n",
       "        [0.33333333, 0.66666667],\n",
       "        [0.33333333, 0.66666667],\n",
       "        [1.        , 0.        ],\n",
       "        [0.66666667, 0.33333333],\n",
       "        [0.        , 1.        ],\n",
       "        [0.33333333, 0.66666667],\n",
       "        [0.66666667, 0.33333333],\n",
       "        [0.33333333, 0.66666667],\n",
       "        [0.33333333, 0.66666667],\n",
       "        [0.33333333, 0.66666667],\n",
       "        [0.33333333, 0.66666667],\n",
       "        [0.33333333, 0.66666667],\n",
       "        [0.        , 1.        ],\n",
       "        [0.66666667, 0.33333333],\n",
       "        [0.66666667, 0.33333333],\n",
       "        [1.        , 0.        ],\n",
       "        [0.        , 1.        ],\n",
       "        [0.66666667, 0.33333333],\n",
       "        [0.33333333, 0.66666667],\n",
       "        [1.        , 0.        ],\n",
       "        [0.66666667, 0.33333333],\n",
       "        [0.66666667, 0.33333333],\n",
       "        [0.66666667, 0.33333333],\n",
       "        [1.        , 0.        ],\n",
       "        [0.33333333, 0.66666667],\n",
       "        [0.        , 1.        ],\n",
       "        [1.        , 0.        ],\n",
       "        [0.        , 1.        ],\n",
       "        [1.        , 0.        ],\n",
       "        [0.        , 1.        ],\n",
       "        [0.33333333, 0.66666667],\n",
       "        [0.66666667, 0.33333333],\n",
       "        [0.33333333, 0.66666667],\n",
       "        [0.66666667, 0.33333333],\n",
       "        [0.33333333, 0.66666667],\n",
       "        [0.33333333, 0.66666667],\n",
       "        [0.33333333, 0.66666667],\n",
       "        [0.33333333, 0.66666667],\n",
       "        [0.33333333, 0.66666667],\n",
       "        [0.33333333, 0.66666667],\n",
       "        [0.33333333, 0.66666667],\n",
       "        [0.66666667, 0.33333333],\n",
       "        [0.33333333, 0.66666667],\n",
       "        [0.66666667, 0.33333333],\n",
       "        [0.33333333, 0.66666667],\n",
       "        [0.33333333, 0.66666667],\n",
       "        [1.        , 0.        ],\n",
       "        [0.66666667, 0.33333333]]))"
      ]
     },
     "execution_count": 6,
     "metadata": {},
     "output_type": "execute_result"
    }
   ],
   "source": [
    "modelR = train_knn(3, rawImages, labels)\n",
    "modelH = train_knn(3, features, labels)\n",
    "evaluate_knn(modelR, rawImagesTest, labelsTest)\n",
    "evaluate_knn(modelH, featuresTest, labelsTest)"
   ]
  },
  {
   "cell_type": "code",
   "execution_count": 1,
   "metadata": {
    "colab": {},
    "colab_type": "code",
    "id": "GTUuS9uMMY2e"
   },
   "outputs": [],
   "source": [
    "from main_knn import *"
   ]
  },
  {
   "cell_type": "code",
   "execution_count": 2,
   "metadata": {},
   "outputs": [
    {
     "name": "stdout",
     "output_type": "stream",
     "text": [
      "TRAIN\n",
      "[INFO] pixels matrix: 13.18MB\n",
      "[INFO] features matrix: 5.12MB\n",
      "TEST\n",
      "[INFO] pixels matrix: 43.51MB\n",
      "[INFO] features matrix: 16.90MB\n",
      "\n",
      "Raw pixels\n",
      "[INFO] model accuracy: 67.42%\n",
      "[INFO] model certainty: [0.82%:0.80%]\n",
      "\n",
      "Hystogram\n",
      "[INFO] model accuracy: 63.64%\n",
      "[INFO] model certainty: [0.75%:0.70%]\n"
     ]
    }
   ],
   "source": [
    "run_knn(3)"
   ]
  },
  {
   "cell_type": "code",
   "execution_count": 3,
   "metadata": {},
   "outputs": [
    {
     "name": "stdout",
     "output_type": "stream",
     "text": [
      "TRAIN\n",
      "[INFO] pixels matrix: 13.18MB\n",
      "[INFO] features matrix: 5.12MB\n",
      "TEST\n",
      "[INFO] pixels matrix: 43.51MB\n",
      "[INFO] features matrix: 16.90MB\n",
      "\n",
      "Raw pixels\n",
      "[INFO] model accuracy: 56.06%\n",
      "[INFO] model certainty: [0.82%:0.83%]\n",
      "\n",
      "Hystogram\n",
      "[INFO] model accuracy: 59.09%\n",
      "[INFO] model certainty: [0.83%:0.78%]\n",
      "TRAIN\n",
      "[INFO] pixels matrix: 13.18MB\n",
      "[INFO] features matrix: 5.12MB\n",
      "TEST\n",
      "[INFO] pixels matrix: 43.51MB\n",
      "[INFO] features matrix: 16.90MB\n",
      "\n",
      "Raw pixels\n",
      "[INFO] model accuracy: 68.18%\n",
      "[INFO] model certainty: [0.83%:0.82%]\n",
      "\n",
      "Hystogram\n",
      "[INFO] model accuracy: 65.91%\n",
      "[INFO] model certainty: [0.73%:0.75%]\n",
      "TRAIN\n",
      "[INFO] pixels matrix: 13.18MB\n",
      "[INFO] features matrix: 5.12MB\n",
      "TEST\n",
      "[INFO] pixels matrix: 43.51MB\n",
      "[INFO] features matrix: 16.90MB\n",
      "\n",
      "Raw pixels\n",
      "[INFO] model accuracy: 65.91%\n",
      "[INFO] model certainty: [0.79%:0.84%]\n",
      "\n",
      "Hystogram\n",
      "[INFO] model accuracy: 56.82%\n",
      "[INFO] model certainty: [0.82%:0.83%]\n",
      "\n",
      "Raw pixels mean accuracy: 0.6338383838383838\n",
      "\n",
      "Hystogram mean accuracy: 0.6060606060606061\n"
     ]
    }
   ],
   "source": [
    "run_knn_cross(3, 3)"
   ]
  },
  {
   "cell_type": "code",
   "execution_count": null,
   "metadata": {},
   "outputs": [],
   "source": []
  }
 ],
 "metadata": {
  "colab": {
   "collapsed_sections": [],
   "name": "KNNv2.ipynb",
   "provenance": [],
   "version": "0.3.2"
  },
  "kernelspec": {
   "display_name": "Python 3",
   "language": "python",
   "name": "python3"
  },
  "language_info": {
   "codemirror_mode": {
    "name": "ipython",
    "version": 3
   },
   "file_extension": ".py",
   "mimetype": "text/x-python",
   "name": "python",
   "nbconvert_exporter": "python",
   "pygments_lexer": "ipython3",
   "version": "3.6.5"
  }
 },
 "nbformat": 4,
 "nbformat_minor": 1
}
