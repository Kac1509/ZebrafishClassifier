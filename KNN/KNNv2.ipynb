{
 "cells": [
  {
   "cell_type": "code",
   "execution_count": 1,
   "metadata": {
    "colab": {
     "base_uri": "https://localhost:8080/",
     "height": 55
    },
    "colab_type": "code",
    "executionInfo": {
     "elapsed": 405,
     "status": "ok",
     "timestamp": 1544998210538,
     "user": {
      "displayName": "Lazar Stojkovic",
      "photoUrl": "",
      "userId": "01673518040152190517"
     },
     "user_tz": -60
    },
    "id": "or839YrWJy1g",
    "outputId": "51c27b65-ec8d-476c-9adf-9387f70c110e"
   },
   "outputs": [
    {
     "name": "stdout",
     "output_type": "stream",
     "text": [
      "Drive already mounted at /content/gdrive; to attempt to forcibly remount, call drive.mount(\"/content/gdrive\", force_remount=True).\n"
     ]
    }
   ],
   "source": [
    "# from google.colab import drive\n",
    "# drive.mount('/content/gdrive')"
   ]
  },
  {
   "cell_type": "code",
   "execution_count": 1,
   "metadata": {
    "colab": {},
    "colab_type": "code",
    "id": "L9GCr8vXJ-2i"
   },
   "outputs": [],
   "source": [
    "import sys\n",
    "sys.path.insert(0, 'scripts')\n",
    "#print sys.path\n",
    "\n",
    "import os\n",
    "import warnings\n",
    "warnings.filterwarnings(\"ignore\", category=DeprecationWarning)\n",
    "\n",
    "from unzip_data import *\n",
    "from separete_train_test_data import *\n",
    "from KNN_helpers import *\n",
    "\n",
    "zip_path = 'Data.zip'\n",
    "folder_path = 'tmp'\n",
    "\n",
    "shapeY = 150\n",
    "shapeX = 750\n",
    "color_channels = 3"
   ]
  },
  {
   "cell_type": "code",
   "execution_count": 2,
   "metadata": {
    "colab": {},
    "colab_type": "code",
    "id": "tZgtbD5fKFCn"
   },
   "outputs": [],
   "source": [
    "# Unziping(if necessary) and separating data into Train and Validation sets\n",
    "\n",
    "if os.path.isdir(folder_path+'/Data') == False:\n",
    "  unzip_data(zip_path, folder_path)\n",
    "  \n",
    "separete_train_test_data(folder_path, training_size = 20)"
   ]
  },
  {
   "cell_type": "code",
   "execution_count": 3,
   "metadata": {
    "colab": {
     "base_uri": "https://localhost:8080/",
     "height": 126
    },
    "colab_type": "code",
    "executionInfo": {
     "elapsed": 1832,
     "status": "ok",
     "timestamp": 1544998216236,
     "user": {
      "displayName": "Lazar Stojkovic",
      "photoUrl": "",
      "userId": "01673518040152190517"
     },
     "user_tz": -60
    },
    "id": "GitivmDdv4Sx",
    "outputId": "aa9c23f3-af80-44a0-a862-0be47bc2bea7"
   },
   "outputs": [
    {
     "name": "stdout",
     "output_type": "stream",
     "text": [
      "TRAIN\n",
      "[INFO] pixels matrix: 13.18MB\n",
      "[INFO] features matrix: 5.12MB\n",
      "TEST\n",
      "[INFO] pixels matrix: 7.25MB\n",
      "[INFO] features matrix: 2.82MB\n"
     ]
    }
   ],
   "source": [
    "print('TRAIN')\n",
    "class0_train = read_images(folder_path+'/Data/train/her1her7s/*.png')\n",
    "class1_train = read_images(folder_path+'/Data/train/fsstbx6s/*.png')\n",
    "rawImages, _ = images_to_rawpixels(class0_train, class1_train, shapeX, shapeY)\n",
    "features, labels = images_to_hystogram_features(class0_train, class1_train)\n",
    "\n",
    "\n",
    "print('TEST')\n",
    "class0_test = read_images(folder_path+'/Data/test/her1her7s/*.png')\n",
    "class1_test = read_images(folder_path+'/Data/test/fsstbx6s/*.png')\n",
    "rawImagesTest, _ = images_to_rawpixels(class0_test, class1_test, shapeX, shapeY)\n",
    "featuresTest, labelsTest = images_to_hystogram_features(class0_test, class1_test)"
   ]
  },
  {
   "cell_type": "code",
   "execution_count": 4,
   "metadata": {
    "colab": {
     "base_uri": "https://localhost:8080/",
     "height": 90
    },
    "colab_type": "code",
    "executionInfo": {
     "elapsed": 1769,
     "status": "ok",
     "timestamp": 1544998247584,
     "user": {
      "displayName": "Lazar Stojkovic",
      "photoUrl": "",
      "userId": "01673518040152190517"
     },
     "user_tz": -60
    },
    "id": "FXbqxzqY6gcX",
    "outputId": "843c1151-6e54-4ce3-cdbc-f037ba6f3fae"
   },
   "outputs": [
    {
     "name": "stdout",
     "output_type": "stream",
     "text": [
      "[INFO] model accuracy: 95.45%\n",
      "[INFO] model certainty: [0.94%:0.73%]\n",
      "[INFO] model accuracy: 77.27%\n",
      "[INFO] model certainty: [0.86%:0.87%]\n"
     ]
    }
   ],
   "source": [
    "modelR = train_knn(3, rawImages, labels)\n",
    "modelH = train_knn(3, features, labels)\n",
    "evaluate_knn(modelR, rawImagesTest, labelsTest)\n",
    "evaluate_knn(modelH, featuresTest, labelsTest)"
   ]
  },
  {
   "cell_type": "code",
   "execution_count": 1,
   "metadata": {
    "colab": {},
    "colab_type": "code",
    "id": "GTUuS9uMMY2e"
   },
   "outputs": [],
   "source": [
    "from main_knn import *"
   ]
  },
  {
   "cell_type": "code",
   "execution_count": 2,
   "metadata": {},
   "outputs": [
    {
     "name": "stdout",
     "output_type": "stream",
     "text": [
      "TRAIN\n",
      "[INFO] pixels matrix: 13.18MB\n",
      "[INFO] features matrix: 5.12MB\n",
      "TEST\n",
      "[INFO] pixels matrix: 7.25MB\n",
      "[INFO] features matrix: 2.82MB\n",
      "\n",
      "Raw pixels\n",
      "[INFO] model accuracy: 90.91%\n",
      "[INFO] model certainty: [1.00%:0.89%]\n",
      "\n",
      "Hystogram\n",
      "[INFO] model accuracy: 95.45%\n",
      "[INFO] model certainty: [0.92%:0.93%]\n"
     ]
    }
   ],
   "source": [
    "run_knn(3)"
   ]
  },
  {
   "cell_type": "code",
   "execution_count": 4,
   "metadata": {},
   "outputs": [
    {
     "name": "stdout",
     "output_type": "stream",
     "text": [
      "\n",
      "TRAIN\n",
      "[INFO] pixels matrix: 13.18MB\n",
      "[INFO] features matrix: 5.12MB\n",
      "TEST\n",
      "[INFO] pixels matrix: 7.25MB\n",
      "[INFO] features matrix: 2.82MB\n",
      "\n",
      "Raw pixels\n",
      "[INFO] model accuracy: 90.91%\n",
      "[INFO] model certainty: [0.82%:0.81%]\n",
      "\n",
      "Hystogram\n",
      "[INFO] model accuracy: 90.91%\n",
      "[INFO] model certainty: [0.81%:0.87%]\n",
      "\n",
      "TRAIN\n",
      "[INFO] pixels matrix: 13.18MB\n",
      "[INFO] features matrix: 5.12MB\n",
      "TEST\n",
      "[INFO] pixels matrix: 7.25MB\n",
      "[INFO] features matrix: 2.82MB\n",
      "\n",
      "Raw pixels\n",
      "[INFO] model accuracy: 81.82%\n",
      "[INFO] model certainty: [0.96%:0.86%]\n",
      "\n",
      "Hystogram\n",
      "[INFO] model accuracy: 90.91%\n",
      "[INFO] model certainty: [0.87%:0.89%]\n",
      "\n",
      "TRAIN\n",
      "[INFO] pixels matrix: 13.18MB\n",
      "[INFO] features matrix: 5.12MB\n",
      "TEST\n",
      "[INFO] pixels matrix: 7.25MB\n",
      "[INFO] features matrix: 2.82MB\n",
      "\n",
      "Raw pixels\n",
      "[INFO] model accuracy: 95.45%\n",
      "[INFO] model certainty: [0.97%:0.83%]\n",
      "\n",
      "Hystogram\n",
      "[INFO] model accuracy: 77.27%\n",
      "[INFO] model certainty: [0.87%:0.89%]\n",
      "\n",
      "TRAIN\n",
      "[INFO] pixels matrix: 13.18MB\n",
      "[INFO] features matrix: 5.12MB\n",
      "TEST\n",
      "[INFO] pixels matrix: 7.25MB\n",
      "[INFO] features matrix: 2.82MB\n",
      "\n",
      "Raw pixels\n",
      "[INFO] model accuracy: 90.91%\n",
      "[INFO] model certainty: [0.92%:0.78%]\n",
      "\n",
      "Hystogram\n",
      "[INFO] model accuracy: 86.36%\n",
      "[INFO] model certainty: [0.92%:0.80%]\n",
      "\n",
      "TRAIN\n",
      "[INFO] pixels matrix: 13.18MB\n",
      "[INFO] features matrix: 5.12MB\n",
      "TEST\n",
      "[INFO] pixels matrix: 7.25MB\n",
      "[INFO] features matrix: 2.82MB\n",
      "\n",
      "Raw pixels\n",
      "[INFO] model accuracy: 77.27%\n",
      "[INFO] model certainty: [0.92%:0.78%]\n",
      "\n",
      "Hystogram\n",
      "[INFO] model accuracy: 95.45%\n",
      "[INFO] model certainty: [0.90%:0.75%]\n",
      "\n",
      "TRAIN\n",
      "[INFO] pixels matrix: 13.18MB\n",
      "[INFO] features matrix: 5.12MB\n",
      "TEST\n",
      "[INFO] pixels matrix: 7.25MB\n",
      "[INFO] features matrix: 2.82MB\n",
      "\n",
      "Raw pixels\n",
      "[INFO] model accuracy: 95.45%\n",
      "[INFO] model certainty: [0.94%:0.87%]\n",
      "\n",
      "Hystogram\n",
      "[INFO] model accuracy: 81.82%\n",
      "[INFO] model certainty: [0.82%:0.78%]\n",
      "\n",
      "TRAIN\n",
      "[INFO] pixels matrix: 13.18MB\n",
      "[INFO] features matrix: 5.12MB\n",
      "TEST\n",
      "[INFO] pixels matrix: 7.25MB\n",
      "[INFO] features matrix: 2.82MB\n",
      "\n",
      "Raw pixels\n",
      "[INFO] model accuracy: 72.73%\n",
      "[INFO] model certainty: [0.86%:0.80%]\n",
      "\n",
      "Hystogram\n",
      "[INFO] model accuracy: 81.82%\n",
      "[INFO] model certainty: [0.89%:0.86%]\n",
      "\n",
      "TRAIN\n",
      "[INFO] pixels matrix: 13.18MB\n",
      "[INFO] features matrix: 5.12MB\n",
      "TEST\n",
      "[INFO] pixels matrix: 7.25MB\n",
      "[INFO] features matrix: 2.82MB\n",
      "\n",
      "Raw pixels\n",
      "[INFO] model accuracy: 86.36%\n",
      "[INFO] model certainty: [0.86%:0.88%]\n",
      "\n",
      "Hystogram\n",
      "[INFO] model accuracy: 77.27%\n",
      "[INFO] model certainty: [0.86%:0.77%]\n",
      "\n",
      "TRAIN\n",
      "[INFO] pixels matrix: 13.18MB\n",
      "[INFO] features matrix: 5.12MB\n",
      "TEST\n",
      "[INFO] pixels matrix: 7.25MB\n",
      "[INFO] features matrix: 2.82MB\n",
      "\n",
      "Raw pixels\n",
      "[INFO] model accuracy: 90.91%\n",
      "[INFO] model certainty: [1.00%:0.89%]\n",
      "\n",
      "Hystogram\n",
      "[INFO] model accuracy: 90.91%\n",
      "[INFO] model certainty: [0.87%:0.89%]\n",
      "\n",
      "TRAIN\n",
      "[INFO] pixels matrix: 13.18MB\n",
      "[INFO] features matrix: 5.12MB\n",
      "TEST\n",
      "[INFO] pixels matrix: 7.25MB\n",
      "[INFO] features matrix: 2.82MB\n",
      "\n",
      "Raw pixels\n",
      "[INFO] model accuracy: 72.73%\n",
      "[INFO] model certainty: [0.94%:0.73%]\n",
      "\n",
      "Hystogram\n",
      "[INFO] model accuracy: 77.27%\n",
      "[INFO] model certainty: [0.89%:0.73%]\n",
      "\n",
      "Raw pixels mean accuracy: 0.8545454545454545\n",
      "\n",
      "Hystogram mean accuracy: 0.85\n"
     ]
    }
   ],
   "source": [
    "run_knn_cross(3, 10)"
   ]
  },
  {
   "cell_type": "code",
   "execution_count": null,
   "metadata": {},
   "outputs": [],
   "source": []
  }
 ],
 "metadata": {
  "colab": {
   "collapsed_sections": [],
   "name": "KNNv2.ipynb",
   "provenance": [],
   "version": "0.3.2"
  },
  "kernelspec": {
   "display_name": "Python 3",
   "language": "python",
   "name": "python3"
  },
  "language_info": {
   "codemirror_mode": {
    "name": "ipython",
    "version": 3
   },
   "file_extension": ".py",
   "mimetype": "text/x-python",
   "name": "python",
   "nbconvert_exporter": "python",
   "pygments_lexer": "ipython3",
   "version": "3.6.5"
  }
 },
 "nbformat": 4,
 "nbformat_minor": 1
}
