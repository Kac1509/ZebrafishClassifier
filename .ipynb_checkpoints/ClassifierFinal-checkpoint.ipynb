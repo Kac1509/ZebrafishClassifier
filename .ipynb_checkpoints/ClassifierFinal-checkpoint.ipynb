{
 "cells": [
  {
   "cell_type": "markdown",
   "metadata": {
    "colab_type": "text",
    "id": "view-in-github"
   },
   "source": [
    "<a href=\"https://colab.research.google.com/github/Kac1509/ZebrafishClassifier/blob/master/ClassifierTuningHyper.ipynb\" target=\"_parent\"><img src=\"https://colab.research.google.com/assets/colab-badge.svg\" alt=\"Open In Colab\"/></a>"
   ]
  },
  {
   "cell_type": "code",
   "execution_count": 5,
   "metadata": {
    "colab": {
     "base_uri": "https://localhost:8080/",
     "height": 73
    },
    "colab_type": "code",
    "id": "Ur52mAVT78Ee",
    "outputId": "9d21d8e8-0666-40f7-cde6-3e7e16e6ce06"
   },
   "outputs": [
    {
     "name": "stdout",
     "output_type": "stream",
     "text": [
      "['C:\\\\Users\\\\Kaleem\\\\EPFL\\\\Fall 2018\\\\Machine Learning\\\\Project_2\\\\Git\\\\ZebrafishClassifier/Classifier/scripts', 'C:\\\\Users\\\\Kaleem\\\\EPFL\\\\Fall 2018\\\\Machine Learning\\\\Project_2\\\\Git\\\\ZebrafishClassifier/Classifier/scripts', '', 'C:\\\\Users\\\\Kaleem\\\\Anaconda3\\\\python36.zip', 'C:\\\\Users\\\\Kaleem\\\\Anaconda3\\\\DLLs', 'C:\\\\Users\\\\Kaleem\\\\Anaconda3\\\\lib', 'C:\\\\Users\\\\Kaleem\\\\Anaconda3', 'C:\\\\Users\\\\Kaleem\\\\AppData\\\\Roaming\\\\Python\\\\Python36\\\\site-packages', 'C:\\\\Users\\\\Kaleem\\\\Anaconda3\\\\lib\\\\site-packages', 'C:\\\\Users\\\\Kaleem\\\\Anaconda3\\\\lib\\\\site-packages\\\\win32', 'C:\\\\Users\\\\Kaleem\\\\Anaconda3\\\\lib\\\\site-packages\\\\win32\\\\lib', 'C:\\\\Users\\\\Kaleem\\\\Anaconda3\\\\lib\\\\site-packages\\\\Pythonwin', 'C:\\\\Users\\\\Kaleem\\\\Anaconda3\\\\lib\\\\site-packages\\\\IPython\\\\extensions', 'C:\\\\Users\\\\Kaleem\\\\AppData\\\\Roaming\\\\SPB_Data\\\\.ipython']\n",
      "The autoreload extension is already loaded. To reload it, use:\n",
      "  %reload_ext autoreload\n"
     ]
    }
   ],
   "source": [
    "import sys\n",
    "import os\n",
    "\n",
    "#Set if running locally or in Google Col}aboratory\n",
    "Colab = False\n",
    "if Colab:\n",
    "    Script_path = '/content/gdrive/My Drive/Colab Notebooks/Classifier/scripts'\n",
    "    Base_path = '/content/gdrive/My Drive/Colab Notebooks/Classifier/'\n",
    "    from google.colab import drive\n",
    "    drive.mount('/content/gdrive')\n",
    "else:\n",
    "    Script_path = os.getcwd() + '/Classifier/scripts'\n",
    "    Base_path = 'Classifier/'\n",
    "\n",
    "#Add script folder to system path\n",
    "sys.path.insert(0, Script_path)\n",
    "print(sys.path)\n",
    "\n",
    "%load_ext autoreload\n",
    "%autoreload 2\n",
    "\n",
    "from Helpers import *\n",
    "from Genotype import *\n",
    "from predictions import *\n",
    "from Setup import *\n",
    "from CNN_Model import *\n",
    "from HyperparameterTuning import *\n",
    "from dataVisualization import *"
   ]
  },
  {
   "cell_type": "code",
   "execution_count": 2,
   "metadata": {
    "colab": {},
    "colab_type": "code",
    "id": "Vw-2H_Os70cO",
    "scrolled": true
   },
   "outputs": [],
   "source": [
    "Extracted_path,Partitioned_path,Prediction_path,Validation_prediction_path = setupEnvironment(Base_path,'DataStraightened.zip')"
   ]
  },
  {
   "cell_type": "code",
   "execution_count": 3,
   "metadata": {},
   "outputs": [
    {
     "name": "stdout",
     "output_type": "stream",
     "text": [
      "3\n"
     ]
    }
   ],
   "source": [
    "Genotypes = createGenotypes(Extracted_path,Partitioned_path)"
   ]
  },
  {
   "cell_type": "code",
   "execution_count": null,
   "metadata": {
    "colab": {
     "base_uri": "https://localhost:8080/",
     "height": 1343
    },
    "colab_type": "code",
    "id": "9ti00kPnYqb4",
    "outputId": "ad18fc4e-e57d-4ee1-ec30-24fb4017d690",
    "scrolled": false
   },
   "outputs": [
    {
     "name": "stdout",
     "output_type": "stream",
     "text": [
      "31\n",
      "76\n",
      "33\n",
      "Found 63 images belonging to 3 classes.\n",
      "Found 66 images belonging to 3 classes.\n"
     ]
    }
   ],
   "source": [
    "Tuning = False\n",
    "if Tuning:\n",
    "\n",
    "    #learning_rates = np.logspace(-7, -2, 7)\n",
    "    #hidden_nodes = [4, 8, 16, 32, 64]#, 128, 256, 512, 1024]\n",
    "    #input_sizes = [[75,750],[75,375], [75,150], [75,75], [50,50]]\n",
    "    dropout = np.linspace(0.1, 0.99, 2)\n",
    "    Plot_Xlabel = 'Dropout Rate'\n",
    "    \n",
    "    \n",
    "    Hyperparameters = setParameters(Base_path, shapeY = 50, shapeX = 50,\n",
    "                                    dropout_rate = 0,\n",
    "                                    LR = 0.0001,\n",
    "                                    num_nodes = 256,\n",
    "                                    VGG16 = True)\n",
    "    hyperparameters,Losses = Hyperparameter_tuning(Base_path,\n",
    "                                                   Extracted_path,\n",
    "                                                   Partitioned_path,\n",
    "                                                   Genotypes,\n",
    "                                                   Hyperparameters,\n",
    "                                                   HypVals = dropout)\n",
    "    \n",
    "    cross_validation_visualization(hyperparameters,Losses[0], Losses[1],Losses[2], Losses[3],Plot_Xlabel)\n",
    "\n",
    "else:\n",
    "    #Partition data into training and test set\n",
    "    #If fixed set to true, all training and test sets have the same size for all classes \n",
    "    createTrain_Test(Genotypes,0.3, fixed = True)\n",
    "    \n",
    "    Hyperparameters = setParameters(Base_path,\n",
    "                                    shapeY = 50, shapeX = 50,\n",
    "                                    dropout_rate = 0,\n",
    "                                    LR = 0.0001,\n",
    "                                    num_nodes = 256,\n",
    "                                    VGG16 = True)\n",
    "    Gen,Hist,Mdl = runModel(Partitioned_path,Genotypes,Hyperparameters,epochs=3)\n",
    "    plot_loss_acc(Hist)\n",
    "    \n",
    "    \n",
    "    #Format predictions to 4 decimal points\n",
    "    float_formatter = lambda x: \"%.4f\" % x\n",
    "    np.set_printoptions(formatter={'float_kind':float_formatter})\n",
    "    \n",
    "    #Predict Inages in prediction path and save predictions to a csv file\n",
    "    predictionFiles, predictions = predictClass(Mdl,Prediction_path, Hyperparameters, class_mode='categorical')\n",
    "    savePredictions(Base_path,predictions,predictionFiles,Hyperparameters)\n",
    "\n"
   ]
  },
  {
   "cell_type": "code",
   "execution_count": null,
   "metadata": {},
   "outputs": [],
   "source": []
  }
 ],
 "metadata": {
  "accelerator": "GPU",
  "colab": {
   "collapsed_sections": [],
   "name": "Classifier.ipynb",
   "provenance": [],
   "version": "0.3.2"
  },
  "kernelspec": {
   "display_name": "Python 3",
   "language": "python",
   "name": "python3"
  },
  "language_info": {
   "codemirror_mode": {
    "name": "ipython",
    "version": 3
   },
   "file_extension": ".py",
   "mimetype": "text/x-python",
   "name": "python",
   "nbconvert_exporter": "python",
   "pygments_lexer": "ipython3",
   "version": "3.6.5"
  }
 },
 "nbformat": 4,
 "nbformat_minor": 1
}
