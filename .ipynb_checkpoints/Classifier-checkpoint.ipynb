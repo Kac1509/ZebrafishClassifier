{
 "cells": [
  {
   "cell_type": "markdown",
   "metadata": {
    "colab_type": "text",
    "id": "view-in-github"
   },
   "source": [
    "<a href=\"https://colab.research.google.com/github/Kac1509/ZebrafishClassifier/blob/master/Classifier.ipynb\" target=\"_parent\"><img src=\"https://colab.research.google.com/assets/colab-badge.svg\" alt=\"Open In Colab\"/></a>"
   ]
  },
  {
   "cell_type": "code",
   "execution_count": 1,
   "metadata": {
    "colab": {},
    "colab_type": "code",
    "id": "Ur52mAVT78Ee"
   },
   "outputs": [
    {
     "name": "stdout",
     "output_type": "stream",
     "text": [
      "['C:\\\\Users\\\\Kaleem\\\\EPFL\\\\Fall 2018\\\\Machine Learning\\\\Project_2\\\\Git\\\\ZebrafishClassifier/Classifier/scripts', '', 'C:\\\\Users\\\\Kaleem\\\\Anaconda3\\\\python36.zip', 'C:\\\\Users\\\\Kaleem\\\\Anaconda3\\\\DLLs', 'C:\\\\Users\\\\Kaleem\\\\Anaconda3\\\\lib', 'C:\\\\Users\\\\Kaleem\\\\Anaconda3', 'C:\\\\Users\\\\Kaleem\\\\AppData\\\\Roaming\\\\Python\\\\Python36\\\\site-packages', 'C:\\\\Users\\\\Kaleem\\\\Anaconda3\\\\lib\\\\site-packages', 'C:\\\\Users\\\\Kaleem\\\\Anaconda3\\\\lib\\\\site-packages\\\\Sphinx-1.5.6-py3.6.egg', 'C:\\\\Users\\\\Kaleem\\\\Anaconda3\\\\lib\\\\site-packages\\\\win32', 'C:\\\\Users\\\\Kaleem\\\\Anaconda3\\\\lib\\\\site-packages\\\\win32\\\\lib', 'C:\\\\Users\\\\Kaleem\\\\Anaconda3\\\\lib\\\\site-packages\\\\Pythonwin', 'C:\\\\Users\\\\Kaleem\\\\Anaconda3\\\\lib\\\\site-packages\\\\setuptools-27.2.0-py3.6.egg', 'C:\\\\Users\\\\Kaleem\\\\Anaconda3\\\\lib\\\\site-packages\\\\IPython\\\\extensions', 'C:\\\\Users\\\\Kaleem\\\\AppData\\\\Roaming\\\\SPB_Data\\\\.ipython']\n"
     ]
    }
   ],
   "source": [
    "import sys\n",
    "import os\n",
    "\n",
    "#Set if running locally or in Google Colaboratory\n",
    "Colab = False\n",
    "if Colab:\n",
    "    Script_path = '/content/gdrive/My Drive/Colab Notebooks/Classifier/scripts'\n",
    "    Base_path = '/content/gdrive/My Drive/Colab Notebooks/Classifier/'\n",
    "    from google.colab import drive\n",
    "    drive.mount('/content/gdrive')\n",
    "else:\n",
    "    Script_path = os.getcwd() + '/Classifier/scripts'\n",
    "    Base_path = 'Classifier/'\n",
    "\n",
    "#Add script folder to system path\n",
    "sys.path.insert(0, Script_path)\n",
    "print(sys.path)"
   ]
  },
  {
   "cell_type": "code",
   "execution_count": 2,
   "metadata": {
    "colab": {
     "base_uri": "https://localhost:8080/",
     "height": 53
    },
    "colab_type": "code",
    "id": "vOVz8VHo6m98",
    "outputId": "c4adbf83-aee8-4fda-ceff-96a471308a91"
   },
   "outputs": [
    {
     "name": "stderr",
     "output_type": "stream",
     "text": [
      "C:\\Users\\Kaleem\\Anaconda3\\lib\\site-packages\\h5py\\__init__.py:34: FutureWarning: Conversion of the second argument of issubdtype from `float` to `np.floating` is deprecated. In future, it will be treated as `np.float64 == np.dtype(float).type`.\n",
      "  from ._conv import register_converters as _register_converters\n"
     ]
    }
   ],
   "source": [
    "%load_ext autoreload\n",
    "%autoreload 2\n",
    "\n",
    "from build_model_RMSprop import *\n",
    "from create_data_generators import *\n",
    "from createFolders import *\n",
    "from createSets import *\n",
    "from GenotypeClass import *\n",
    "from load_pre_trained_VGG16 import *\n",
    "from load_pre_trained_Inception import *\n",
    "from model_prediction import *\n",
    "from plot_loss_acc import *\n",
    "from predictClass import *\n",
    "from saveFiles import *\n",
    "from unzip_data import *"
   ]
  },
  {
   "cell_type": "code",
   "execution_count": 3,
   "metadata": {
    "colab": {},
    "colab_type": "code",
    "collapsed": true,
    "id": "3x6y3XrYodwr"
   },
   "outputs": [],
   "source": [
    "#Name of the data zipfile\n",
    "Data_file = 'DataStraightened.zip'\n",
    "\n",
    "#Set Paths\n",
    "Zip_path = Base_path + Data_file\n",
    "Extracted_path = Base_path + 'ExtractedData/'\n",
    "Partitioned_path = Base_path + 'PartitionedData/'\n",
    "Prediction_path = Base_path + 'Predictions/'\n",
    "Validation_prediction_path = Base_path + 'Validation_Predictions/'\n"
   ]
  },
  {
   "cell_type": "code",
   "execution_count": 4,
   "metadata": {
    "colab": {},
    "colab_type": "code",
    "collapsed": true,
    "id": "DUAExlCNoi6z"
   },
   "outputs": [],
   "source": [
    "#Specify input parameters for the pre_trained model\n",
    "shapeY = 50\n",
    "shapeX = 150\n",
    "color_channels = 3\n",
    "\n",
    "# Loading pre-trained models\n",
    "\n",
    "#VGG16 Model\n",
    "local_weights_file_VGG16 = Base_path + 'weights/vgg16_weights_tf_dim_ordering_tf_kernels_notop.h5'\n",
    "pre_trained_model_VGG16, last_layer_output_VGG16 = load_pre_trained_VGG16(local_weights_file_VGG16, shapeY, shapeX, color_channels)\n",
    "\n",
    "# Inception Model\n",
    "#local_weights_file_Inception = Base_path + 'weights/inception_v3_weights_tf_dim_ordering_tf_kernels_notop.h5'\n",
    "#pre_trained_model_Inception, last_layer_output_Inception = load_pre_trained_Inception(local_weights_file_Inception, shapeY, shapeX, color_channels)\n"
   ]
  },
  {
   "cell_type": "code",
   "execution_count": 5,
   "metadata": {
    "colab": {},
    "colab_type": "code",
    "collapsed": true,
    "id": "ePzQOg8kjCOc"
   },
   "outputs": [],
   "source": [
    "#Clear Folders and create Prediction folder\n",
    "deleteFiles(Extracted_path)\n",
    "deleteFiles(Partitioned_path)\n",
    "createFolder(Prediction_path)\n"
   ]
  },
  {
   "cell_type": "code",
   "execution_count": 7,
   "metadata": {
    "colab": {},
    "colab_type": "code",
    "collapsed": true,
    "id": "Vw-2H_Os70cO"
   },
   "outputs": [],
   "source": [
    "#Extract Data\n",
    "unzip_data(Zip_path, Extracted_path)"
   ]
  },
  {
   "cell_type": "code",
   "execution_count": 8,
   "metadata": {
    "colab": {
     "base_uri": "https://localhost:8080/",
     "height": 33
    },
    "colab_type": "code",
    "id": "rMFVYSAGSyT2",
    "outputId": "8e7fe596-6f49-4b9a-b059-69551fdf87ac"
   },
   "outputs": [
    {
     "name": "stdout",
     "output_type": "stream",
     "text": [
      "3\n"
     ]
    }
   ],
   "source": [
    "\n",
    "Genotypes = []\n",
    "num_classes = len(glob.glob(Extracted_path+'*'))\n",
    "for i in range(num_classes):\n",
    "        #Retrieve directory for a given type\n",
    "        Genotype_name = os.listdir(Extracted_path)[i]\n",
    "        Genotypes.append(Genotype(Genotype_name))\n",
    "print(num_classes)\n",
    "createDirectories(num_classes,Extracted_path,Partitioned_path,Genotypes)\n"
   ]
  },
  {
   "cell_type": "code",
   "execution_count": 9,
   "metadata": {
    "colab": {
     "base_uri": "https://localhost:8080/",
     "height": 122
    },
    "colab_type": "code",
    "id": "8sWuDG4ZfxWq",
    "outputId": "49013717-41bb-4fb1-e32a-d6971baabdd8"
   },
   "outputs": [
    {
     "name": "stdout",
     "output_type": "stream",
     "text": [
      "<PIL.PngImagePlugin.PngImageFile image mode=RGB size=1359x150 at 0x2484427D320>\n"
     ]
    },
    {
     "data": {
      "text/plain": [
       "<matplotlib.image.AxesImage at 0x2484633ce48>"
      ]
     },
     "execution_count": 9,
     "metadata": {},
     "output_type": "execute_result"
    },
    {
     "data": {
      "image/png": "[encoded data removed]",
      "text/plain": [
       "<matplotlib.figure.Figure at 0x248440c0eb8>"
      ]
     },
     "metadata": {},
     "output_type": "display_data"
    }
   ],
   "source": [
    "#Sample Image \n",
    "print(Genotypes[1].images[0])\n",
    "plt.imshow(Genotypes[1].images[0])"
   ]
  },
  {
   "cell_type": "code",
   "execution_count": 10,
   "metadata": {
    "colab": {
     "base_uri": "https://localhost:8080/",
     "height": 67
    },
    "colab_type": "code",
    "id": "Q8Mxl55WUHxt",
    "outputId": "2933d460-ff55-4777-81fe-64aead1a390d"
   },
   "outputs": [
    {
     "name": "stdout",
     "output_type": "stream",
     "text": [
      "31\n",
      "76\n",
      "33\n"
     ]
    }
   ],
   "source": [
    "#Partition data into training and test set\n",
    "#If fixed set to true, all training and test sets have the same size for all classes \n",
    "createTrain_Test(Genotypes,0.5, fixed = True)"
   ]
  },
  {
   "cell_type": "code",
   "execution_count": 11,
   "metadata": {
    "colab": {},
    "colab_type": "code",
    "collapsed": true,
    "id": "B1D3MP_Los63"
   },
   "outputs": [],
   "source": [
    "#Save partitions to respective folders\n",
    "saveFiles(Genotypes)"
   ]
  },
  {
   "cell_type": "code",
   "execution_count": 12,
   "metadata": {
    "colab": {
     "base_uri": "https://localhost:8080/",
     "height": 50
    },
    "colab_type": "code",
    "id": "Ycos0OdbhXUt",
    "outputId": "b85a4677-46b2-4ed4-8703-f5d20233d73b"
   },
   "outputs": [
    {
     "name": "stdout",
     "output_type": "stream",
     "text": [
      "Found 48 images belonging to 3 classes.\n",
      "Found 45 images belonging to 3 classes.\n"
     ]
    }
   ],
   "source": [
    "# Creating training and validation data generators from separated data\n",
    "# Transformations are for training generator only\n",
    "\n",
    "train_generator, validation_generator = create_data_generators(\n",
    "    Partitioned_path,\n",
    "    shapeY, shapeX, \n",
    "    train_batch_size=12, \n",
    "    validation_batch_size=15,\n",
    "    class_mode='categorical')#,\n",
    "    #rotation_range=30,\n",
    "    #width_shift_range=0.3,\n",
    "    #height_shift_range=0.3,\n",
    "    #shear_range=0.3,\n",
    "    #zoom_range=0.3)"
   ]
  },
  {
   "cell_type": "code",
   "execution_count": 77,
   "metadata": {
    "colab": {},
    "colab_type": "code",
    "collapsed": true,
    "id": "sduGk0XEiLBZ"
   },
   "outputs": [],
   "source": [
    "# Building model\n",
    "learning_rate = 0.00001\n",
    "hidden_units_num = 1024\n",
    "model = build_model_RMSprop(pre_trained_model_VGG16, last_layer_output_VGG16, \n",
    "                            learning_rate = learning_rate , hidden_units_num = hidden_units_num,num_classes=num_classes,activation = 'softmax')"
   ]
  },
  {
   "cell_type": "code",
   "execution_count": 14,
   "metadata": {
    "colab": {
     "base_uri": "https://localhost:8080/",
     "height": 1689
    },
    "colab_type": "code",
    "id": "nqyqXPPtkWeB",
    "outputId": "42359211-faa8-4d1c-a1c8-012502d9ce82"
   },
   "outputs": [
    {
     "name": "stdout",
     "output_type": "stream",
     "text": [
      "Epoch 1/5\n",
      " - 11s - loss: 0.6559 - acc: 0.6597 - val_loss: 0.6295 - val_acc: 0.6667\n",
      "Epoch 2/5\n",
      " - 11s - loss: 0.6171 - acc: 0.6597 - val_loss: 0.6078 - val_acc: 0.6667\n",
      "Epoch 3/5\n",
      " - 8s - loss: 0.5972 - acc: 0.6667 - val_loss: 0.5896 - val_acc: 0.6667\n",
      "Epoch 4/5\n",
      " - 8s - loss: 0.5773 - acc: 0.6667 - val_loss: 0.5741 - val_acc: 0.6667\n",
      "Epoch 5/5\n",
      " - 8s - loss: 0.5590 - acc: 0.6667 - val_loss: 0.5593 - val_acc: 0.6667\n"
     ]
    }
   ],
   "source": [
    "# Training model\n",
    "\n",
    "history = model.fit_generator(\n",
    "      train_generator,\n",
    "      steps_per_epoch=4,\n",
    "      epochs=5,\n",
    "      validation_data=validation_generator,\n",
    "      validation_steps=3,\n",
    "      verbose=2)"
   ]
  },
  {
   "cell_type": "code",
   "execution_count": 43,
   "metadata": {
    "colab": {
     "base_uri": "https://localhost:8080/",
     "height": 920
    },
    "colab_type": "code",
    "id": "b0qKY73VkdXj",
    "outputId": "9154b43a-790b-4244-c60d-138ea70f815d"
   },
   "outputs": [
    {
     "name": "stdout",
     "output_type": "stream",
     "text": [
      "Found 15 images belonging to 1 classes.\n",
      "15/15 [==============================] - 2s 125ms/step\n",
      "fsstbx6s\n",
      "[[0.2393 0.3806 0.3801]\n",
      " [0.2416 0.3955 0.3630]\n",
      " [0.2874 0.3808 0.3318]\n",
      " [0.1990 0.4097 0.3913]\n",
      " [0.3249 0.3044 0.3706]\n",
      " [0.2307 0.4042 0.3651]\n",
      " [0.2445 0.4120 0.3434]\n",
      " [0.2548 0.2984 0.4468]\n",
      " [0.2903 0.3427 0.3670]\n",
      " [0.2722 0.3050 0.4228]\n",
      " [0.2288 0.4090 0.3622]\n",
      " [0.2738 0.4224 0.3038]\n",
      " [0.2961 0.3608 0.3431]\n",
      " [0.2085 0.3696 0.4219]\n",
      " [0.2176 0.4253 0.3571]]\n",
      "Found 15 images belonging to 1 classes.\n",
      "15/15 [==============================] - 2s 128ms/step\n",
      "her1her7s\n",
      "[[0.2898 0.3631 0.3470]\n",
      " [0.2840 0.3220 0.3940]\n",
      " [0.2661 0.3507 0.3832]\n",
      " [0.3329 0.2400 0.4271]\n",
      " [0.3344 0.3237 0.3419]\n",
      " [0.2556 0.4212 0.3232]\n",
      " [0.3618 0.3098 0.3285]\n",
      " [0.3936 0.3056 0.3008]\n",
      " [0.2406 0.3403 0.4191]\n",
      " [0.2672 0.3324 0.4004]\n",
      " [0.2736 0.3122 0.4141]\n",
      " [0.2618 0.3948 0.3434]\n",
      " [0.2933 0.3259 0.3808]\n",
      " [0.2834 0.3524 0.3642]\n",
      " [0.3268 0.3425 0.3307]]\n",
      "Found 15 images belonging to 1 classes.\n",
      "15/15 [==============================] - 2s 132ms/step\n",
      "WTs\n",
      "[[0.4865 0.2557 0.2578]\n",
      " [0.3008 0.3342 0.3649]\n",
      " [0.4853 0.2742 0.2405]\n",
      " [0.4225 0.2568 0.3206]\n",
      " [0.4062 0.2729 0.3209]\n",
      " [0.4159 0.2717 0.3124]\n",
      " [0.4748 0.2463 0.2788]\n",
      " [0.4117 0.2967 0.2916]\n",
      " [0.4865 0.2250 0.2885]\n",
      " [0.4662 0.2610 0.2728]\n",
      " [0.4886 0.2132 0.2981]\n",
      " [0.4403 0.2684 0.2913]\n",
      " [0.4410 0.2764 0.2826]\n",
      " [0.4752 0.2457 0.2791]\n",
      " [0.3172 0.3520 0.3308]]\n"
     ]
    }
   ],
   "source": [
    "#Predict Model based on validation set\n",
    "\n",
    "model_prediction(\n",
    "    model, \n",
    "    Genotypes,\n",
    "    Validation_prediction_path,\n",
    "    shapeY, shapeX, \n",
    "    class_mode = 'categorical' # If the content of class0_test_path and class1_test_path should be refreshed\n",
    "    )"
   ]
  },
  {
   "cell_type": "code",
   "execution_count": 44,
   "metadata": {
    "colab": {
     "base_uri": "https://localhost:8080/",
     "height": 605
    },
    "colab_type": "code",
    "id": "acZPsS-WDyOK",
    "outputId": "6148db05-2e6b-414f-b25d-ce70e49eea94"
   },
   "outputs": [
    {
     "name": "stdout",
     "output_type": "stream",
     "text": [
      "Found 15 images belonging to 1 classes.\n",
      "15/15 [==============================] - 2s 125ms/step\n",
      "['test\\\\Validation1.png', 'test\\\\Validation10.png', 'test\\\\Validation11.png', 'test\\\\Validation12.png', 'test\\\\Validation13.png', 'test\\\\Validation14.png', 'test\\\\Validation15.png', 'test\\\\Validation2.png', 'test\\\\Validation3.png', 'test\\\\Validation4.png', 'test\\\\Validation5.png', 'test\\\\Validation6.png', 'test\\\\Validation7.png', 'test\\\\Validation8.png', 'test\\\\Validation9.png']\n",
      "[[0.2933 0.3259 0.3808]\n",
      " [0.2556 0.4212 0.3232]\n",
      " [0.2406 0.3403 0.4191]\n",
      " [0.3618 0.3098 0.3285]\n",
      " [0.2834 0.3524 0.3642]\n",
      " [0.2736 0.3122 0.4141]\n",
      " [0.2618 0.3948 0.3434]\n",
      " [0.3936 0.3056 0.3008]\n",
      " [0.3344 0.3237 0.3419]\n",
      " [0.2661 0.3507 0.3832]\n",
      " [0.2672 0.3324 0.4004]\n",
      " [0.3268 0.3425 0.3307]\n",
      " [0.3329 0.2400 0.4271]\n",
      " [0.2898 0.3631 0.3470]\n",
      " [0.2840 0.3220 0.3940]]\n"
     ]
    }
   ],
   "source": [
    "#Predict Model based on Images placed in Prediction Folder\n",
    "\n",
    "predictions = predictClass(model,Prediction_path, shapeY, shapeX, class_mode='categorical')\n",
    "print(predictions)"
   ]
  },
  {
   "cell_type": "code",
   "execution_count": 45,
   "metadata": {
    "colab": {
     "base_uri": "https://localhost:8080/",
     "height": 543
    },
    "colab_type": "code",
    "id": "kAsd2vKOlLnu",
    "outputId": "5ff876eb-d762-42b6-b453-9f089f2d6773",
    "scrolled": true
   },
   "outputs": [
    {
     "data": {
      "image/png": "[encoded data removed]",
      "text/plain": [
       "<matplotlib.figure.Figure at 0x2484c8b2be0>"
      ]
     },
     "metadata": {},
     "output_type": "display_data"
    },
    {
     "data": {
      "image/png": "[encoded data removed]",
      "text/plain": [
       "<matplotlib.figure.Figure at 0x2484c915278>"
      ]
     },
     "metadata": {},
     "output_type": "display_data"
    }
   ],
   "source": [
    "#Plot training and validation accuracy per epoch\n",
    "\n",
    "plot_loss_acc(history)"
   ]
  },
  {
   "cell_type": "code",
   "execution_count": 49,
   "metadata": {},
   "outputs": [
    {
     "name": "stdout",
     "output_type": "stream",
     "text": [
      "0.2839853\n"
     ]
    }
   ],
   "source": [
    "float_formatter = lambda x: \"%.4f\" % x\n",
    "np.set_printoptions(formatter={'float_kind':float_formatter})\n",
    "for i in range(len(predictions)):\n",
    "    print(predictions[i][0])"
   ]
  },
  {
   "cell_type": "code",
   "execution_count": 112,
   "metadata": {
    "collapsed": true
   },
   "outputs": [],
   "source": [
    "import csv\n",
    "\n",
    "with open('name.csv', 'w') as csvfile:\n",
    "    fieldnames = ['Filename', 'WT', 'FSS', 'HH']\n",
    "    writer = csv.DictWriter(csvfile, delimiter=\",\", fieldnames=fieldnames,lineterminator = '\\n')\n",
    "    writer.writeheader()\n",
    "    for i in range(len(predictions)):\n",
    "        writer.writerow({'Filename':str(i),'WT':float(predictions[i][0]),'FSS':float(predictions[i][1]),'HH':float(predictions[i][2])})\n",
    "    Model_parameters = model.optimizer,\", Learning Rate:\", learning_rate, \", Hidden_Units:\", hidden_units_num, \"Input_size:\", model.inputs\n",
    "    writer.writerow({'Filename':\"Model\",'WT':str(Model_parameters)})\n",
    "    "
   ]
  },
  {
   "cell_type": "code",
   "execution_count": 111,
   "metadata": {},
   "outputs": [
    {
     "name": "stdout",
     "output_type": "stream",
     "text": [
      "(<tensorflow.python.keras.optimizers.RMSprop object at 0x000002484DB015C0>, ', Learning Rate:', 1e-05, ', Hidden_Units:', 1024, 'Input_size:', [<tf.Tensor 'input_1:0' shape=(?, 50, 150, 3) dtype=float32>])\n"
     ]
    }
   ],
   "source": [
    "#print(model.get_weights().size)\n",
    "print(Str)\n",
    "#print(model.optimizer,\", Learning Rate:\", learning_rate, \", Hidden_Units:\", hidden_units_num, \"Input_size:\", model.inputs)"
   ]
  },
  {
   "cell_type": "code",
   "execution_count": 119,
   "metadata": {},
   "outputs": [
    {
     "name": "stdout",
     "output_type": "stream",
     "text": [
      "<tf.Variable 'RMSprop_1/lr:0' shape=() dtype=float32>\n"
     ]
    }
   ],
   "source": [
    "print(model.optimizer.lr)"
   ]
  },
  {
   "cell_type": "code",
   "execution_count": null,
   "metadata": {
    "collapsed": true
   },
   "outputs": [],
   "source": []
  }
 ],
 "metadata": {
  "accelerator": "GPU",
  "colab": {
   "collapsed_sections": [],
   "include_colab_link": true,
   "name": "Classifier.ipynb",
   "provenance": [],
   "version": "0.3.2"
  },
  "kernelspec": {
   "display_name": "Python 3",
   "language": "python",
   "name": "python3"
  },
  "language_info": {
   "codemirror_mode": {
    "name": "ipython",
    "version": 3
   },
   "file_extension": ".py",
   "mimetype": "text/x-python",
   "name": "python",
   "nbconvert_exporter": "python",
   "pygments_lexer": "ipython3",
   "version": "3.6.1"
  }
 },
 "nbformat": 4,
 "nbformat_minor": 1
}
