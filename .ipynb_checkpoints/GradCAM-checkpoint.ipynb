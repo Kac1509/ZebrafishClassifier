{
 "cells": [
  {
   "cell_type": "code",
   "execution_count": null,
   "metadata": {},
   "outputs": [],
   "source": [
    "from tensorflow.keras.applications.vgg16 import VGG16, preprocess_input, decode_predictions\n",
    "from tensorflow.keras.preprocessing import image\n",
    "import tensorflow.keras.backend as K\n",
    "import numpy as np\n",
    "import cv2\n",
    "import sys\n",
    "import glob\n",
    "import os\n",
    "from matplotlib import pyplot as plt\n",
    "from pylab import rcParams\n",
    "from tensorflow.keras.models import load_model\n",
    "rcParams['figure.figsize'] = 15, 15\n",
    "\n"
   ]
  },
  {
   "cell_type": "code",
   "execution_count": 30,
   "metadata": {},
   "outputs": [
    {
     "name": "stdout",
     "output_type": "stream",
     "text": [
      "20190427_fss_fss1.png\n",
      "[[8.6933011e-01 6.7391223e-04 4.7189192e-04 1.2952399e-01]]\n",
      "20190427_fss_fss10.png\n",
      "[[8.2595974e-01 5.5672339e-04 2.7110442e-04 1.7321248e-01]]\n",
      "20190427_fss_fss11.png\n",
      "[[8.3875471e-01 6.2461541e-04 2.9282644e-04 1.6032784e-01]]\n",
      "20190427_fss_fss12.png\n",
      "[[0.7483832  0.07211014 0.00288605 0.17662054]]\n",
      "20190427_fss_fss13.png\n",
      "[[9.7987533e-01 2.1036054e-04 1.4298603e-04 1.9771272e-02]]\n",
      "20190427_fss_fss14.png\n",
      "[[8.3875471e-01 6.2461541e-04 2.9282644e-04 1.6032784e-01]]\n",
      "20190427_fss_fss15.png\n",
      "[[8.3875471e-01 6.2461541e-04 2.9282644e-04 1.6032784e-01]]\n",
      "20190427_fss_fss16.png\n",
      "[[0.77451605 0.0025158  0.00098811 0.22198012]]\n",
      "20190427_fss_fss17.png\n",
      "[[0.68256843 0.00407245 0.00116895 0.31219015]]\n",
      "20190427_fss_fss18.png\n",
      "[[0.7908799  0.00177484 0.00103744 0.20630775]]\n",
      "20190427_fss_fss19.png\n",
      "[[9.1724336e-01 1.0923206e-02 4.4759113e-04 7.1385816e-02]]\n",
      "20190427_fss_fss2.png\n",
      "[[8.4736484e-01 9.1696979e-04 5.7259313e-04 1.5114558e-01]]\n",
      "20190427_fss_fss20.png\n",
      "[[0.7483832  0.07211014 0.00288605 0.17662054]]\n",
      "20190427_fss_fss21.png\n",
      "[[8.2595974e-01 5.5672339e-04 2.7110442e-04 1.7321248e-01]]\n",
      "20190427_fss_fss22.png\n",
      "[[8.3875471e-01 6.2461541e-04 2.9282644e-04 1.6032784e-01]]\n",
      "20190427_fss_fss23.png\n",
      "[[8.7385148e-01 4.8864225e-04 9.5002836e-04 1.2470978e-01]]\n",
      "20190427_fss_fss24.png\n",
      "[[1.2423864e-01 4.4831303e-03 5.0745800e-04 8.7077081e-01]]\n",
      "20190427_fss_fss25.png\n",
      "[[0.84070766 0.00148565 0.00096556 0.1568412 ]]\n",
      "20190427_fss_fss26.png\n",
      "[[0.57356864 0.00295813 0.00152982 0.42194334]]\n",
      "20190427_fss_fss3.png\n",
      "[[0.80312127 0.00340836 0.00082232 0.19264807]]\n",
      "20190427_fss_fss4.png\n",
      "[[0.57356864 0.00295813 0.00152982 0.42194334]]\n",
      "20190427_fss_fss5.png\n",
      "[[8.4736484e-01 9.1696979e-04 5.7259313e-04 1.5114558e-01]]\n",
      "20190427_fss_fss6.png\n",
      "[[0.84070766 0.00148565 0.00096556 0.1568412 ]]\n",
      "20190427_fss_fss8.png\n",
      "[[7.0413941e-01 4.4046165e-03 6.2234583e-04 2.9083365e-01]]\n",
      "20190427_fss_fss9.png\n",
      "[[8.3875471e-01 6.2461541e-04 2.9282644e-04 1.6032784e-01]]\n"
     ]
    }
   ],
   "source": [
    "# load model\n",
    "model = load_model('model_CAM.h5')\n",
    "\n",
    "\n",
    "input_path = \"C:/Users/Kaleem/EPFL/ZebrafishProject/Images/DataPNG/new_fssPNG/*.png\"\n",
    "output_path = \"C:/Users/Kaleem/EPFL/ZebrafishProject/Images/DataPNG/new_fssPNGCAM/\"\n",
    "\n",
    "images = [(file) for file in glob.glob(input_path)]\n",
    "\n",
    "#totalImages = len(images)\n",
    "#print(totalImages)\n",
    "#i = 0\n",
    "for file in images:\n",
    "    strIdx = 64\n",
    "    print(file[strIdx:])\n",
    "    img = image.load_img(file, target_size=(250, 500))\n",
    "    x = image.img_to_array(img)\n",
    "    x = np.expand_dims(x, axis=0)\n",
    "    x = x*(1./255)\n",
    "    #x = preprocess_input(x)\n",
    "   \n",
    "\n",
    "    preds = model.predict(x)\n",
    "    print(preds)\n",
    "    class_idx = np.argmax(preds[0])\n",
    "    #print(class_idx)\n",
    "    class_output = model.output[:,class_idx]\n",
    "    last_conv_layer = model.get_layer(\"block5_conv3\")\n",
    "\n",
    "    grads = K.gradients(class_output, last_conv_layer.output)[0]\n",
    "    pooled_grads = K.mean(grads, axis=(0, 1, 2))\n",
    "    iterate = K.function([model.input], [pooled_grads, last_conv_layer.output[0]])\n",
    "    pooled_grads_value, conv_layer_output_value = iterate([x])\n",
    "    for i in range(512):\n",
    "        conv_layer_output_value[:, :, i] *= pooled_grads_value[i]\n",
    "\n",
    "    heatmap = np.mean(conv_layer_output_value, axis=-1)\n",
    "    heatmap = np.maximum(heatmap, 0)\n",
    "    heatmap /= np.max(heatmap)\n",
    "\n",
    "    img = cv2.imread(file)\n",
    "    heatmap = cv2.resize(heatmap, (img.shape[1], img.shape[0]))\n",
    "    heatmap = np.uint8(255 * heatmap)\n",
    "    heatmap = cv2.applyColorMap(heatmap, cv2.COLORMAP_JET)\n",
    "    superimposed_img = cv2.addWeighted(img, 0.6, heatmap, 0.4, 0)\n",
    "    output_file = output_path+\"Class_\"+str(class_idx)+\"_\"+file[strIdx:]\n",
    "    #print(output_file)\n",
    "    cv2.imwrite(output_file, superimposed_img)\n"
   ]
  },
  {
   "cell_type": "code",
   "execution_count": 29,
   "metadata": {},
   "outputs": [
    {
     "name": "stdout",
     "output_type": "stream",
     "text": [
      "*.png\n"
     ]
    }
   ],
   "source": [
    "#img_path = 'C:/Users/Kaleem/EPFL/ZebrafishProject/Images/DataPNG/WildtypePNG/10L.png'\n",
    "input_path = \"C:/Users/Kaleem/EPFL/ZebrafishProject/Images/DataPNG/new_fssPNG/*.png\"\n",
    "\n",
    "print(input_path[64:])\n"
   ]
  },
  {
   "cell_type": "code",
   "execution_count": null,
   "metadata": {},
   "outputs": [],
   "source": [
    "a = ['d','a','3']\n",
    "type(model_1)\n",
    "model_1.nas = a\n"
   ]
  },
  {
   "cell_type": "code",
   "execution_count": null,
   "metadata": {},
   "outputs": [],
   "source": [
    "print(model_1.nas[0])"
   ]
  },
  {
   "cell_type": "code",
   "execution_count": null,
   "metadata": {},
   "outputs": [],
   "source": [
    "preds = model.predict(x)\n",
    "    "
   ]
  },
  {
   "cell_type": "code",
   "execution_count": null,
   "metadata": {},
   "outputs": [],
   "source": [
    "print(preds)\n",
    "class_idx = np.argmax(preds[0])"
   ]
  },
  {
   "cell_type": "code",
   "execution_count": null,
   "metadata": {},
   "outputs": [],
   "source": []
  },
  {
   "cell_type": "code",
   "execution_count": 3,
   "metadata": {},
   "outputs": [
    {
     "name": "stdout",
     "output_type": "stream",
     "text": [
      "Found 17 images belonging to 2 classes.\n",
      "17/17 [==============================] - 38s 2s/step\n"
     ]
    }
   ],
   "source": [
    "from tensorflow.keras.preprocessing.image import ImageDataGenerator\n",
    "test_datagen = ImageDataGenerator(rescale=1./255)\n",
    "test_generator = test_datagen.flow_from_directory(\n",
    "    'C:/Users/Kaleem/EPFL/ZebrafishProject/Images/DataPNG/Preds/',\n",
    "    target_size=(250, 500),\n",
    "    batch_size=1,\n",
    "    shuffle = False,\n",
    "    class_mode='categorical')\n",
    "predictions = model.predict_generator(test_generator, verbose=1)"
   ]
  },
  {
   "cell_type": "code",
   "execution_count": null,
   "metadata": {},
   "outputs": [],
   "source": [
    "#print(predictions)\n",
    "file_test = 'C:/Users/Kaleem/EPFL/ZebrafishProject/Images/DataPNG/Preds/4thPhenotypePNG/2_DAPT50ISC_1.png'\n",
    "img_test = image.load_img(file_test, target_size=(250, 500))\n",
    "x_test = image.img_to_array(img_test)\n",
    "x_test = np.expand_dims(x_test, axis=0)\n",
    "#x_test = preprocess_input(x_test)\n",
    "x_test = x_test*(1./255)\n",
    "#x_test = preprocess_input(x_test)\n",
    "model.predict(x_test)\n"
   ]
  },
  {
   "cell_type": "code",
   "execution_count": 4,
   "metadata": {},
   "outputs": [
    {
     "name": "stdout",
     "output_type": "stream",
     "text": [
      "[[9.9995387e-01 4.7248232e-06 1.1675329e-05 2.9627976e-05]\n",
      " [9.9993515e-01 6.2265767e-06 3.3270841e-05 2.5332469e-05]\n",
      " [9.9994659e-01 2.2773493e-06 4.3263612e-05 7.9240108e-06]\n",
      " [9.9825341e-01 6.6752604e-05 1.0437219e-03 6.3611008e-04]\n",
      " [9.9998724e-01 1.7890785e-06 3.5826627e-06 7.4401050e-06]\n",
      " [9.9992919e-01 1.3474129e-05 1.3367360e-05 4.3990607e-05]\n",
      " [9.9801338e-01 1.6266821e-04 9.5963763e-04 8.6428033e-04]\n",
      " [9.9998724e-01 1.2370327e-06 2.4228127e-06 9.1623751e-06]\n",
      " [9.9988699e-01 7.1973659e-06 5.3549953e-05 5.2293010e-05]\n",
      " [9.9995315e-01 6.5702684e-06 1.7249560e-05 2.2961553e-05]\n",
      " [9.9997580e-01 2.6253124e-06 7.2426528e-06 1.4301324e-05]\n",
      " [9.9997771e-01 3.0469262e-06 4.8126803e-06 1.4408970e-05]\n",
      " [9.9993634e-01 6.3955249e-06 1.0486754e-05 4.6763471e-05]\n",
      " [9.9958235e-01 4.1351261e-05 2.6947440e-04 1.0693967e-04]\n",
      " [9.9997044e-01 3.8087137e-06 6.4519450e-06 1.9265182e-05]\n",
      " [9.9579334e-01 6.2764139e-04 3.4332285e-03 1.4582442e-04]\n",
      " [6.8836169e-05 2.6927721e-02 1.0294640e-04 9.7290051e-01]]\n"
     ]
    }
   ],
   "source": [
    "print(predictions)\n",
    "#print(test_generator[0])\n",
    "#print(x*(1./255))"
   ]
  },
  {
   "cell_type": "code",
   "execution_count": null,
   "metadata": {},
   "outputs": [],
   "source": [
    "[[9.9995387e-01 4.7248232e-06 1.1675329e-05 2.9627976e-05]]\n",
    "[[9.9993515e-01 6.2265767e-06 3.3270841e-05 2.5332469e-05]]\n",
    "[[9.9994659e-01 2.2773493e-06 4.3263612e-05 7.9240108e-06]]\n",
    "[[9.9825341e-01 6.6752604e-05 1.0437219e-03 6.3611008e-04]]\n",
    "[[9.9998724e-01 1.7890785e-06 3.5826627e-06 7.4401050e-06]]\n",
    "[[9.9992919e-01 1.3474129e-05 1.3367360e-05 4.3990607e-05]]\n",
    "[[9.9801338e-01 1.6266821e-04 9.5963763e-04 8.6428033e-04]]\n",
    "[[9.9998724e-01 1.2370327e-06 2.4228127e-06 9.1623751e-06]]\n",
    "[[9.9988699e-01 7.1973659e-06 5.3549953e-05 5.2293010e-05]]\n",
    "[[9.9995315e-01 6.5702684e-06 1.7249560e-05 2.2961553e-05]]\n",
    "[[9.9997580e-01 2.6253124e-06 7.2426528e-06 1.4301324e-05]]\n",
    "[[9.9997771e-01 3.0469262e-06 4.8126803e-06 1.4408970e-05]]\n",
    "[[9.9993634e-01 6.3955249e-06 1.0486754e-05 4.6763471e-05]]\n",
    "[[9.9958235e-01 4.1351261e-05 2.6947440e-04 1.0693967e-04]]\n",
    "[[9.9997044e-01 3.8087137e-06 6.4519450e-06 1.9265182e-05]]\n",
    "[[9.9579334e-01 6.2764139e-04 3.4332285e-03 1.4582442e-04]]"
   ]
  }
 ],
 "metadata": {
  "kernelspec": {
   "display_name": "Python 3",
   "language": "python",
   "name": "python3"
  },
  "language_info": {
   "codemirror_mode": {
    "name": "ipython",
    "version": 3
   },
   "file_extension": ".py",
   "mimetype": "text/x-python",
   "name": "python",
   "nbconvert_exporter": "python",
   "pygments_lexer": "ipython3",
   "version": "3.6.8"
  }
 },
 "nbformat": 4,
 "nbformat_minor": 2
}
