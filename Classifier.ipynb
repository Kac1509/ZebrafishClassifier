{
 "cells": [
  {
   "cell_type": "markdown",
   "metadata": {
    "colab_type": "text",
    "id": "view-in-github"
   },
   "source": [
    "<a href=\"https://colab.research.google.com/github/Kac1509/ZebrafishClassifier/blob/master/Classifier.ipynb\" target=\"_parent\"><img src=\"https://colab.research.google.com/assets/colab-badge.svg\" alt=\"Open In Colab\"/></a>"
   ]
  },
  {
   "cell_type": "code",
   "execution_count": 3,
   "metadata": {
    "colab": {},
    "colab_type": "code",
    "id": "Ur52mAVT78Ee"
   },
   "outputs": [
    {
     "name": "stdout",
     "output_type": "stream",
     "text": [
      "['C:\\\\Users\\\\Kaleem\\\\EPFL\\\\Fall 2018\\\\Machine Learning\\\\Project_2\\\\Git\\\\ZebrafishClassifier/Classifier/scripts', '', 'C:\\\\Users\\\\Kaleem\\\\Anaconda3\\\\python36.zip', 'C:\\\\Users\\\\Kaleem\\\\Anaconda3\\\\DLLs', 'C:\\\\Users\\\\Kaleem\\\\Anaconda3\\\\lib', 'C:\\\\Users\\\\Kaleem\\\\Anaconda3', 'C:\\\\Users\\\\Kaleem\\\\AppData\\\\Roaming\\\\Python\\\\Python36\\\\site-packages', 'C:\\\\Users\\\\Kaleem\\\\Anaconda3\\\\lib\\\\site-packages', 'C:\\\\Users\\\\Kaleem\\\\Anaconda3\\\\lib\\\\site-packages\\\\Sphinx-1.5.6-py3.6.egg', 'C:\\\\Users\\\\Kaleem\\\\Anaconda3\\\\lib\\\\site-packages\\\\win32', 'C:\\\\Users\\\\Kaleem\\\\Anaconda3\\\\lib\\\\site-packages\\\\win32\\\\lib', 'C:\\\\Users\\\\Kaleem\\\\Anaconda3\\\\lib\\\\site-packages\\\\Pythonwin', 'C:\\\\Users\\\\Kaleem\\\\Anaconda3\\\\lib\\\\site-packages\\\\setuptools-27.2.0-py3.6.egg', 'C:\\\\Users\\\\Kaleem\\\\Anaconda3\\\\lib\\\\site-packages\\\\IPython\\\\extensions', 'C:\\\\Users\\\\Kaleem\\\\AppData\\\\Roaming\\\\SPB_Data\\\\.ipython']\n"
     ]
    }
   ],
   "source": [
    "import sys\n",
    "import os\n",
    "\n",
    "\n",
    "Colab = False\n",
    "if Colab:\n",
    "    Script_path = '/content/gdrive/My Drive/Colab Notebooks/'\n",
    "    Base_path = '/content/gdrive/My Drive/Colab Notebooks/Classifier/'\n",
    "    from google.colab import drive\n",
    "    drive.mount('/content/gdrive')\n",
    "else:\n",
    "    Script_path = os.getcwd() + '/Classifier/scripts'\n",
    "    Base_path = 'Classifier/'\n",
    "\n",
    "#Add script folder to system path\n",
    "sys.path.insert(0, Script_path)\n",
    "print(sys.path)"
   ]
  },
  {
   "cell_type": "code",
   "execution_count": 4,
   "metadata": {
    "colab": {
     "base_uri": "https://localhost:8080/",
     "height": 53
    },
    "colab_type": "code",
    "id": "vOVz8VHo6m98",
    "outputId": "c4adbf83-aee8-4fda-ceff-96a471308a91"
   },
   "outputs": [
    {
     "name": "stderr",
     "output_type": "stream",
     "text": [
      "C:\\Users\\Kaleem\\Anaconda3\\lib\\site-packages\\h5py\\__init__.py:34: FutureWarning: Conversion of the second argument of issubdtype from `float` to `np.floating` is deprecated. In future, it will be treated as `np.float64 == np.dtype(float).type`.\n",
      "  from ._conv import register_converters as _register_converters\n"
     ]
    }
   ],
   "source": [
    "%load_ext autoreload\n",
    "%autoreload 2\n",
    "from load_pre_trained_VGG16 import *\n",
    "from load_pre_trained_Inception import *\n",
    "from build_model_RMSprop import *\n",
    "from unzip_data import *\n",
    "from create_data_generators import *\n",
    "from model_prediction import *\n",
    "from createFolders import *\n",
    "from createSets import *\n",
    "from saveFiles import *\n",
    "from plot_loss_acc import *\n",
    "from predictClass import *\n",
    "\n",
    "\n"
   ]
  },
  {
   "cell_type": "code",
   "execution_count": 5,
   "metadata": {
    "colab": {},
    "colab_type": "code",
    "collapsed": true,
    "id": "3x6y3XrYodwr"
   },
   "outputs": [],
   "source": [
    "#Set Paths\n",
    "Data_file = 'DataStraightened.zip'\n",
    "\n",
    "Zip_path = Base_path + Data_file\n",
    "Extracted_path = Base_path + 'ExtractedData/'\n",
    "Partitioned_path = Base_path + 'PartitionedData/'\n",
    "Prediction_path = Base_path + 'Predictions/'\n"
   ]
  },
  {
   "cell_type": "code",
   "execution_count": 6,
   "metadata": {
    "colab": {},
    "colab_type": "code",
    "id": "DUAExlCNoi6z"
   },
   "outputs": [],
   "source": [
    "#Specify input parameters for the pre_trained model\n",
    "shapeY = 50\n",
    "shapeX = 150\n",
    "color_channels = 3\n",
    "\n",
    "# Loading pre-trained models\n",
    "local_weights_file_VGG16 = Base_path + 'weights/vgg16_weights_tf_dim_ordering_tf_kernels_notop.h5'\n",
    "pre_trained_model_VGG16, last_layer_output_VGG16 = load_pre_trained_VGG16(local_weights_file_VGG16, shapeY, shapeX, color_channels)\n",
    "\n",
    "\n",
    "# Inception model\n",
    "# local_weights_file_Inception = Base_path + '/weights/inception_v3_weights_tf_dim_ordering_tf_kernels_notop.h5'\n",
    "# pre_trained_model_Inception, last_layer_output_Inception = load_pre_trained_Inception(local_weights_file_Inception, shapeY, shapeX, color_channels)\n"
   ]
  },
  {
   "cell_type": "code",
   "execution_count": 7,
   "metadata": {
    "colab": {},
    "colab_type": "code",
    "id": "ePzQOg8kjCOc"
   },
   "outputs": [],
   "source": [
    "#Clear Folders and create Prediction folder  \n",
    "deleteFiles(Extracted_path)\n",
    "deleteFiles(Partitioned_path)\n",
    "createFolder(Prediction_path)\n"
   ]
  },
  {
   "cell_type": "code",
   "execution_count": 8,
   "metadata": {
    "colab": {},
    "colab_type": "code",
    "id": "Vw-2H_Os70cO"
   },
   "outputs": [
    {
     "ename": "FileNotFoundError",
     "evalue": "[Errno 2] No such file or directory: 'Classifier/DataStraightened.zip'",
     "output_type": "error",
     "traceback": [
      "\u001b[1;31m---------------------------------------------------------------------------\u001b[0m",
      "\u001b[1;31mFileNotFoundError\u001b[0m                         Traceback (most recent call last)",
      "\u001b[1;32m<ipython-input-8-8cd5cbd2cef1>\u001b[0m in \u001b[0;36m<module>\u001b[1;34m()\u001b[0m\n\u001b[0;32m      1\u001b[0m \u001b[1;31m#Extract Data\u001b[0m\u001b[1;33m\u001b[0m\u001b[1;33m\u001b[0m\u001b[0m\n\u001b[1;32m----> 2\u001b[1;33m \u001b[0munzip_data\u001b[0m\u001b[1;33m(\u001b[0m\u001b[0mZip_path\u001b[0m\u001b[1;33m,\u001b[0m \u001b[0mExtracted_path\u001b[0m\u001b[1;33m)\u001b[0m\u001b[1;33m\u001b[0m\u001b[0m\n\u001b[0m",
      "\u001b[1;32mC:\\Users\\Kaleem\\EPFL\\Fall 2018\\Machine Learning\\Project_2\\Git\\ZebrafishClassifier/Classifier/scripts\\unzip_data.py\u001b[0m in \u001b[0;36munzip_data\u001b[1;34m(src_path, dst_path)\u001b[0m\n\u001b[0;32m      3\u001b[0m \u001b[1;32mdef\u001b[0m \u001b[0munzip_data\u001b[0m\u001b[1;33m(\u001b[0m\u001b[0msrc_path\u001b[0m\u001b[1;33m,\u001b[0m \u001b[0mdst_path\u001b[0m\u001b[1;33m)\u001b[0m\u001b[1;33m:\u001b[0m\u001b[1;33m\u001b[0m\u001b[0m\n\u001b[0;32m      4\u001b[0m   \u001b[0mlocal_zip\u001b[0m \u001b[1;33m=\u001b[0m \u001b[0msrc_path\u001b[0m\u001b[1;33m\u001b[0m\u001b[0m\n\u001b[1;32m----> 5\u001b[1;33m   \u001b[0mzip_ref\u001b[0m \u001b[1;33m=\u001b[0m \u001b[0mzipfile\u001b[0m\u001b[1;33m.\u001b[0m\u001b[0mZipFile\u001b[0m\u001b[1;33m(\u001b[0m\u001b[0mlocal_zip\u001b[0m\u001b[1;33m,\u001b[0m \u001b[1;34m'r'\u001b[0m\u001b[1;33m)\u001b[0m\u001b[1;33m\u001b[0m\u001b[0m\n\u001b[0m\u001b[0;32m      6\u001b[0m   \u001b[0mzip_ref\u001b[0m\u001b[1;33m.\u001b[0m\u001b[0mextractall\u001b[0m\u001b[1;33m(\u001b[0m\u001b[0mdst_path\u001b[0m\u001b[1;33m)\u001b[0m\u001b[1;33m\u001b[0m\u001b[0m\n\u001b[0;32m      7\u001b[0m   \u001b[0mzip_ref\u001b[0m\u001b[1;33m.\u001b[0m\u001b[0mclose\u001b[0m\u001b[1;33m(\u001b[0m\u001b[1;33m)\u001b[0m\u001b[1;33m\u001b[0m\u001b[0m\n",
      "\u001b[1;32mC:\\Users\\Kaleem\\Anaconda3\\lib\\zipfile.py\u001b[0m in \u001b[0;36m__init__\u001b[1;34m(self, file, mode, compression, allowZip64)\u001b[0m\n\u001b[0;32m   1080\u001b[0m             \u001b[1;32mwhile\u001b[0m \u001b[1;32mTrue\u001b[0m\u001b[1;33m:\u001b[0m\u001b[1;33m\u001b[0m\u001b[0m\n\u001b[0;32m   1081\u001b[0m                 \u001b[1;32mtry\u001b[0m\u001b[1;33m:\u001b[0m\u001b[1;33m\u001b[0m\u001b[0m\n\u001b[1;32m-> 1082\u001b[1;33m                     \u001b[0mself\u001b[0m\u001b[1;33m.\u001b[0m\u001b[0mfp\u001b[0m \u001b[1;33m=\u001b[0m \u001b[0mio\u001b[0m\u001b[1;33m.\u001b[0m\u001b[0mopen\u001b[0m\u001b[1;33m(\u001b[0m\u001b[0mfile\u001b[0m\u001b[1;33m,\u001b[0m \u001b[0mfilemode\u001b[0m\u001b[1;33m)\u001b[0m\u001b[1;33m\u001b[0m\u001b[0m\n\u001b[0m\u001b[0;32m   1083\u001b[0m                 \u001b[1;32mexcept\u001b[0m \u001b[0mOSError\u001b[0m\u001b[1;33m:\u001b[0m\u001b[1;33m\u001b[0m\u001b[0m\n\u001b[0;32m   1084\u001b[0m                     \u001b[1;32mif\u001b[0m \u001b[0mfilemode\u001b[0m \u001b[1;32min\u001b[0m \u001b[0mmodeDict\u001b[0m\u001b[1;33m:\u001b[0m\u001b[1;33m\u001b[0m\u001b[0m\n",
      "\u001b[1;31mFileNotFoundError\u001b[0m: [Errno 2] No such file or directory: 'Classifier/DataStraightened.zip'"
     ]
    }
   ],
   "source": [
    "#Extract Data\n",
    "unzip_data(Zip_path, Extracted_path)"
   ]
  },
  {
   "cell_type": "code",
   "execution_count": null,
   "metadata": {
    "colab": {
     "base_uri": "https://localhost:8080/",
     "height": 33
    },
    "colab_type": "code",
    "id": "rMFVYSAGSyT2",
    "outputId": "8e7fe596-6f49-4b9a-b059-69551fdf87ac"
   },
   "outputs": [],
   "source": [
    "#Create Genotype classes\n",
    "Genotypes = []\n",
    "num_classes = len(glob.glob(Extracted_path+'*'))\n",
    "for i in range(num_classes):\n",
    "        #Retrieve directory for a given type\n",
    "        Genotype_name = os.listdir(Extracted_path)[i]\n",
    "        Genotypes.append(Genotype(Genotype_name))\n",
    "print(num_classes)\n",
    "createDirectories(num_classes,Extracted_path,Partitioned_path,Genotypes)\n"
   ]
  },
  {
   "cell_type": "code",
   "execution_count": null,
   "metadata": {
    "colab": {
     "base_uri": "https://localhost:8080/",
     "height": 122
    },
    "colab_type": "code",
    "id": "8sWuDG4ZfxWq",
    "outputId": "49013717-41bb-4fb1-e32a-d6971baabdd8"
   },
   "outputs": [],
   "source": [
    "print(Genotypes[1].images[0])\n",
    "#Genotypes[1].images\n",
    "plt.imshow(Genotypes[1].images[0])"
   ]
  },
  {
   "cell_type": "code",
   "execution_count": null,
   "metadata": {
    "colab": {
     "base_uri": "https://localhost:8080/",
     "height": 67
    },
    "colab_type": "code",
    "id": "Q8Mxl55WUHxt",
    "outputId": "2933d460-ff55-4777-81fe-64aead1a390d"
   },
   "outputs": [],
   "source": [
    "#Partition data into training and test set\n",
    "#If fixed is true, all training and test sets have the same size for all classes \n",
    "createTrain_Test(Genotypes,0.5, fixed = True)"
   ]
  },
  {
   "cell_type": "code",
   "execution_count": null,
   "metadata": {
    "colab": {},
    "colab_type": "code",
    "collapsed": true,
    "id": "B1D3MP_Los63"
   },
   "outputs": [],
   "source": [
    "#Save partitions to respective folders\n",
    "saveFiles(Genotypes)"
   ]
  },
  {
   "cell_type": "code",
   "execution_count": null,
   "metadata": {
    "colab": {
     "base_uri": "https://localhost:8080/",
     "height": 50
    },
    "colab_type": "code",
    "id": "Ycos0OdbhXUt",
    "outputId": "b85a4677-46b2-4ed4-8703-f5d20233d73b"
   },
   "outputs": [],
   "source": [
    "# Creating training and validation data generators from separated data\n",
    "# Transformations are for training generator only\n",
    "train_generator, validation_generator = create_data_generators(\n",
    "    Partitioned_path,\n",
    "    shapeY, shapeX, \n",
    "    train_batch_size=12, \n",
    "    validation_batch_size=15,\n",
    "    class_mode='categorical')#,\n",
    "    #rotation_range=30,\n",
    "    #width_shift_range=0.3,\n",
    "    #height_shift_range=0.3,\n",
    "    #shear_range=0.3,\n",
    "    #zoom_range=0.3)"
   ]
  },
  {
   "cell_type": "code",
   "execution_count": null,
   "metadata": {
    "colab": {},
    "colab_type": "code",
    "collapsed": true,
    "id": "sduGk0XEiLBZ"
   },
   "outputs": [],
   "source": [
    "# Building model\n",
    "\n",
    "model = build_model_RMSprop(pre_trained_model_VGG16, last_layer_output_VGG16, \n",
    "                            learning_rate = 0.00001, hidden_units_num = 1024,num_classes=num_classes,activation = 'softmax')"
   ]
  },
  {
   "cell_type": "code",
   "execution_count": null,
   "metadata": {
    "colab": {
     "base_uri": "https://localhost:8080/",
     "height": 1689
    },
    "colab_type": "code",
    "id": "nqyqXPPtkWeB",
    "outputId": "42359211-faa8-4d1c-a1c8-012502d9ce82"
   },
   "outputs": [],
   "source": [
    "# Training model\n",
    "\n",
    "history = model.fit_generator(\n",
    "      train_generator,\n",
    "      steps_per_epoch=4,\n",
    "      epochs=10,\n",
    "      validation_data=validation_generator,\n",
    "      validation_steps=3,\n",
    "      verbose=2)"
   ]
  },
  {
   "cell_type": "code",
   "execution_count": null,
   "metadata": {
    "colab": {
     "base_uri": "https://localhost:8080/",
     "height": 920
    },
    "colab_type": "code",
    "id": "b0qKY73VkdXj",
    "outputId": "9154b43a-790b-4244-c60d-138ea70f815d"
   },
   "outputs": [],
   "source": [
    "#Predict Model based on validation set\n",
    "model_prediction(\n",
    "    model, \n",
    "    Genotypes,\n",
    "    shapeY, shapeX, \n",
    "    class_mode = 'categorical' # If the content of class0_test_path and class1_test_path should be refreshed\n",
    "    )"
   ]
  },
  {
   "cell_type": "code",
   "execution_count": null,
   "metadata": {
    "colab": {
     "base_uri": "https://localhost:8080/",
     "height": 605
    },
    "colab_type": "code",
    "id": "acZPsS-WDyOK",
    "outputId": "6148db05-2e6b-414f-b25d-ce70e49eea94"
   },
   "outputs": [],
   "source": [
    "#Predict Model based on Images placed in Prediction Folder\n",
    "predictions = predictClass(model,Prediction_path, shapeY, shapeX, class_mode='categorical')\n",
    "print(predictions)"
   ]
  },
  {
   "cell_type": "code",
   "execution_count": null,
   "metadata": {
    "colab": {
     "base_uri": "https://localhost:8080/",
     "height": 543
    },
    "colab_type": "code",
    "id": "kAsd2vKOlLnu",
    "outputId": "5ff876eb-d762-42b6-b453-9f089f2d6773"
   },
   "outputs": [],
   "source": [
    "#Plot training and validation accuracy per epoch\n",
    "plot_loss_acc(history)"
   ]
  },
  {
   "cell_type": "code",
   "execution_count": null,
   "metadata": {
    "colab": {},
    "colab_type": "code",
    "collapsed": true,
    "id": "KVAlzovepvJY"
   },
   "outputs": [],
   "source": []
  }
 ],
 "metadata": {
  "accelerator": "GPU",
  "colab": {
   "collapsed_sections": [],
   "include_colab_link": true,
   "name": "Classifier.ipynb",
   "provenance": [],
   "version": "0.3.2"
  },
  "kernelspec": {
   "display_name": "Python 3",
   "language": "python",
   "name": "python3"
  }
 },
 "nbformat": 4,
 "nbformat_minor": 1
}
