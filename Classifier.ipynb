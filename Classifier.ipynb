{
 "cells": [
  {
   "cell_type": "markdown",
   "metadata": {
    "colab_type": "text",
    "id": "view-in-github"
   },
   "source": [
    "<a href=\"https://colab.research.google.com/github/Kac1509/ZebrafishClassifier/blob/master/Classifier.ipynb\" target=\"_parent\"><img src=\"https://colab.research.google.com/assets/colab-badge.svg\" alt=\"Open In Colab\"/></a>"
   ]
  },
  {
   "cell_type": "code",
   "execution_count": 2,
   "metadata": {
    "colab": {},
    "colab_type": "code",
    "id": "Ur52mAVT78Ee"
   },
   "outputs": [
    {
     "name": "stdout",
     "output_type": "stream",
     "text": [
      "['C:\\\\Users\\\\Kaleem\\\\EPFL\\\\Fall 2018\\\\Machine Learning\\\\Project_2\\\\Git\\\\ZebrafishClassifier/Classifier/scripts', '', 'C:\\\\Users\\\\Kaleem\\\\Anaconda3\\\\python36.zip', 'C:\\\\Users\\\\Kaleem\\\\Anaconda3\\\\DLLs', 'C:\\\\Users\\\\Kaleem\\\\Anaconda3\\\\lib', 'C:\\\\Users\\\\Kaleem\\\\Anaconda3', 'C:\\\\Users\\\\Kaleem\\\\AppData\\\\Roaming\\\\Python\\\\Python36\\\\site-packages', 'C:\\\\Users\\\\Kaleem\\\\Anaconda3\\\\lib\\\\site-packages', 'C:\\\\Users\\\\Kaleem\\\\Anaconda3\\\\lib\\\\site-packages\\\\Sphinx-1.5.6-py3.6.egg', 'C:\\\\Users\\\\Kaleem\\\\Anaconda3\\\\lib\\\\site-packages\\\\win32', 'C:\\\\Users\\\\Kaleem\\\\Anaconda3\\\\lib\\\\site-packages\\\\win32\\\\lib', 'C:\\\\Users\\\\Kaleem\\\\Anaconda3\\\\lib\\\\site-packages\\\\Pythonwin', 'C:\\\\Users\\\\Kaleem\\\\Anaconda3\\\\lib\\\\site-packages\\\\setuptools-27.2.0-py3.6.egg', 'C:\\\\Users\\\\Kaleem\\\\Anaconda3\\\\lib\\\\site-packages\\\\IPython\\\\extensions', 'C:\\\\Users\\\\Kaleem\\\\AppData\\\\Roaming\\\\SPB_Data\\\\.ipython']\n"
     ]
    }
   ],
   "source": [
    "import sys\n",
    "import os\n",
    "\n",
    "#Set if running locally or in Google Colaboratory\n",
    "Colab = False\n",
    "if Colab:\n",
    "    Script_path = '/content/gdrive/My Drive/Colab Notebooks/Classifier/scripts'\n",
    "    Base_path = '/content/gdrive/My Drive/Colab Notebooks/Classifier/'\n",
    "    from google.colab import drive\n",
    "    drive.mount('/content/gdrive')\n",
    "else:\n",
    "    Script_path = os.getcwd() + '/Classifier/scripts'\n",
    "    Base_path = 'Classifier/'\n",
    "\n",
    "#Add script folder to system path\n",
    "sys.path.insert(0, Script_path)\n",
    "print(sys.path)"
   ]
  },
  {
   "cell_type": "code",
   "execution_count": 3,
   "metadata": {
    "colab": {
     "base_uri": "https://localhost:8080/",
     "height": 53
    },
    "colab_type": "code",
    "id": "vOVz8VHo6m98",
    "outputId": "c4adbf83-aee8-4fda-ceff-96a471308a91"
   },
   "outputs": [
    {
     "name": "stderr",
     "output_type": "stream",
     "text": [
      "C:\\Users\\Kaleem\\Anaconda3\\lib\\site-packages\\h5py\\__init__.py:34: FutureWarning: Conversion of the second argument of issubdtype from `float` to `np.floating` is deprecated. In future, it will be treated as `np.float64 == np.dtype(float).type`.\n",
      "  from ._conv import register_converters as _register_converters\n"
     ]
    }
   ],
   "source": [
    "%load_ext autoreload\n",
    "%autoreload 2\n",
    "\n",
    "from build_model_RMSprop import *\n",
    "from create_data_generators import *\n",
    "from createFolders import *\n",
    "from createSets import *\n",
    "from GenotypeClass import *\n",
    "from load_pre_trained_VGG16 import *\n",
    "from load_pre_trained_Inception import *\n",
    "from model_prediction import *\n",
    "from plot_loss_acc import *\n",
    "from predictClass import *\n",
    "from saveFiles import *\n",
    "from unzip_data import *"
   ]
  },
  {
   "cell_type": "code",
   "execution_count": 4,
   "metadata": {
    "colab": {},
    "colab_type": "code",
    "collapsed": true,
    "id": "3x6y3XrYodwr"
   },
   "outputs": [],
   "source": [
    "#Name of the data zipfile\n",
    "Data_file = 'DataStraightened.zip'\n",
    "\n",
    "#Set Paths\n",
    "Zip_path = Base_path + Data_file\n",
    "Extracted_path = Base_path + 'ExtractedData/'\n",
    "Partitioned_path = Base_path + 'PartitionedData/'\n",
    "Prediction_path = Base_path + 'Predictions/'\n",
    "Validation_prediction_path = Base_path + 'Validation_Predictions/'\n"
   ]
  },
  {
   "cell_type": "code",
   "execution_count": 5,
   "metadata": {
    "colab": {},
    "colab_type": "code",
    "collapsed": true,
    "id": "DUAExlCNoi6z"
   },
   "outputs": [],
   "source": [
    "#Specify input parameters for the pre_trained model\n",
    "shapeY = 50\n",
    "shapeX = 50\n",
    "color_channels = 3\n",
    "\n",
    "# Loading pre-trained models\n",
    "\n",
    "#VGG16 Model\n",
    "local_weights_file_VGG16 = Base_path + 'weights/vgg16_weights_tf_dim_ordering_tf_kernels_notop.h5'\n",
    "pre_trained_model_VGG16, last_layer_output_VGG16 = load_pre_trained_VGG16(local_weights_file_VGG16, shapeY, shapeX, color_channels)\n",
    "\n",
    "# Inception Model\n",
    "#local_weights_file_Inception = Base_path + 'weights/inception_v3_weights_tf_dim_ordering_tf_kernels_notop.h5'\n",
    "#pre_trained_model_Inception, last_layer_output_Inception = load_pre_trained_Inception(local_weights_file_Inception, shapeY, shapeX, color_channels)\n"
   ]
  },
  {
   "cell_type": "code",
   "execution_count": 6,
   "metadata": {
    "colab": {},
    "colab_type": "code",
    "collapsed": true,
    "id": "ePzQOg8kjCOc"
   },
   "outputs": [],
   "source": [
    "#Clear Folders and create Prediction folder\n",
    "deleteFiles(Extracted_path)\n",
    "deleteFiles(Partitioned_path)\n",
    "createFolder(Prediction_path)\n"
   ]
  },
  {
   "cell_type": "code",
   "execution_count": 7,
   "metadata": {
    "colab": {},
    "colab_type": "code",
    "collapsed": true,
    "id": "Vw-2H_Os70cO"
   },
   "outputs": [],
   "source": [
    "#Extract Data\n",
    "unzip_data(Zip_path, Extracted_path)"
   ]
  },
  {
   "cell_type": "code",
   "execution_count": 8,
   "metadata": {
    "colab": {
     "base_uri": "https://localhost:8080/",
     "height": 33
    },
    "colab_type": "code",
    "id": "rMFVYSAGSyT2",
    "outputId": "8e7fe596-6f49-4b9a-b059-69551fdf87ac"
   },
   "outputs": [
    {
     "name": "stdout",
     "output_type": "stream",
     "text": [
      "3\n"
     ]
    }
   ],
   "source": [
    "\n",
    "Genotypes = []\n",
    "num_classes = len(glob.glob(Extracted_path+'*'))\n",
    "for i in range(num_classes):\n",
    "        #Retrieve directory for a given type\n",
    "        Genotype_name = os.listdir(Extracted_path)[i]\n",
    "        Genotypes.append(Genotype(Genotype_name))\n",
    "print(num_classes)\n",
    "createDirectories(num_classes,Extracted_path,Partitioned_path,Genotypes)\n"
   ]
  },
  {
   "cell_type": "code",
   "execution_count": 9,
   "metadata": {
    "colab": {
     "base_uri": "https://localhost:8080/",
     "height": 122
    },
    "colab_type": "code",
    "id": "8sWuDG4ZfxWq",
    "outputId": "49013717-41bb-4fb1-e32a-d6971baabdd8"
   },
   "outputs": [
    {
     "name": "stdout",
     "output_type": "stream",
     "text": [
      "<PIL.PngImagePlugin.PngImageFile image mode=RGB size=1359x150 at 0x1E7B08B5358>\n"
     ]
    },
    {
     "data": {
      "text/plain": [
       "<matplotlib.image.AxesImage at 0x1e7b29786d8>"
      ]
     },
     "execution_count": 9,
     "metadata": {},
     "output_type": "execute_result"
    },
    {
     "data": {
      "image/png": "[encoded data removed]",
      "text/plain": [
       "<matplotlib.figure.Figure at 0x1e7b07f79e8>"
      ]
     },
     "metadata": {},
     "output_type": "display_data"
    }
   ],
   "source": [
    "#Sample Image \n",
    "print(Genotypes[1].images[0])\n",
    "plt.imshow(Genotypes[1].images[0])"
   ]
  },
  {
   "cell_type": "code",
   "execution_count": 10,
   "metadata": {
    "colab": {
     "base_uri": "https://localhost:8080/",
     "height": 67
    },
    "colab_type": "code",
    "id": "Q8Mxl55WUHxt",
    "outputId": "2933d460-ff55-4777-81fe-64aead1a390d"
   },
   "outputs": [
    {
     "name": "stdout",
     "output_type": "stream",
     "text": [
      "31\n",
      "76\n",
      "33\n"
     ]
    }
   ],
   "source": [
    "#Partition data into training and test set\n",
    "#If fixed set to true, all training and test sets have the same size for all classes \n",
    "createTrain_Test(Genotypes,0.5, fixed = True)"
   ]
  },
  {
   "cell_type": "code",
   "execution_count": 11,
   "metadata": {
    "colab": {},
    "colab_type": "code",
    "collapsed": true,
    "id": "B1D3MP_Los63"
   },
   "outputs": [],
   "source": [
    "#Save partitions to respective folders\n",
    "saveFiles(Genotypes)"
   ]
  },
  {
   "cell_type": "code",
   "execution_count": 14,
   "metadata": {
    "colab": {
     "base_uri": "https://localhost:8080/",
     "height": 50
    },
    "colab_type": "code",
    "id": "Ycos0OdbhXUt",
    "outputId": "b85a4677-46b2-4ed4-8703-f5d20233d73b"
   },
   "outputs": [
    {
     "name": "stdout",
     "output_type": "stream",
     "text": [
      "Found 48 images belonging to 3 classes.\n",
      "Found 45 images belonging to 3 classes.\n"
     ]
    }
   ],
   "source": [
    "# Creating training and validation data generators from separated data\n",
    "# Transformations are for training generator only\n",
    "\n",
    "train_generator, validation_generator = create_data_generators(\n",
    "    Partitioned_path,\n",
    "    shapeY, shapeX, \n",
    "    train_batch_size=12, \n",
    "    validation_batch_size=15,\n",
    "    class_mode='categorical')#,\n",
    "    #rotation_range=30,\n",
    "    #width_shift_range=0.3,\n",
    "    #height_shift_range=0.3,\n",
    "    #shear_range=0.3,\n",
    "    #zoom_range=0.3)"
   ]
  },
  {
   "cell_type": "code",
   "execution_count": 15,
   "metadata": {
    "colab": {},
    "colab_type": "code",
    "collapsed": true,
    "id": "sduGk0XEiLBZ"
   },
   "outputs": [],
   "source": [
    "# Building model\n",
    "learning_rate = 0.00001\n",
    "hidden_units_num = 1024\n",
    "model = build_model_RMSprop(pre_trained_model_VGG16, last_layer_output_VGG16, \n",
    "                            learning_rate = learning_rate , hidden_units_num = hidden_units_num,num_classes=num_classes,activation = 'softmax')"
   ]
  },
  {
   "cell_type": "code",
   "execution_count": 16,
   "metadata": {
    "colab": {
     "base_uri": "https://localhost:8080/",
     "height": 1689
    },
    "colab_type": "code",
    "id": "nqyqXPPtkWeB",
    "outputId": "42359211-faa8-4d1c-a1c8-012502d9ce82"
   },
   "outputs": [
    {
     "name": "stdout",
     "output_type": "stream",
     "text": [
      "Epoch 1/5\n",
      " - 4s - loss: 0.6739 - acc: 0.6944 - val_loss: 0.6556 - val_acc: 0.7481\n",
      "Epoch 2/5\n",
      " - 3s - loss: 0.6555 - acc: 0.7222 - val_loss: 0.6431 - val_acc: 0.7481\n",
      "Epoch 3/5\n",
      " - 3s - loss: 0.6444 - acc: 0.7222 - val_loss: 0.6335 - val_acc: 0.7481\n",
      "Epoch 4/5\n",
      " - 3s - loss: 0.6348 - acc: 0.7222 - val_loss: 0.6251 - val_acc: 0.7185\n",
      "Epoch 5/5\n",
      " - 3s - loss: 0.6259 - acc: 0.7222 - val_loss: 0.6174 - val_acc: 0.7185\n"
     ]
    }
   ],
   "source": [
    "# Training model\n",
    "\n",
    "history = model.fit_generator(\n",
    "      train_generator,\n",
    "      steps_per_epoch=4,\n",
    "      epochs=5,\n",
    "      validation_data=validation_generator,\n",
    "      validation_steps=3,\n",
    "      verbose=2)"
   ]
  },
  {
   "cell_type": "code",
   "execution_count": 17,
   "metadata": {
    "colab": {
     "base_uri": "https://localhost:8080/",
     "height": 920
    },
    "colab_type": "code",
    "id": "b0qKY73VkdXj",
    "outputId": "9154b43a-790b-4244-c60d-138ea70f815d"
   },
   "outputs": [
    {
     "name": "stdout",
     "output_type": "stream",
     "text": [
      "Found 15 images belonging to 1 classes.\n",
      "15/15 [==============================] - 1s 65ms/step\n",
      "fsstbx6s\n",
      "[[0.37412265 0.44277146 0.1831059 ]\n",
      " [0.40359718 0.3906113  0.20579156]\n",
      " [0.36858195 0.42904645 0.2023716 ]\n",
      " [0.38742572 0.42067134 0.19190292]\n",
      " [0.39858064 0.41058597 0.19083342]\n",
      " [0.4012209  0.41704142 0.18173763]\n",
      " [0.41820902 0.4084472  0.17334372]\n",
      " [0.4030103  0.39863342 0.19835624]\n",
      " [0.39319885 0.41923478 0.18756637]\n",
      " [0.41322955 0.38626504 0.20050538]\n",
      " [0.4163757  0.39491302 0.18871129]\n",
      " [0.45113826 0.36348408 0.18537772]\n",
      " [0.39642566 0.43662104 0.1669533 ]\n",
      " [0.3900104  0.40230322 0.20768635]\n",
      " [0.3974984  0.40884373 0.19365785]]\n",
      "Found 15 images belonging to 1 classes.\n",
      "15/15 [==============================] - 1s 59ms/step\n",
      "her1her7s\n",
      "[[0.5388233  0.28656864 0.17460802]\n",
      " [0.40156743 0.39897975 0.19945279]\n",
      " [0.43909138 0.3876663  0.17324232]\n",
      " [0.44655097 0.35864332 0.19480577]\n",
      " [0.4033545  0.4089787  0.18766677]\n",
      " [0.39785695 0.36647415 0.23566888]\n",
      " [0.38445014 0.4087994  0.2067505 ]\n",
      " [0.38693634 0.42857283 0.18449081]\n",
      " [0.4064418  0.38804674 0.20551144]\n",
      " [0.47503957 0.34602833 0.17893213]\n",
      " [0.40832195 0.39834917 0.19332889]\n",
      " [0.44288838 0.34588188 0.21122974]\n",
      " [0.3956107  0.4292717  0.17511752]\n",
      " [0.4019508  0.38598514 0.21206412]\n",
      " [0.44467515 0.3558727  0.19945215]]\n",
      "Found 15 images belonging to 1 classes.\n",
      "15/15 [==============================] - 1s 67ms/step\n",
      "WTs\n",
      "[[0.51649815 0.31435502 0.1691468 ]\n",
      " [0.513904   0.31545004 0.17064595]\n",
      " [0.50294    0.32197472 0.17508525]\n",
      " [0.52398217 0.3084875  0.16753027]\n",
      " [0.49351987 0.32805046 0.17842972]\n",
      " [0.4941059  0.3447409  0.16115321]\n",
      " [0.56198865 0.2573147  0.18069667]\n",
      " [0.4955075  0.3245631  0.17992948]\n",
      " [0.5306551  0.28959993 0.17974506]\n",
      " [0.4959064  0.31839305 0.1857006 ]\n",
      " [0.53456044 0.26228148 0.20315805]\n",
      " [0.4710567  0.39420182 0.13474144]\n",
      " [0.4906762  0.32282978 0.18649405]\n",
      " [0.5157354  0.31040284 0.1738618 ]\n",
      " [0.43171066 0.4150414  0.15324795]]\n"
     ]
    }
   ],
   "source": [
    "#Predict Model based on validation set\n",
    "\n",
    "model_prediction(\n",
    "    model, \n",
    "    Genotypes,\n",
    "    Validation_prediction_path,\n",
    "    shapeY, shapeX, \n",
    "    class_mode = 'categorical' # If the content of class0_test_path and class1_test_path should be refreshed\n",
    "    )"
   ]
  },
  {
   "cell_type": "code",
   "execution_count": 21,
   "metadata": {
    "colab": {
     "base_uri": "https://localhost:8080/",
     "height": 605
    },
    "colab_type": "code",
    "id": "acZPsS-WDyOK",
    "outputId": "6148db05-2e6b-414f-b25d-ce70e49eea94",
    "scrolled": true
   },
   "outputs": [
    {
     "name": "stdout",
     "output_type": "stream",
     "text": [
      "Found 15 images belonging to 1 classes.\n",
      "15/15 [==============================] - 1s 55ms/step\n",
      "her1her7s\\test\\Validation1.png\n",
      "[0.3956 0.4293 0.1751]\n",
      "her1her7s\\test\\Validation10.png\n",
      "[0.3845 0.4088 0.2068]\n",
      "her1her7s\\test\\Validation11.png\n",
      "[0.4020 0.3860 0.2121]\n",
      "her1her7s\\test\\Validation12.png\n",
      "[0.4750 0.3460 0.1789]\n",
      "her1her7s\\test\\Validation13.png\n",
      "[0.4064 0.3880 0.2055]\n",
      "her1her7s\\test\\Validation14.png\n",
      "[0.3869 0.4286 0.1845]\n",
      "her1her7s\\test\\Validation15.png\n",
      "[0.4034 0.4090 0.1877]\n",
      "her1her7s\\test\\Validation2.png\n",
      "[0.4391 0.3877 0.1732]\n",
      "her1her7s\\test\\Validation3.png\n",
      "[0.3979 0.3665 0.2357]\n",
      "her1her7s\\test\\Validation4.png\n",
      "[0.4447 0.3559 0.1995]\n",
      "her1her7s\\test\\Validation5.png\n",
      "[0.4083 0.3983 0.1933]\n",
      "her1her7s\\test\\Validation6.png\n",
      "[0.4466 0.3586 0.1948]\n",
      "her1her7s\\test\\Validation7.png\n",
      "[0.4429 0.3459 0.2112]\n",
      "her1her7s\\test\\Validation8.png\n",
      "[0.5388 0.2866 0.1746]\n",
      "her1her7s\\test\\Validation9.png\n",
      "[0.4016 0.3990 0.1995]\n"
     ]
    }
   ],
   "source": [
    "#Predict Model based on Images placed in Prediction Folder\n",
    "float_formatter = lambda x: \"%.4f\" % x\n",
    "np.set_printoptions(formatter={'float_kind':float_formatter})\n",
    "\n",
    "predictionFiles, predictions = predictClass(model,Prediction_path, shapeY, shapeX, class_mode='categorical')\n",
    "#print(predictions)\n",
    "for i in range(len(predictions)):\n",
    "    print(predictionFiles.filenames[i])\n",
    "    print(predictions[i])"
   ]
  },
  {
   "cell_type": "code",
   "execution_count": 22,
   "metadata": {
    "colab": {
     "base_uri": "https://localhost:8080/",
     "height": 543
    },
    "colab_type": "code",
    "id": "kAsd2vKOlLnu",
    "outputId": "5ff876eb-d762-42b6-b453-9f089f2d6773",
    "scrolled": true
   },
   "outputs": [
    {
     "data": {
      "image/png": "[encoded data removed]",
      "text/plain": [
       "<matplotlib.figure.Figure at 0x1e7b915d550>"
      ]
     },
     "metadata": {},
     "output_type": "display_data"
    },
    {
     "data": {
      "image/png": "[encoded data removed]",
      "text/plain": [
       "<matplotlib.figure.Figure at 0x1e7badfe278>"
      ]
     },
     "metadata": {},
     "output_type": "display_data"
    }
   ],
   "source": [
    "#Plot training and validation accuracy per epoch\n",
    "\n",
    "plot_loss_acc(history)"
   ]
  },
  {
   "cell_type": "code",
   "execution_count": 24,
   "metadata": {},
   "outputs": [
    {
     "name": "stdout",
     "output_type": "stream",
     "text": [
      "0.40\n",
      "0.38\n",
      "0.40\n",
      "0.48\n",
      "0.41\n",
      "0.39\n",
      "0.40\n",
      "0.44\n",
      "0.40\n",
      "0.44\n",
      "0.41\n",
      "0.45\n",
      "0.44\n",
      "0.54\n",
      "0.40\n"
     ]
    }
   ],
   "source": [
    "\n",
    "for i in range(len(predictions)):\n",
    "    #print(\"{0:.2f}\".predictions[i][0])\n",
    "    print(format(predictions[i][0], '.2f'))"
   ]
  },
  {
   "cell_type": "code",
   "execution_count": 26,
   "metadata": {
    "collapsed": true
   },
   "outputs": [],
   "source": [
    "import csv\n",
    "PredictionCSV = 'Prediction_Model_1.csv'\n",
    "with open(PredictionCSV, 'w') as csvfile:\n",
    "    fieldnames = ['Filename', 'WT', 'FSS', 'HH']\n",
    "    writer = csv.DictWriter(csvfile, delimiter=\",\", fieldnames=fieldnames,lineterminator = '\\n')\n",
    "    writer.writeheader()\n",
    "    for i in range(len(predictions)):\n",
    "        writer.writerow({'Filename':str(predictionFiles.filenames[i]),'WT':float(format(predictions[i][0], '.4f')),'FSS':float(format(predictions[i][1], '.4f')),'HH':float(format(predictions[i][2], '.4f'))})\n",
    "    Model_parameters = model.optimizer,\", Learning Rate:\", learning_rate, \", Hidden_Units:\", hidden_units_num, \"Input_size:\", model.inputs\n",
    "    writer.writerow({'Filename':\"Model\",'WT':str(Model_parameters)})\n",
    "    "
   ]
  }
 ],
 "metadata": {
  "accelerator": "GPU",
  "colab": {
   "collapsed_sections": [],
   "include_colab_link": true,
   "name": "Classifier.ipynb",
   "provenance": [],
   "version": "0.3.2"
  },
  "kernelspec": {
   "display_name": "Python 3",
   "language": "python",
   "name": "python3"
  }
 },
 "nbformat": 4,
 "nbformat_minor": 1
}
