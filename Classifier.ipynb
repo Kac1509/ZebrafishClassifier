{
  "nbformat": 4,
  "nbformat_minor": 0,
  "metadata": {
    "colab": {
      "name": "Classifier.ipynb",
      "version": "0.3.2",
      "provenance": [],
      "collapsed_sections": [],
      "include_colab_link": true
    },
    "kernelspec": {
      "name": "python3",
      "display_name": "Python 3"
    },
    "accelerator": "GPU"
  },
  "cells": [
    {
      "cell_type": "markdown",
      "metadata": {
        "id": "view-in-github",
        "colab_type": "text"
      },
      "source": [
        "<a href=\"https://colab.research.google.com/github/Kac1509/ZebrafishClassifier/blob/master/Classifier.ipynb\" target=\"_parent\"><img src=\"https://colab.research.google.com/assets/colab-badge.svg\" alt=\"Open In Colab\"/></a>"
      ]
    },
    {
      "metadata": {
        "id": "O9sB3LTb6kUc",
        "colab_type": "code",
        "outputId": "b138ef17-41f0-4105-839d-6007c61f84a7",
        "colab": {
          "base_uri": "https://localhost:8080/",
          "height": 120
        }
      },
      "cell_type": "code",
      "source": [
        "from google.colab import drive\n",
        "drive.mount('/content/gdrive')"
      ],
      "execution_count": 0,
      "outputs": [
        {
          "output_type": "stream",
          "text": [
            "Go to this URL in a browser: https://accounts.google.com/o/oauth2/auth?client_id=947318989803-6bn6qk8qdgf4n4g3pfee6491hc0brc4i.apps.googleusercontent.com&redirect_uri=urn%3Aietf%3Awg%3Aoauth%3A2.0%3Aoob&scope=email%20https%3A%2F%2Fwww.googleapis.com%2Fauth%2Fdocs.test%20https%3A%2F%2Fwww.googleapis.com%2Fauth%2Fdrive%20https%3A%2F%2Fwww.googleapis.com%2Fauth%2Fdrive.photos.readonly%20https%3A%2F%2Fwww.googleapis.com%2Fauth%2Fpeopleapi.readonly&response_type=code\n",
            "\n",
            "Enter your authorization code:\n",
            "··········\n",
            "Mounted at /content/gdrive\n"
          ],
          "name": "stdout"
        }
      ]
    },
    {
      "metadata": {
        "id": "Ur52mAVT78Ee",
        "colab_type": "code",
        "colab": {}
      },
      "cell_type": "code",
      "source": [
        "#import sys\n",
        "#sys.path.insert(0, '/content/gdrive/My Drive/Colab Notebooks/Classifier/scripts')\n",
        "#print(sys.path)"
      ],
      "execution_count": 0,
      "outputs": []
    },
    {
      "metadata": {
        "id": "vOVz8VHo6m98",
        "colab_type": "code",
        "outputId": "c4adbf83-aee8-4fda-ceff-96a471308a91",
        "colab": {
          "base_uri": "https://localhost:8080/",
          "height": 53
        }
      },
      "cell_type": "code",
      "source": [
        "%load_ext autoreload\n",
        "%autoreload 2\n",
        "import os\n",
        "import sys\n",
        "sys.path.insert(0, '/content/gdrive/My Drive/Colab Notebooks/Classifier/scripts')\n",
        "print(sys.path)\n",
        "from load_pre_trained_VGG16 import *\n",
        "from load_pre_trained_Inception import *\n",
        "from build_model_RMSprop import *\n",
        "from unzip_data import *\n",
        "from create_data_generators import *\n",
        "from model_prediction import *\n",
        "from createFolders import *\n",
        "from createSets import *\n",
        "from saveFiles import *\n",
        "from plot_loss_acc import *\n",
        "from predictClass import *\n",
        "\n",
        "\n"
      ],
      "execution_count": 0,
      "outputs": [
        {
          "output_type": "stream",
          "text": [
            "['/content/gdrive/My Drive/Colab Notebooks/Classifier/scripts', '', '/env/python', '/usr/lib/python36.zip', '/usr/lib/python3.6', '/usr/lib/python3.6/lib-dynload', '/usr/local/lib/python3.6/dist-packages', '/usr/lib/python3/dist-packages', '/usr/local/lib/python3.6/dist-packages/IPython/extensions', '/root/.ipython']\n"
          ],
          "name": "stdout"
        }
      ]
    },
    {
      "metadata": {
        "id": "3x6y3XrYodwr",
        "colab_type": "code",
        "colab": {}
      },
      "cell_type": "code",
      "source": [
        "Data_file = 'DataStraightened.zip'\n",
        "Base_path = '/content/gdrive/My Drive/Colab Notebooks/Classifier/'\n",
        "Zip_path = Base_path + Data_file\n",
        "Extracted_path = Base_path + 'ExtractedData/'\n",
        "Partitioned_path = Base_path + 'PartitionedData/'\n",
        "Prediction_path = Base_path + 'Predictions/'\n"
      ],
      "execution_count": 0,
      "outputs": []
    },
    {
      "metadata": {
        "id": "DUAExlCNoi6z",
        "colab_type": "code",
        "colab": {}
      },
      "cell_type": "code",
      "source": [
        "shapeY = 75\n",
        "shapeX = 750\n",
        "color_channels = 3\n",
        "\n",
        "# Loading pre-trained models\n",
        "local_weights_file_VGG16 = '/content/gdrive/My Drive/Colab Notebooks/weights/vgg16_weights_tf_dim_ordering_tf_kernels_notop.h5'\n",
        "pre_trained_model_VGG16, last_layer_output_VGG16 = load_pre_trained_VGG16(local_weights_file_VGG16, shapeY, shapeX, color_channels)\n",
        "\n",
        "\n",
        "# Inception model\n",
        "# local_weights_file_Inception = '/content/gdrive/My Drive/Colab Notebooks/weights/inception_v3_weights_tf_dim_ordering_tf_kernels_notop.h5'\n",
        "# pre_trained_model_Inception, last_layer_output_Inception = load_pre_trained_Inception(local_weights_file_Inception, shapeY, shapeX, color_channels)\n"
      ],
      "execution_count": 0,
      "outputs": []
    },
    {
      "metadata": {
        "id": "ePzQOg8kjCOc",
        "colab_type": "code",
        "colab": {}
      },
      "cell_type": "code",
      "source": [
        "deleteFiles(Extracted_path)\n",
        "deleteFiles(Partitioned_path)\n",
        "createFolder(Prediction_path)\n"
      ],
      "execution_count": 0,
      "outputs": []
    },
    {
      "metadata": {
        "id": "Vw-2H_Os70cO",
        "colab_type": "code",
        "colab": {}
      },
      "cell_type": "code",
      "source": [
        "unzip_data(Zip_path, Extracted_path)"
      ],
      "execution_count": 0,
      "outputs": []
    },
    {
      "metadata": {
        "id": "rMFVYSAGSyT2",
        "colab_type": "code",
        "outputId": "8e7fe596-6f49-4b9a-b059-69551fdf87ac",
        "colab": {
          "base_uri": "https://localhost:8080/",
          "height": 33
        }
      },
      "cell_type": "code",
      "source": [
        "Genotypes = []\n",
        "num_classes = len(glob.glob(Extracted_path+'*'))\n",
        "for i in range(num_classes):\n",
        "        #Retrieve directory for a given type\n",
        "        Genotype_name = os.listdir(Extracted_path)[i]\n",
        "        Genotypes.append(Genotype(Genotype_name))\n",
        "print(num_classes)\n",
        "createDirectories(num_classes,Extracted_path,Partitioned_path,Genotypes)\n"
      ],
      "execution_count": 0,
      "outputs": [
        {
          "output_type": "stream",
          "text": [
            "3\n"
          ],
          "name": "stdout"
        }
      ]
    },
    {
      "metadata": {
        "id": "8sWuDG4ZfxWq",
        "colab_type": "code",
        "outputId": "49013717-41bb-4fb1-e32a-d6971baabdd8",
        "colab": {
          "base_uri": "https://localhost:8080/",
          "height": 122
        }
      },
      "cell_type": "code",
      "source": [
        "print(Genotypes[1].images[0])\n",
        "#Genotypes[1].images\n",
        "plt.imshow(Genotypes[1].images[0])"
      ],
      "execution_count": 0,
      "outputs": [
        {
          "output_type": "stream",
          "text": [
            "<PIL.PngImagePlugin.PngImageFile image mode=RGB size=1359x150 at 0x7F74FAE13B00>\n"
          ],
          "name": "stdout"
        },
        {
          "output_type": "execute_result",
          "data": {
            "text/plain": [
              "<matplotlib.image.AxesImage at 0x7f74f8beeac8>"
            ]
          },
          "metadata": {
            "tags": []
          },
          "execution_count": 22
        },
        {
          "output_type": "display_data",
          "data": {
            "image/png": "[encoded data removed]",
            "text/plain": [
              "<matplotlib.figure.Figure at 0x7f74f814b860>"
            ]
          },
          "metadata": {
            "tags": []
          }
        }
      ]
    },
    {
      "metadata": {
        "id": "Q8Mxl55WUHxt",
        "colab_type": "code",
        "outputId": "2933d460-ff55-4777-81fe-64aead1a390d",
        "colab": {
          "base_uri": "https://localhost:8080/",
          "height": 67
        }
      },
      "cell_type": "code",
      "source": [
        "#Partition data into training and test set\n",
        "#If fixed is true, all training and test sets have the same size for all classes \n",
        "createTrain_Test(Genotypes,0.5, fixed = True)"
      ],
      "execution_count": 0,
      "outputs": [
        {
          "output_type": "stream",
          "text": [
            "31\n",
            "76\n",
            "33\n"
          ],
          "name": "stdout"
        }
      ]
    },
    {
      "metadata": {
        "id": "B1D3MP_Los63",
        "colab_type": "code",
        "colab": {}
      },
      "cell_type": "code",
      "source": [
        "#Save partitions to respective folders\n",
        "saveFiles(Genotypes)"
      ],
      "execution_count": 0,
      "outputs": []
    },
    {
      "metadata": {
        "id": "Ycos0OdbhXUt",
        "colab_type": "code",
        "outputId": "b85a4677-46b2-4ed4-8703-f5d20233d73b",
        "colab": {
          "base_uri": "https://localhost:8080/",
          "height": 50
        }
      },
      "cell_type": "code",
      "source": [
        "# Creating training and validation data generators from separated data\n",
        "# Transformations are for training generator only\n",
        "train_generator, validation_generator = create_data_generators(\n",
        "    Partitioned_path,\n",
        "    shapeY, shapeX, \n",
        "    train_batch_size=8, \n",
        "    validation_batch_size=10,\n",
        "    class_mode='categorical')#,\n",
        "    #rotation_range=30,\n",
        "    #width_shift_range=0.3,\n",
        "    #height_shift_range=0.3,\n",
        "    #shear_range=0.3,\n",
        "    #zoom_range=0.3)"
      ],
      "execution_count": 0,
      "outputs": [
        {
          "output_type": "stream",
          "text": [
            "Found 48 images belonging to 3 classes.\n",
            "Found 45 images belonging to 3 classes.\n"
          ],
          "name": "stdout"
        }
      ]
    },
    {
      "metadata": {
        "id": "sduGk0XEiLBZ",
        "colab_type": "code",
        "colab": {}
      },
      "cell_type": "code",
      "source": [
        "# Building model\n",
        "\n",
        "model = build_model_RMSprop(pre_trained_model_VGG16, last_layer_output_VGG16, \n",
        "                            learning_rate = 0.00001, hidden_units_num = 1024,num_classes=num_classes,activation = 'softmax')"
      ],
      "execution_count": 0,
      "outputs": []
    },
    {
      "metadata": {
        "id": "nqyqXPPtkWeB",
        "colab_type": "code",
        "outputId": "42359211-faa8-4d1c-a1c8-012502d9ce82",
        "colab": {
          "base_uri": "https://localhost:8080/",
          "height": 1689
        }
      },
      "cell_type": "code",
      "source": [
        "# Training model\n",
        "\n",
        "history = model.fit_generator(\n",
        "      train_generator,\n",
        "      steps_per_epoch=4,\n",
        "      epochs=50,\n",
        "      validation_data=validation_generator,\n",
        "      validation_steps=3,\n",
        "      verbose=2)"
      ],
      "execution_count": 0,
      "outputs": [
        {
          "output_type": "stream",
          "text": [
            "Epoch 1/50\n",
            " - 3s - loss: 0.5360 - acc: 0.7292 - val_loss: 0.4093 - val_acc: 0.8667\n",
            "Epoch 2/50\n",
            " - 2s - loss: 0.3631 - acc: 0.9167 - val_loss: 0.3023 - val_acc: 0.9667\n",
            "Epoch 3/50\n",
            " - 1s - loss: 0.2733 - acc: 0.9479 - val_loss: 0.2456 - val_acc: 0.9778\n",
            "Epoch 4/50\n",
            " - 1s - loss: 0.2031 - acc: 1.0000 - val_loss: 0.2172 - val_acc: 1.0000\n",
            "Epoch 5/50\n",
            " - 2s - loss: 0.1558 - acc: 1.0000 - val_loss: 0.1799 - val_acc: 1.0000\n",
            "Epoch 6/50\n",
            " - 1s - loss: 0.1440 - acc: 1.0000 - val_loss: 0.1855 - val_acc: 0.9667\n",
            "Epoch 7/50\n",
            " - 1s - loss: 0.1162 - acc: 1.0000 - val_loss: 0.1486 - val_acc: 0.9889\n",
            "Epoch 8/50\n",
            " - 2s - loss: 0.1028 - acc: 1.0000 - val_loss: 0.1219 - val_acc: 1.0000\n",
            "Epoch 9/50\n",
            " - 2s - loss: 0.0806 - acc: 1.0000 - val_loss: 0.1213 - val_acc: 0.9889\n",
            "Epoch 10/50\n",
            " - 1s - loss: 0.0733 - acc: 1.0000 - val_loss: 0.1054 - val_acc: 1.0000\n",
            "Epoch 11/50\n",
            " - 2s - loss: 0.0644 - acc: 1.0000 - val_loss: 0.1021 - val_acc: 0.9778\n",
            "Epoch 12/50\n",
            " - 2s - loss: 0.0465 - acc: 1.0000 - val_loss: 0.0862 - val_acc: 1.0000\n",
            "Epoch 13/50\n",
            " - 1s - loss: 0.0481 - acc: 1.0000 - val_loss: 0.0871 - val_acc: 0.9778\n",
            "Epoch 14/50\n",
            " - 2s - loss: 0.0367 - acc: 1.0000 - val_loss: 0.0685 - val_acc: 1.0000\n",
            "Epoch 15/50\n",
            " - 2s - loss: 0.0339 - acc: 1.0000 - val_loss: 0.0640 - val_acc: 1.0000\n",
            "Epoch 16/50\n",
            " - 1s - loss: 0.0303 - acc: 1.0000 - val_loss: 0.0743 - val_acc: 0.9778\n",
            "Epoch 17/50\n",
            " - 2s - loss: 0.0235 - acc: 1.0000 - val_loss: 0.0565 - val_acc: 1.0000\n",
            "Epoch 18/50\n",
            " - 2s - loss: 0.0241 - acc: 1.0000 - val_loss: 0.0565 - val_acc: 1.0000\n",
            "Epoch 19/50\n",
            " - 1s - loss: 0.0207 - acc: 1.0000 - val_loss: 0.0549 - val_acc: 1.0000\n",
            "Epoch 20/50\n",
            " - 2s - loss: 0.0133 - acc: 1.0000 - val_loss: 0.0401 - val_acc: 1.0000\n",
            "Epoch 21/50\n",
            " - 2s - loss: 0.0153 - acc: 1.0000 - val_loss: 0.0366 - val_acc: 1.0000\n",
            "Epoch 22/50\n",
            " - 1s - loss: 0.0112 - acc: 1.0000 - val_loss: 0.0340 - val_acc: 1.0000\n",
            "Epoch 23/50\n",
            " - 2s - loss: 0.0114 - acc: 1.0000 - val_loss: 0.0369 - val_acc: 1.0000\n",
            "Epoch 24/50\n",
            " - 1s - loss: 0.0102 - acc: 1.0000 - val_loss: 0.0410 - val_acc: 1.0000\n",
            "Epoch 25/50\n",
            " - 1s - loss: 0.0076 - acc: 1.0000 - val_loss: 0.0261 - val_acc: 1.0000\n",
            "Epoch 26/50\n",
            " - 2s - loss: 0.0070 - acc: 1.0000 - val_loss: 0.0258 - val_acc: 1.0000\n",
            "Epoch 27/50\n",
            " - 2s - loss: 0.0064 - acc: 1.0000 - val_loss: 0.0248 - val_acc: 1.0000\n",
            "Epoch 28/50\n",
            " - 1s - loss: 0.0049 - acc: 1.0000 - val_loss: 0.0261 - val_acc: 1.0000\n",
            "Epoch 29/50\n",
            " - 2s - loss: 0.0052 - acc: 1.0000 - val_loss: 0.0239 - val_acc: 1.0000\n",
            "Epoch 30/50\n",
            " - 1s - loss: 0.0044 - acc: 1.0000 - val_loss: 0.0240 - val_acc: 1.0000\n",
            "Epoch 31/50\n",
            " - 1s - loss: 0.0034 - acc: 1.0000 - val_loss: 0.0236 - val_acc: 1.0000\n",
            "Epoch 32/50\n",
            " - 2s - loss: 0.0035 - acc: 1.0000 - val_loss: 0.0154 - val_acc: 1.0000\n",
            "Epoch 33/50\n",
            " - 1s - loss: 0.0032 - acc: 1.0000 - val_loss: 0.0183 - val_acc: 1.0000\n",
            "Epoch 34/50\n",
            " - 1s - loss: 0.0022 - acc: 1.0000 - val_loss: 0.0153 - val_acc: 1.0000\n",
            "Epoch 35/50\n",
            " - 2s - loss: 0.0027 - acc: 1.0000 - val_loss: 0.0172 - val_acc: 1.0000\n",
            "Epoch 36/50\n",
            " - 1s - loss: 0.0017 - acc: 1.0000 - val_loss: 0.0138 - val_acc: 1.0000\n",
            "Epoch 37/50\n",
            " - 1s - loss: 0.0016 - acc: 1.0000 - val_loss: 0.0174 - val_acc: 1.0000\n",
            "Epoch 38/50\n",
            " - 2s - loss: 0.0014 - acc: 1.0000 - val_loss: 0.0119 - val_acc: 1.0000\n",
            "Epoch 39/50\n",
            " - 1s - loss: 0.0014 - acc: 1.0000 - val_loss: 0.0091 - val_acc: 1.0000\n",
            "Epoch 40/50\n",
            " - 1s - loss: 0.0010 - acc: 1.0000 - val_loss: 0.0123 - val_acc: 1.0000\n",
            "Epoch 41/50\n",
            " - 2s - loss: 0.0011 - acc: 1.0000 - val_loss: 0.0091 - val_acc: 1.0000\n",
            "Epoch 42/50\n",
            " - 1s - loss: 9.4326e-04 - acc: 1.0000 - val_loss: 0.0113 - val_acc: 1.0000\n",
            "Epoch 43/50\n",
            " - 1s - loss: 7.4232e-04 - acc: 1.0000 - val_loss: 0.0105 - val_acc: 1.0000\n",
            "Epoch 44/50\n",
            " - 1s - loss: 6.0371e-04 - acc: 1.0000 - val_loss: 0.0083 - val_acc: 1.0000\n",
            "Epoch 45/50\n",
            " - 2s - loss: 5.8810e-04 - acc: 1.0000 - val_loss: 0.0095 - val_acc: 1.0000\n",
            "Epoch 46/50\n",
            " - 1s - loss: 5.3608e-04 - acc: 1.0000 - val_loss: 0.0097 - val_acc: 1.0000\n",
            "Epoch 47/50\n",
            " - 2s - loss: 3.6725e-04 - acc: 1.0000 - val_loss: 0.0116 - val_acc: 1.0000\n",
            "Epoch 48/50\n",
            " - 1s - loss: 4.5829e-04 - acc: 1.0000 - val_loss: 0.0095 - val_acc: 1.0000\n",
            "Epoch 49/50\n",
            " - 1s - loss: 3.2048e-04 - acc: 1.0000 - val_loss: 0.0118 - val_acc: 1.0000\n",
            "Epoch 50/50\n",
            " - 2s - loss: 4.1045e-04 - acc: 1.0000 - val_loss: 0.0071 - val_acc: 1.0000\n"
          ],
          "name": "stdout"
        }
      ]
    },
    {
      "metadata": {
        "id": "b0qKY73VkdXj",
        "colab_type": "code",
        "outputId": "9154b43a-790b-4244-c60d-138ea70f815d",
        "colab": {
          "base_uri": "https://localhost:8080/",
          "height": 920
        }
      },
      "cell_type": "code",
      "source": [
        "#Predict Model based on validation set\n",
        "model_prediction(\n",
        "    model, \n",
        "    Genotypes,\n",
        "    shapeY, shapeX, \n",
        "    class_mode = 'categorical' # If the content of class0_test_path and class1_test_path should be refreshed\n",
        "    )"
      ],
      "execution_count": 0,
      "outputs": [
        {
          "output_type": "stream",
          "text": [
            "Found 15 images belonging to 1 classes.\n",
            "15/15 [==============================] - 1s 44ms/step\n",
            "fsstbx6s\n",
            "[[6.7757155e-06 9.9968231e-01 3.1087856e-04]\n",
            " [5.1471384e-06 9.9937457e-01 6.2036508e-04]\n",
            " [1.5795425e-05 9.9836463e-01 1.6195501e-03]\n",
            " [1.2304886e-05 9.9859828e-01 1.3895064e-03]\n",
            " [3.2990501e-05 9.9662328e-01 3.3436399e-03]\n",
            " [1.8406181e-05 9.9977630e-01 2.0536469e-04]\n",
            " [3.7590994e-06 9.9873239e-01 1.2637766e-03]\n",
            " [5.5035372e-05 9.9347997e-01 6.4649405e-03]\n",
            " [6.3465304e-06 9.9627858e-01 3.7151566e-03]\n",
            " [7.3396172e-05 8.1773853e-01 1.8218805e-01]\n",
            " [1.8427229e-06 9.9979812e-01 2.0011497e-04]\n",
            " [1.8605062e-05 8.3317333e-01 1.6680808e-01]\n",
            " [2.8977430e-04 9.7082144e-01 2.8888788e-02]\n",
            " [4.2432084e-06 9.9845314e-01 1.5425656e-03]\n",
            " [4.7101285e-06 9.9892235e-01 1.0728717e-03]]\n",
            "Found 15 images belonging to 1 classes.\n",
            "15/15 [==============================] - 0s 31ms/step\n",
            "her1her7s\n",
            "[[1.19160475e-04 2.78810330e-04 9.99602020e-01]\n",
            " [1.54659792e-03 3.77275137e-04 9.98076081e-01]\n",
            " [8.59677140e-03 2.92581483e-03 9.88477409e-01]\n",
            " [1.60704777e-02 7.05933999e-05 9.83859003e-01]\n",
            " [4.09539498e-04 1.78071514e-05 9.99572694e-01]\n",
            " [1.90613428e-04 8.46851338e-03 9.91340935e-01]\n",
            " [1.61811855e-04 3.58593912e-04 9.99479592e-01]\n",
            " [3.04868387e-04 6.22338266e-04 9.99072790e-01]\n",
            " [9.63657585e-05 3.24859377e-03 9.96654987e-01]\n",
            " [2.70376774e-03 4.49478743e-04 9.96846735e-01]\n",
            " [1.14171663e-02 1.76217131e-04 9.88406599e-01]\n",
            " [2.03751071e-04 3.85473599e-04 9.99410748e-01]\n",
            " [2.81342189e-04 2.12787255e-03 9.97590780e-01]\n",
            " [1.03773805e-03 2.80074251e-04 9.98682201e-01]\n",
            " [2.34657113e-04 1.88254577e-04 9.99577105e-01]]\n",
            "Found 15 images belonging to 1 classes.\n",
            "15/15 [==============================] - 0s 29ms/step\n",
            "WTs\n",
            "[[9.9433112e-01 6.3027226e-04 5.0386717e-03]\n",
            " [9.9994981e-01 9.7588543e-07 4.9207581e-05]\n",
            " [9.9943691e-01 4.1273324e-06 5.5893720e-04]\n",
            " [9.9999416e-01 1.8733702e-07 5.6286131e-06]\n",
            " [9.9967504e-01 1.4121532e-06 3.2349399e-04]\n",
            " [9.9993014e-01 3.0349956e-06 6.6906890e-05]\n",
            " [9.9995232e-01 3.1933547e-07 4.7354595e-05]\n",
            " [9.9900478e-01 7.9031643e-06 9.8743790e-04]\n",
            " [9.9360162e-01 1.1815947e-05 6.3864682e-03]\n",
            " [9.6005869e-01 2.4851281e-04 3.9692819e-02]\n",
            " [9.9986386e-01 9.5104696e-07 1.3521990e-04]\n",
            " [9.9996579e-01 3.1125628e-06 3.1152758e-05]\n",
            " [9.9863130e-01 1.5576577e-05 1.3531311e-03]\n",
            " [9.9770677e-01 3.6513669e-04 1.9280496e-03]\n",
            " [9.9855489e-01 2.1568082e-04 1.2294218e-03]]\n"
          ],
          "name": "stdout"
        }
      ]
    },
    {
      "metadata": {
        "id": "acZPsS-WDyOK",
        "colab_type": "code",
        "outputId": "6148db05-2e6b-414f-b25d-ce70e49eea94",
        "colab": {
          "base_uri": "https://localhost:8080/",
          "height": 605
        }
      },
      "cell_type": "code",
      "source": [
        "#Predict Model based on Images placed in Prediction Folder\n",
        "predictions = predictClass(model,Prediction_path, shapeY, shapeX, class_mode='categorical')\n",
        "print(predictions)"
      ],
      "execution_count": 0,
      "outputs": [
        {
          "output_type": "stream",
          "text": [
            "Found 31 images belonging to 1 classes.\n",
            "31/31 [==============================] - 9s 276ms/step\n",
            "['Png/1L-s.png', 'Png/20161213_1-1-s.png', 'Png/20161213_2-1-s.png', 'Png/20161213_3-1-s.png', 'Png/20161213_4-1-s.png', 'Png/20161213_5-1-s.png', 'Png/20170104_10s.png', 'Png/20170104_11s.png', 'Png/20170104_12s.png', 'Png/20170104_13s.png', 'Png/20170104_14s.png', 'Png/20170104_15s.png', 'Png/20170104_1s.png', 'Png/20170104_2s.png', 'Png/20170104_3s.png', 'Png/20170104_4s.png', 'Png/20170104_5s.png', 'Png/20170104_6s.png', 'Png/20170104_7s.png', 'Png/20170104_8s.png', 'Png/20170104_9s.png', 'Png/20170801_18-flipped-1-s.png', 'Png/20170801_9-1-s.png', 'Png/2L-s.png', 'Png/3L-s.png', 'Png/4L-s.png', 'Png/5L-s.png', 'Png/6L-s.png', 'Png/7L-s.png', 'Png/8L-s.png', 'Png/9L-s.png']\n",
            "[[1.2304886e-05 9.9859828e-01 1.3895064e-03]\n",
            " [1.3694210e-05 9.9995935e-01 2.6955408e-05]\n",
            " [7.1159366e-07 9.9958724e-01 4.1205139e-04]\n",
            " [4.9404098e-06 9.9980277e-01 1.9233546e-04]\n",
            " [7.3396172e-05 8.1773853e-01 1.8218805e-01]\n",
            " [5.1471384e-06 9.9937457e-01 6.2036508e-04]\n",
            " [3.3073175e-06 9.9998689e-01 9.7599277e-06]\n",
            " [2.1032543e-05 9.9956340e-01 4.1552878e-04]\n",
            " [3.2990501e-05 9.9662328e-01 3.3436399e-03]\n",
            " [6.7757155e-06 9.9968231e-01 3.1087856e-04]\n",
            " [4.2432084e-06 9.9845314e-01 1.5425656e-03]\n",
            " [6.3465304e-06 9.9627858e-01 3.7151566e-03]\n",
            " [1.8427229e-06 9.9979812e-01 2.0011497e-04]\n",
            " [5.3598646e-06 9.9974173e-01 2.5291738e-04]\n",
            " [4.7101285e-06 9.9892235e-01 1.0728717e-03]\n",
            " [1.5795425e-05 9.9836463e-01 1.6195501e-03]\n",
            " [3.7590994e-06 9.9873239e-01 1.2637766e-03]\n",
            " [5.2459209e-06 9.9930251e-01 6.9226220e-04]\n",
            " [1.7890959e-06 9.9998450e-01 1.3763987e-05]\n",
            " [5.5035372e-05 9.9347997e-01 6.4649405e-03]\n",
            " [4.7399652e-05 9.9966836e-01 2.8423633e-04]\n",
            " [2.8977430e-04 9.7082144e-01 2.8888788e-02]\n",
            " [1.3574894e-05 9.9944729e-01 5.3918106e-04]\n",
            " [2.5084557e-05 9.9963355e-01 3.4131933e-04]\n",
            " [7.2149720e-05 9.9951267e-01 4.1512900e-04]\n",
            " [4.3593195e-06 9.9915385e-01 8.4168237e-04]\n",
            " [2.9174877e-05 9.9984169e-01 1.2913652e-04]\n",
            " [4.5628548e-07 9.9954623e-01 4.5323450e-04]\n",
            " [9.8281189e-06 9.9965382e-01 3.3640498e-04]\n",
            " [1.8605062e-05 8.3317333e-01 1.6680808e-01]\n",
            " [1.8406181e-05 9.9977630e-01 2.0536469e-04]]\n"
          ],
          "name": "stdout"
        }
      ]
    },
    {
      "metadata": {
        "id": "kAsd2vKOlLnu",
        "colab_type": "code",
        "outputId": "5ff876eb-d762-42b6-b453-9f089f2d6773",
        "colab": {
          "base_uri": "https://localhost:8080/",
          "height": 543
        }
      },
      "cell_type": "code",
      "source": [
        "#Plot training and validation accuracy per epoch\n",
        "plot_loss_acc(history)"
      ],
      "execution_count": 0,
      "outputs": [
        {
          "output_type": "display_data",
          "data": {
            "image/png": "[encoded data removed]",
            "text/plain": [
              "<matplotlib.figure.Figure at 0x7f74f8cb62b0>"
            ]
          },
          "metadata": {
            "tags": []
          }
        },
        {
          "output_type": "display_data",
          "data": {
            "image/png": "[encoded data removed]",
            "text/plain": [
              "<matplotlib.figure.Figure at 0x7f74f879e668>"
            ]
          },
          "metadata": {
            "tags": []
          }
        }
      ]
    },
    {
      "metadata": {
        "id": "KVAlzovepvJY",
        "colab_type": "code",
        "colab": {}
      },
      "cell_type": "code",
      "source": [
        ""
      ],
      "execution_count": 0,
      "outputs": []
    }
  ]
}