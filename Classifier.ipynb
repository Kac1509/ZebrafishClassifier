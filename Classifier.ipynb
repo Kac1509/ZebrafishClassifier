{
 "cells": [
  {
   "cell_type": "markdown",
   "metadata": {
    "colab_type": "text",
    "id": "view-in-github"
   },
   "source": [
    "<a href=\"https://colab.research.google.com/github/Kac1509/ZebrafishClassifier/blob/master/Classifier.ipynb\" target=\"_parent\"><img src=\"https://colab.research.google.com/assets/colab-badge.svg\" alt=\"Open In Colab\"/></a>"
   ]
  },
  {
   "cell_type": "code",
   "execution_count": 1,
   "metadata": {
    "colab": {},
    "colab_type": "code",
    "id": "Ur52mAVT78Ee"
   },
   "outputs": [
    {
     "name": "stdout",
     "output_type": "stream",
     "text": [
      "['C:\\\\Users\\\\Kaleem\\\\EPFL\\\\Fall 2018\\\\Machine Learning\\\\Project_2\\\\Git\\\\ZebrafishClassifier/Classifier/scripts', '', 'C:\\\\Users\\\\Kaleem\\\\Anaconda3\\\\python36.zip', 'C:\\\\Users\\\\Kaleem\\\\Anaconda3\\\\DLLs', 'C:\\\\Users\\\\Kaleem\\\\Anaconda3\\\\lib', 'C:\\\\Users\\\\Kaleem\\\\Anaconda3', 'C:\\\\Users\\\\Kaleem\\\\AppData\\\\Roaming\\\\Python\\\\Python36\\\\site-packages', 'C:\\\\Users\\\\Kaleem\\\\Anaconda3\\\\lib\\\\site-packages', 'C:\\\\Users\\\\Kaleem\\\\Anaconda3\\\\lib\\\\site-packages\\\\Sphinx-1.5.6-py3.6.egg', 'C:\\\\Users\\\\Kaleem\\\\Anaconda3\\\\lib\\\\site-packages\\\\win32', 'C:\\\\Users\\\\Kaleem\\\\Anaconda3\\\\lib\\\\site-packages\\\\win32\\\\lib', 'C:\\\\Users\\\\Kaleem\\\\Anaconda3\\\\lib\\\\site-packages\\\\Pythonwin', 'C:\\\\Users\\\\Kaleem\\\\Anaconda3\\\\lib\\\\site-packages\\\\setuptools-27.2.0-py3.6.egg', 'C:\\\\Users\\\\Kaleem\\\\Anaconda3\\\\lib\\\\site-packages\\\\IPython\\\\extensions', 'C:\\\\Users\\\\Kaleem\\\\AppData\\\\Roaming\\\\SPB_Data\\\\.ipython']\n"
     ]
    }
   ],
   "source": [
    "import sys\n",
    "import os\n",
    "\n",
    "#Set if running locally or in Google Colaboratory\n",
    "Colab = False\n",
    "if Colab:\n",
    "    Script_path = '/content/gdrive/My Drive/Colab Notebooks/Classifier/scripts'\n",
    "    Base_path = '/content/gdrive/My Drive/Colab Notebooks/Classifier/'\n",
    "    from google.colab import drive\n",
    "    drive.mount('/content/gdrive')\n",
    "else:\n",
    "    Script_path = os.getcwd() + '/Classifier/scripts'\n",
    "    Base_path = 'Classifier/'\n",
    "\n",
    "#Add script folder to system path\n",
    "sys.path.insert(0, Script_path)\n",
    "print(sys.path)"
   ]
  },
  {
   "cell_type": "code",
   "execution_count": 2,
   "metadata": {
    "colab": {
     "base_uri": "https://localhost:8080/",
     "height": 53
    },
    "colab_type": "code",
    "id": "vOVz8VHo6m98",
    "outputId": "c4adbf83-aee8-4fda-ceff-96a471308a91"
   },
   "outputs": [
    {
     "name": "stderr",
     "output_type": "stream",
     "text": [
      "C:\\Users\\Kaleem\\Anaconda3\\lib\\site-packages\\h5py\\__init__.py:34: FutureWarning: Conversion of the second argument of issubdtype from `float` to `np.floating` is deprecated. In future, it will be treated as `np.float64 == np.dtype(float).type`.\n",
      "  from ._conv import register_converters as _register_converters\n"
     ]
    }
   ],
   "source": [
    "%load_ext autoreload\n",
    "%autoreload 2\n",
    "\n",
    "from build_model_RMSprop import *\n",
    "from create_data_generators import *\n",
    "from createFolders import *\n",
    "from createSets import *\n",
    "from GenotypeClass import *\n",
    "from load_pre_trained_VGG16 import *\n",
    "from load_pre_trained_Inception import *\n",
    "from model_prediction import *\n",
    "from plot_loss_acc import *\n",
    "from predictClass import *\n",
    "from saveFiles import *\n",
    "from unzip_data import *"
   ]
  },
  {
   "cell_type": "code",
   "execution_count": 17,
   "metadata": {
    "colab": {},
    "colab_type": "code",
    "collapsed": true,
    "id": "3x6y3XrYodwr"
   },
   "outputs": [],
   "source": [
    "#Name of the data zipfile\n",
    "Data_file = 'DataStraightened.zip'\n",
    "\n",
    "#Set Paths\n",
    "Zip_path = Base_path + Data_file\n",
    "Extracted_path = Base_path + 'ExtractedData/'\n",
    "Partitioned_path = Base_path + 'PartitionedData/'\n",
    "Prediction_path = Base_path + 'Predictions/'\n",
    "Validation_prediction_path = Base_path + 'Validation_Predictions/'\n"
   ]
  },
  {
   "cell_type": "code",
   "execution_count": 4,
   "metadata": {
    "colab": {},
    "colab_type": "code",
    "collapsed": true,
    "id": "DUAExlCNoi6z"
   },
   "outputs": [],
   "source": [
    "#Specify input parameters for the pre_trained model\n",
    "shapeY = 50\n",
    "shapeX = 150\n",
    "color_channels = 3\n",
    "\n",
    "# Loading pre-trained models\n",
    "\n",
    "#VGG16 Model\n",
    "local_weights_file_VGG16 = Base_path + 'weights/vgg16_weights_tf_dim_ordering_tf_kernels_notop.h5'\n",
    "pre_trained_model_VGG16, last_layer_output_VGG16 = load_pre_trained_VGG16(local_weights_file_VGG16, shapeY, shapeX, color_channels)\n",
    "\n",
    "# Inception Model\n",
    "#local_weights_file_Inception = Base_path + 'weights/inception_v3_weights_tf_dim_ordering_tf_kernels_notop.h5'\n",
    "#pre_trained_model_Inception, last_layer_output_Inception = load_pre_trained_Inception(local_weights_file_Inception, shapeY, shapeX, color_channels)\n"
   ]
  },
  {
   "cell_type": "code",
   "execution_count": 5,
   "metadata": {
    "colab": {},
    "colab_type": "code",
    "collapsed": true,
    "id": "ePzQOg8kjCOc"
   },
   "outputs": [],
   "source": [
    "#Clear Folders and create Prediction folder\n",
    "deleteFiles(Extracted_path)\n",
    "deleteFiles(Partitioned_path)\n",
    "createFolder(Prediction_path)\n"
   ]
  },
  {
   "cell_type": "code",
   "execution_count": 7,
   "metadata": {
    "colab": {},
    "colab_type": "code",
    "id": "Vw-2H_Os70cO"
   },
   "outputs": [],
   "source": [
    "#Extract Data\n",
    "unzip_data(Zip_path, Extracted_path)"
   ]
  },
  {
   "cell_type": "code",
   "execution_count": 8,
   "metadata": {
    "colab": {
     "base_uri": "https://localhost:8080/",
     "height": 33
    },
    "colab_type": "code",
    "id": "rMFVYSAGSyT2",
    "outputId": "8e7fe596-6f49-4b9a-b059-69551fdf87ac"
   },
   "outputs": [
    {
     "name": "stdout",
     "output_type": "stream",
     "text": [
      "3\n"
     ]
    }
   ],
   "source": [
    "\n",
    "Genotypes = []\n",
    "num_classes = len(glob.glob(Extracted_path+'*'))\n",
    "for i in range(num_classes):\n",
    "        #Retrieve directory for a given type\n",
    "        Genotype_name = os.listdir(Extracted_path)[i]\n",
    "        Genotypes.append(Genotype(Genotype_name))\n",
    "print(num_classes)\n",
    "createDirectories(num_classes,Extracted_path,Partitioned_path,Genotypes)\n"
   ]
  },
  {
   "cell_type": "code",
   "execution_count": 9,
   "metadata": {
    "colab": {
     "base_uri": "https://localhost:8080/",
     "height": 122
    },
    "colab_type": "code",
    "id": "8sWuDG4ZfxWq",
    "outputId": "49013717-41bb-4fb1-e32a-d6971baabdd8"
   },
   "outputs": [
    {
     "name": "stdout",
     "output_type": "stream",
     "text": [
      "<PIL.PngImagePlugin.PngImageFile image mode=RGB size=1359x150 at 0x21D72C1D320>\n"
     ]
    },
    {
     "data": {
      "text/plain": [
       "<matplotlib.image.AxesImage at 0x21d74cdce80>"
      ]
     },
     "execution_count": 9,
     "metadata": {},
     "output_type": "execute_result"
    },
    {
     "data": {
      "image/png": "[encoded data removed]",
      "text/plain": [
       "<matplotlib.figure.Figure at 0x21d72a5c9b0>"
      ]
     },
     "metadata": {},
     "output_type": "display_data"
    }
   ],
   "source": [
    "#Sample Image \n",
    "print(Genotypes[1].images[0])\n",
    "plt.imshow(Genotypes[1].images[0])"
   ]
  },
  {
   "cell_type": "code",
   "execution_count": 10,
   "metadata": {
    "colab": {
     "base_uri": "https://localhost:8080/",
     "height": 67
    },
    "colab_type": "code",
    "id": "Q8Mxl55WUHxt",
    "outputId": "2933d460-ff55-4777-81fe-64aead1a390d"
   },
   "outputs": [
    {
     "name": "stdout",
     "output_type": "stream",
     "text": [
      "31\n",
      "76\n",
      "33\n"
     ]
    }
   ],
   "source": [
    "#Partition data into training and test set\n",
    "#If fixed set to true, all training and test sets have the same size for all classes \n",
    "createTrain_Test(Genotypes,0.5, fixed = True)"
   ]
  },
  {
   "cell_type": "code",
   "execution_count": 12,
   "metadata": {
    "colab": {},
    "colab_type": "code",
    "collapsed": true,
    "id": "B1D3MP_Los63"
   },
   "outputs": [],
   "source": [
    "#Save partitions to respective folders\n",
    "saveFiles(Genotypes)"
   ]
  },
  {
   "cell_type": "code",
   "execution_count": 13,
   "metadata": {
    "colab": {
     "base_uri": "https://localhost:8080/",
     "height": 50
    },
    "colab_type": "code",
    "id": "Ycos0OdbhXUt",
    "outputId": "b85a4677-46b2-4ed4-8703-f5d20233d73b"
   },
   "outputs": [
    {
     "name": "stdout",
     "output_type": "stream",
     "text": [
      "Found 48 images belonging to 3 classes.\n",
      "Found 45 images belonging to 3 classes.\n"
     ]
    }
   ],
   "source": [
    "# Creating training and validation data generators from separated data\n",
    "# Transformations are for training generator only\n",
    "\n",
    "train_generator, validation_generator = create_data_generators(\n",
    "    Partitioned_path,\n",
    "    shapeY, shapeX, \n",
    "    train_batch_size=12, \n",
    "    validation_batch_size=15,\n",
    "    class_mode='categorical')#,\n",
    "    #rotation_range=30,\n",
    "    #width_shift_range=0.3,\n",
    "    #height_shift_range=0.3,\n",
    "    #shear_range=0.3,\n",
    "    #zoom_range=0.3)"
   ]
  },
  {
   "cell_type": "code",
   "execution_count": 14,
   "metadata": {
    "colab": {},
    "colab_type": "code",
    "collapsed": true,
    "id": "sduGk0XEiLBZ"
   },
   "outputs": [],
   "source": [
    "# Building model\n",
    "\n",
    "model = build_model_RMSprop(pre_trained_model_VGG16, last_layer_output_VGG16, \n",
    "                            learning_rate = 0.00001, hidden_units_num = 1024,num_classes=num_classes,activation = 'softmax')"
   ]
  },
  {
   "cell_type": "code",
   "execution_count": 15,
   "metadata": {
    "colab": {
     "base_uri": "https://localhost:8080/",
     "height": 1689
    },
    "colab_type": "code",
    "id": "nqyqXPPtkWeB",
    "outputId": "42359211-faa8-4d1c-a1c8-012502d9ce82"
   },
   "outputs": [
    {
     "name": "stdout",
     "output_type": "stream",
     "text": [
      "Epoch 1/5\n",
      " - 12s - loss: 0.7030 - acc: 0.5625 - val_loss: 0.6718 - val_acc: 0.6222\n",
      "Epoch 2/5\n",
      " - 11s - loss: 0.6418 - acc: 0.6875 - val_loss: 0.6338 - val_acc: 0.6519\n",
      "Epoch 3/5\n",
      " - 11s - loss: 0.6113 - acc: 0.6736 - val_loss: 0.6063 - val_acc: 0.6667\n",
      "Epoch 4/5\n",
      " - 11s - loss: 0.5883 - acc: 0.6667 - val_loss: 0.5840 - val_acc: 0.6741\n",
      "Epoch 5/5\n",
      " - 11s - loss: 0.5682 - acc: 0.6944 - val_loss: 0.5657 - val_acc: 0.6815\n"
     ]
    }
   ],
   "source": [
    "# Training model\n",
    "\n",
    "history = model.fit_generator(\n",
    "      train_generator,\n",
    "      steps_per_epoch=4,\n",
    "      epochs=5,\n",
    "      validation_data=validation_generator,\n",
    "      validation_steps=3,\n",
    "      verbose=2)"
   ]
  },
  {
   "cell_type": "code",
   "execution_count": 22,
   "metadata": {
    "colab": {
     "base_uri": "https://localhost:8080/",
     "height": 920
    },
    "colab_type": "code",
    "id": "b0qKY73VkdXj",
    "outputId": "9154b43a-790b-4244-c60d-138ea70f815d"
   },
   "outputs": [
    {
     "name": "stdout",
     "output_type": "stream",
     "text": [
      "Found 15 images belonging to 1 classes.\n",
      "15/15 [==============================] - 2s 136ms/step\n",
      "fsstbx6s\n",
      "[[0.23410021 0.52361226 0.24228752]\n",
      " [0.26432902 0.47688243 0.25878853]\n",
      " [0.2614496  0.4832716  0.2552788 ]\n",
      " [0.30565003 0.43780744 0.25654256]\n",
      " [0.28007928 0.44419    0.27573076]\n",
      " [0.29646665 0.4507982  0.25273517]\n",
      " [0.2405495  0.50435305 0.25509742]\n",
      " [0.2434265  0.44188002 0.31469342]\n",
      " [0.29132265 0.44703186 0.26164544]\n",
      " [0.25545105 0.46973324 0.2748157 ]\n",
      " [0.2604013  0.47539234 0.26420626]\n",
      " [0.26620817 0.4734009  0.2603909 ]\n",
      " [0.24838865 0.4927567  0.25885466]\n",
      " [0.22883469 0.4479798  0.3231855 ]\n",
      " [0.28386843 0.40426403 0.31186756]]\n",
      "Found 15 images belonging to 1 classes.\n",
      "15/15 [==============================] - 2s 132ms/step\n",
      "her1her7s\n",
      "[[0.30207947 0.4026208  0.29529977]\n",
      " [0.32723507 0.4281072  0.2446578 ]\n",
      " [0.2624788  0.4401106  0.2974106 ]\n",
      " [0.28018898 0.44775885 0.27205223]\n",
      " [0.32153484 0.4531039  0.22536126]\n",
      " [0.30920413 0.39731753 0.29347828]\n",
      " [0.27218518 0.44063392 0.28718087]\n",
      " [0.27124605 0.4728132  0.25594077]\n",
      " [0.29526207 0.39119926 0.31353867]\n",
      " [0.29924038 0.43283477 0.26792488]\n",
      " [0.2667764  0.40416366 0.32905993]\n",
      " [0.35572138 0.3568377  0.28744093]\n",
      " [0.22556958 0.49890402 0.27552646]\n",
      " [0.39686298 0.3558573  0.24727969]\n",
      " [0.249467   0.40054977 0.34998316]]\n",
      "Found 15 images belonging to 1 classes.\n",
      "15/15 [==============================] - 2s 132ms/step\n",
      "WTs\n",
      "[[0.4187567  0.36064714 0.22059608]\n",
      " [0.4444261  0.32912573 0.22644822]\n",
      " [0.44094893 0.33171037 0.22734074]\n",
      " [0.38213181 0.39797592 0.21989228]\n",
      " [0.43586943 0.35449886 0.20963167]\n",
      " [0.44954795 0.34161773 0.20883432]\n",
      " [0.45827463 0.32904536 0.21268   ]\n",
      " [0.46359476 0.33879912 0.1976062 ]\n",
      " [0.41806605 0.3224517  0.25948232]\n",
      " [0.4612669  0.32573545 0.21299775]\n",
      " [0.41312262 0.36455047 0.22232687]\n",
      " [0.40056902 0.38008928 0.2193417 ]\n",
      " [0.44496098 0.3364932  0.21854582]\n",
      " [0.40642914 0.3351852  0.25838566]\n",
      " [0.39839733 0.373947   0.22765572]]\n"
     ]
    }
   ],
   "source": [
    "#Predict Model based on validation set\n",
    "\n",
    "model_prediction(\n",
    "    model, \n",
    "    Genotypes,\n",
    "    Validation_prediction_path,\n",
    "    shapeY, shapeX, \n",
    "    class_mode = 'categorical' # If the content of class0_test_path and class1_test_path should be refreshed\n",
    "    )"
   ]
  },
  {
   "cell_type": "code",
   "execution_count": 23,
   "metadata": {
    "colab": {
     "base_uri": "https://localhost:8080/",
     "height": 605
    },
    "colab_type": "code",
    "id": "acZPsS-WDyOK",
    "outputId": "6148db05-2e6b-414f-b25d-ce70e49eea94"
   },
   "outputs": [
    {
     "name": "stdout",
     "output_type": "stream",
     "text": [
      "Found 15 images belonging to 1 classes.\n",
      "15/15 [==============================] - 2s 134ms/step\n",
      "['her1her7s\\\\test\\\\Validation1.png', 'her1her7s\\\\test\\\\Validation10.png', 'her1her7s\\\\test\\\\Validation11.png', 'her1her7s\\\\test\\\\Validation12.png', 'her1her7s\\\\test\\\\Validation13.png', 'her1her7s\\\\test\\\\Validation14.png', 'her1her7s\\\\test\\\\Validation15.png', 'her1her7s\\\\test\\\\Validation2.png', 'her1her7s\\\\test\\\\Validation3.png', 'her1her7s\\\\test\\\\Validation4.png', 'her1her7s\\\\test\\\\Validation5.png', 'her1her7s\\\\test\\\\Validation6.png', 'her1her7s\\\\test\\\\Validation7.png', 'her1her7s\\\\test\\\\Validation8.png', 'her1her7s\\\\test\\\\Validation9.png']\n",
      "[[0.30207947 0.4026208  0.29529977]\n",
      " [0.28018898 0.44775885 0.27205223]\n",
      " [0.29526207 0.39119926 0.31353867]\n",
      " [0.22556958 0.49890402 0.27552646]\n",
      " [0.27124605 0.4728132  0.25594077]\n",
      " [0.2667764  0.40416366 0.32905993]\n",
      " [0.30920413 0.39731753 0.29347828]\n",
      " [0.249467   0.40054977 0.34998316]\n",
      " [0.2624788  0.4401106  0.2974106 ]\n",
      " [0.39686298 0.3558573  0.24727969]\n",
      " [0.32723507 0.4281072  0.2446578 ]\n",
      " [0.27218518 0.44063392 0.28718087]\n",
      " [0.29924038 0.43283477 0.26792488]\n",
      " [0.32153484 0.4531039  0.22536126]\n",
      " [0.35572138 0.3568377  0.28744093]]\n"
     ]
    }
   ],
   "source": [
    "#Predict Model based on Images placed in Prediction Folder\n",
    "\n",
    "predictions = predictClass(model,Prediction_path, shapeY, shapeX, class_mode='categorical')\n",
    "print(predictions)"
   ]
  },
  {
   "cell_type": "code",
   "execution_count": 19,
   "metadata": {
    "colab": {
     "base_uri": "https://localhost:8080/",
     "height": 543
    },
    "colab_type": "code",
    "id": "kAsd2vKOlLnu",
    "outputId": "5ff876eb-d762-42b6-b453-9f089f2d6773"
   },
   "outputs": [
    {
     "data": {
      "image/png": "[encoded data removed]",
      "text/plain": [
       "<matplotlib.figure.Figure at 0x10ec66b2128>"
      ]
     },
     "metadata": {},
     "output_type": "display_data"
    },
    {
     "data": {
      "image/png": "[encoded data removed]",
      "text/plain": [
       "<matplotlib.figure.Figure at 0x10ecedb4908>"
      ]
     },
     "metadata": {},
     "output_type": "display_data"
    }
   ],
   "source": [
    "#Plot training and validation accuracy per epoch\n",
    "\n",
    "plot_loss_acc(history)"
   ]
  },
  {
   "cell_type": "code",
   "execution_count": null,
   "metadata": {
    "collapsed": true
   },
   "outputs": [],
   "source": []
  }
 ],
 "metadata": {
  "accelerator": "GPU",
  "colab": {
   "collapsed_sections": [],
   "include_colab_link": true,
   "name": "Classifier.ipynb",
   "provenance": [],
   "version": "0.3.2"
  },
  "kernelspec": {
   "display_name": "Python 3",
   "language": "python",
   "name": "python3"
  },
  "language_info": {
   "codemirror_mode": {
    "name": "ipython",
    "version": 3
   },
   "file_extension": ".py",
   "mimetype": "text/x-python",
   "name": "python",
   "nbconvert_exporter": "python",
   "pygments_lexer": "ipython3",
   "version": "3.6.1"
  }
 },
 "nbformat": 4,
 "nbformat_minor": 1
}
