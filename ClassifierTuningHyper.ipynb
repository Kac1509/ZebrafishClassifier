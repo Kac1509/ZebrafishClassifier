{
 "cells": [
  {
   "cell_type": "markdown",
   "metadata": {
    "colab_type": "text",
    "id": "view-in-github"
   },
   "source": [
    "<a href=\"https://colab.research.google.com/github/Kac1509/ZebrafishClassifier/blob/master/Classifier.ipynb\" target=\"_parent\"><img src=\"https://colab.research.google.com/assets/colab-badge.svg\" alt=\"Open In Colab\"/></a>"
   ]
  },
  {
   "cell_type": "code",
   "execution_count": 13,
   "metadata": {
    "colab": {
     "base_uri": "https://localhost:8080/",
     "height": 73
    },
    "colab_type": "code",
    "id": "Ur52mAVT78Ee",
    "outputId": "9d21d8e8-0666-40f7-cde6-3e7e16e6ce06"
   },
   "outputs": [
    {
     "name": "stdout",
     "output_type": "stream",
     "text": [
      "Drive already mounted at /content/gdrive; to attempt to forcibly remount, call drive.mount(\"/content/gdrive\", force_remount=True).\n",
      "['/content/gdrive/My Drive/Colab Notebooks/Classifier/scripts', '/content/gdrive/My Drive/Colab Notebooks/Classifier/scripts', '', '/env/python', '/usr/lib/python36.zip', '/usr/lib/python3.6', '/usr/lib/python3.6/lib-dynload', '/usr/local/lib/python3.6/dist-packages', '/usr/lib/python3/dist-packages', '/usr/local/lib/python3.6/dist-packages/IPython/extensions', '/root/.ipython']\n"
     ]
    }
   ],
   "source": [
    "import sys\n",
    "import os\n",
    "\n",
    "#Set if running locally or in Google Colaboratory\n",
    "Colab = True\n",
    "if Colab:\n",
    "    Script_path = '/content/gdrive/My Drive/Colab Notebooks/Classifier/scripts'\n",
    "    Base_path = '/content/gdrive/My Drive/Colab Notebooks/Classifier/'\n",
    "    from google.colab import drive\n",
    "    drive.mount('/content/gdrive')\n",
    "else:\n",
    "    Script_path = os.getcwd() + '/Classifier/scripts'\n",
    "    Base_path = 'Classifier/'\n",
    "\n",
    "#Add script folder to system path\n",
    "sys.path.insert(0, Script_path)\n",
    "print(sys.path)"
   ]
  },
  {
   "cell_type": "code",
   "execution_count": 14,
   "metadata": {
    "colab": {
     "base_uri": "https://localhost:8080/",
     "height": 53
    },
    "colab_type": "code",
    "id": "vOVz8VHo6m98",
    "outputId": "a0bd4c33-c0e7-43e4-d75e-6baf34db39da"
   },
   "outputs": [
    {
     "name": "stdout",
     "output_type": "stream",
     "text": [
      "The autoreload extension is already loaded. To reload it, use:\n",
      "  %reload_ext autoreload\n"
     ]
    }
   ],
   "source": [
    "%load_ext autoreload\n",
    "%autoreload 2\n",
    "\n",
    "from build_model_RMSprop import *\n",
    "from create_data_generators import *\n",
    "from createFolders import *\n",
    "from createSets import *\n",
    "from GenotypeClass import *\n",
    "from load_pre_trained_VGG16 import *\n",
    "from load_pre_trained_Inception import *\n",
    "from model_prediction import *\n",
    "from plot_loss_acc import *\n",
    "from predictClass import *\n",
    "from saveFiles import *\n",
    "from unzip_data import *"
   ]
  },
  {
   "cell_type": "code",
   "execution_count": 0,
   "metadata": {
    "colab": {},
    "colab_type": "code",
    "id": "3x6y3XrYodwr"
   },
   "outputs": [],
   "source": [
    "#Name of the data zipfile\n",
    "Data_file = 'DataStraightened.zip'\n",
    "\n",
    "#Set Paths\n",
    "Zip_path = Base_path + Data_file\n",
    "Extracted_path = Base_path + 'ExtractedData/'\n",
    "Partitioned_path = Base_path + 'PartitionedData/'\n",
    "Prediction_path = Base_path + 'Predictions/'\n",
    "Validation_prediction_path = Base_path + 'Validation_Predictions/'\n"
   ]
  },
  {
   "cell_type": "code",
   "execution_count": 0,
   "metadata": {
    "colab": {},
    "colab_type": "code",
    "id": "DUAExlCNoi6z"
   },
   "outputs": [],
   "source": [
    "#Specify input parameters for the pre_trained model\n",
    "shapeY = 50\n",
    "shapeX = 50\n",
    "color_channels = 3\n",
    "\n",
    "# Loading pre-trained models\n",
    "\n",
    "#VGG16 Model\n",
    "local_weights_file_VGG16 = Base_path + 'weights/vgg16_weights_tf_dim_ordering_tf_kernels_notop.h5'\n",
    "pre_trained_model_VGG16, last_layer_output_VGG16 = load_pre_trained_VGG16(local_weights_file_VGG16, shapeY, shapeX, color_channels)\n",
    "\n",
    "# Inception Model\n",
    "#local_weights_file_Inception = Base_path + 'weights/inception_v3_weights_tf_dim_ordering_tf_kernels_notop.h5'\n",
    "#pre_trained_model_Inception, last_layer_output_Inception = load_pre_trained_Inception(local_weights_file_Inception, shapeY, shapeX, color_channels)\n"
   ]
  },
  {
   "cell_type": "code",
   "execution_count": 0,
   "metadata": {
    "colab": {},
    "colab_type": "code",
    "id": "ePzQOg8kjCOc"
   },
   "outputs": [],
   "source": [
    "#Clear Folders and create Prediction folder\n",
    "deleteFiles(Extracted_path)\n",
    "deleteFiles(Partitioned_path)\n",
    "createFolder(Prediction_path)\n"
   ]
  },
  {
   "cell_type": "code",
   "execution_count": 0,
   "metadata": {
    "colab": {},
    "colab_type": "code",
    "id": "Vw-2H_Os70cO",
    "scrolled": true
   },
   "outputs": [],
   "source": [
    "#Extract Data\n",
    "unzip_data(Zip_path, Extracted_path)"
   ]
  },
  {
   "cell_type": "code",
   "execution_count": 19,
   "metadata": {
    "colab": {
     "base_uri": "https://localhost:8080/",
     "height": 35
    },
    "colab_type": "code",
    "id": "rMFVYSAGSyT2",
    "outputId": "c71a744b-cbc0-4878-865d-dafd927a639a"
   },
   "outputs": [
    {
     "name": "stdout",
     "output_type": "stream",
     "text": [
      "3\n"
     ]
    }
   ],
   "source": [
    "\n",
    "Genotypes = []\n",
    "num_classes = len(glob.glob(Extracted_path+'*'))\n",
    "for i in range(num_classes):\n",
    "        #Retrieve directory for a given type\n",
    "        Genotype_name = os.listdir(Extracted_path)[i]\n",
    "        Genotypes.append(Genotype(Genotype_name))\n",
    "print(num_classes)\n",
    "createDirectories(num_classes,Extracted_path,Partitioned_path,Genotypes)\n"
   ]
  },
  {
   "cell_type": "code",
   "execution_count": 20,
   "metadata": {
    "colab": {
     "base_uri": "https://localhost:8080/",
     "height": 272
    },
    "colab_type": "code",
    "id": "8sWuDG4ZfxWq",
    "outputId": "2cf55b82-df7d-4163-b382-0bb992314ca4"
   },
   "outputs": [
    {
     "name": "stdout",
     "output_type": "stream",
     "text": [
      "<PIL.PngImagePlugin.PngImageFile image mode=RGB size=1359x150 at 0x7F1960514D30>\n"
     ]
    },
    {
     "data": {
      "text/plain": [
       "<matplotlib.image.AxesImage at 0x7f19473a6d68>"
      ]
     },
     "execution_count": 20,
     "metadata": {
      "tags": []
     },
     "output_type": "execute_result"
    },
    {
     "data": {
      "image/png": "[encoded data removed]",
      "text/plain": [
       "<matplotlib.figure.Figure at 0x7f1947400668>"
      ]
     },
     "metadata": {
      "tags": []
     },
     "output_type": "display_data"
    }
   ],
   "source": [
    "#Sample Image \n",
    "print(Genotypes[1].images[0])\n",
    "plt.subplot(311)\n",
    "plt.imshow(Genotypes[0].images[0])\n",
    "plt.subplot(312)\n",
    "plt.imshow(Genotypes[1].images[0])\n",
    "plt.subplot(313)\n",
    "plt.imshow(Genotypes[2].images[0])"
   ]
  },
  {
   "cell_type": "code",
   "execution_count": 0,
   "metadata": {
    "colab": {},
    "colab_type": "code",
    "id": "Q8Mxl55WUHxt"
   },
   "outputs": [],
   "source": []
  },
  {
   "cell_type": "code",
   "execution_count": 0,
   "metadata": {
    "colab": {},
    "colab_type": "code",
    "id": "B1D3MP_Los63"
   },
   "outputs": [],
   "source": [
    "def runModel(epochs = 2, num_nodes = 1024, lr = 0.00001):\n",
    "    #Save partitions to respective folder\n",
    "    saveFiles(Genotypes)\n",
    "    \n",
    "    # Creating training and validation data generators from separated data\n",
    "    # Transformations are for training generator only\n",
    "\n",
    "    train_generator, validation_generator = create_data_generators(\n",
    "        Partitioned_path,\n",
    "        shapeY, shapeX, \n",
    "        train_batch_size=len(Genotypes[0].trainSet), \n",
    "        validation_batch_size=len(Genotypes[0].testSet),\n",
    "        class_mode='categorical',\n",
    "        horizontal_flip = False)#,\n",
    "        #rotation_range=30,\n",
    "        #width_shift_range=0.3,\n",
    "        #height_shift_range=0.3,\n",
    "        #shear_range=0.3,\n",
    "        #zoom_range=0.3)\n",
    "    \n",
    "    x_batch, y_batch = next(train_generator)\n",
    "    xtest_batch, ytest_batch = next(validation_generator)\n",
    "    print(y_batch.shape)\n",
    "    print(ytest_batch.shape)\n",
    "        \n",
    "        # Building model\n",
    "    learning_rate = lr\n",
    "    hidden_units_num = num_nodes\n",
    "    dropout_rate = 0.5 #\"rate=0.1\" would drop out 10% of input units.\n",
    "    model = build_model_RMSprop(pre_trained_model_VGG16, last_layer_output_VGG16, \n",
    "                            Dropout = False,\n",
    "                            dropout_rate = dropout_rate, \n",
    "                            learning_rate = learning_rate ,\n",
    "                            hidden_units_num = hidden_units_num,\n",
    "                            num_classes=num_classes,\n",
    "                            activation = 'softmax')\n",
    "    \n",
    "    # Training model\n",
    "\n",
    "    history = model.fit_generator(\n",
    "      train_generator,\n",
    "      steps_per_epoch=3,\n",
    "      epochs=epochs,\n",
    "      validation_data=validation_generator,\n",
    "      validation_steps=3,\n",
    "      verbose=2)\n",
    "    \n",
    "    return Genotypes,history,model"
   ]
  },
  {
   "cell_type": "code",
   "execution_count": 0,
   "metadata": {
    "colab": {},
    "colab_type": "code",
    "id": "Ycos0OdbhXUt"
   },
   "outputs": [],
   "source": [
    "from sklearn.model_selection import KFold\n",
    "from operator import itemgetter\n",
    "\n",
    "\n",
    "\n",
    "def CV_run(Genotypes_Fold,History_Fold,Model_Fold,epochs,n_splits = 2, num_nodes = 1024, lr = 0.00001):\n",
    "    idx,size = retrieveSmall(Genotypes,sys.maxsize)\n",
    "    kf = KFold(n_splits=n_splits, shuffle=True)\n",
    "    kf.get_n_splits(Genotypes[idx].images)\n",
    "    #print( Genotypes[0].images[0])  \n",
    "    Fold = 0;\n",
    " \n",
    "    for train_index, test_index in kf.split(Genotypes[idx].images):\n",
    "\n",
    "        #print(\"Fold: \", Fold,\" train_index: \",train_index)\n",
    "        print(\"Fold: \", Fold,\" test_index: \",test_index)\n",
    "        #deleteFiles(Base_path + 'PartitionedData')\n",
    "        createDirectories(num_classes,Extracted_path,Partitioned_path,Genotypes)\n",
    "\n",
    "        for i in range(len(Genotypes)):\n",
    "            Genotypes[i].trainSet = itemgetter(*train_index)(Genotypes[i].images)\n",
    "            Genotypes[i].testSet = itemgetter(*test_index)(Genotypes[i].images)\n",
    "            #print(\"Train_set size: \", len(Genotypes[i].trainSet), \" Test_set size: \",len(Genotypes[i].testSet))\n",
    "            \n",
    "        Gen,Hist,Mdl = runModel(epochs, num_nodes = num_nodes, lr = lr)\n",
    "        Genotypes_Fold.append(Gen),History_Fold.append(Hist),Model_Fold.append(Mdl) \n",
    "        \n",
    "        Fold+=1\n",
    "        #plt.subplot(n_splits, 1, Fold)\n",
    "        #plt.imshow(Genotypes[2].testSet[0])\n",
    "        print(len(Genotypes[i].trainSet))\n"
   ]
  },
  {
   "cell_type": "code",
   "execution_count": 0,
   "metadata": {
    "colab": {
     "base_uri": "https://localhost:8080/",
     "height": 1343
    },
    "colab_type": "code",
    "id": "9ti00kPnYqb4",
    "outputId": "ad18fc4e-e57d-4ee1-ec30-24fb4017d690"
   },
   "outputs": [
    {
     "name": "stdout",
     "output_type": "stream",
     "text": [
      "31\n",
      "76\n",
      "33\n",
      "Fold:  0  test_index:  [ 2  7 10 21 30]\n",
      "Found 78 images belonging to 3 classes.\n",
      "Found 15 images belonging to 3 classes.\n",
      "(26, 3)\n",
      "(5, 3)\n",
      "Epoch 1/2\n",
      " - 4s - loss: 0.6833 - acc: 0.6026 - val_loss: 0.6600 - val_acc: 0.6444\n",
      "Epoch 2/2\n",
      " - 1s - loss: 0.6680 - acc: 0.5940 - val_loss: 0.6492 - val_acc: 0.6222\n",
      "26\n",
      "Fold:  1  test_index:  [12 16 24 25 28]\n",
      "Found 78 images belonging to 3 classes.\n",
      "Found 15 images belonging to 3 classes.\n",
      "(26, 3)\n",
      "(5, 3)\n",
      "Epoch 1/2\n",
      " - 2s - loss: 0.6173 - acc: 0.6667 - val_loss: 0.5904 - val_acc: 0.6667\n",
      "Epoch 2/2\n",
      " - 1s - loss: 0.6076 - acc: 0.6667 - val_loss: 0.5841 - val_acc: 0.6667\n",
      "26\n",
      "Fold:  2  test_index:  [ 4  5  8 18 22]\n",
      "Found 78 images belonging to 3 classes.\n",
      "Found 15 images belonging to 3 classes.\n",
      "(26, 3)\n",
      "(5, 3)\n",
      "Epoch 1/2\n",
      " - 2s - loss: 0.6888 - acc: 0.5513 - val_loss: 0.6637 - val_acc: 0.6000\n",
      "Epoch 2/2\n",
      " - 1s - loss: 0.6701 - acc: 0.6154 - val_loss: 0.6514 - val_acc: 0.7333\n",
      "26\n",
      "Fold:  3  test_index:  [13 15 19 20]\n",
      "Found 81 images belonging to 3 classes.\n",
      "Found 13 images belonging to 3 classes.\n",
      "(27, 3)\n",
      "(4, 3)\n",
      "Epoch 1/2\n",
      " - 2s - loss: 0.6889 - acc: 0.6667 - val_loss: 0.6720 - val_acc: 0.6667\n",
      "Epoch 2/2\n",
      " - 1s - loss: 0.6748 - acc: 0.6667 - val_loss: 0.6618 - val_acc: 0.6667\n",
      "27\n",
      "Fold:  4  test_index:  [ 3 11 14 23]\n",
      "Found 81 images belonging to 3 classes.\n",
      "Found 12 images belonging to 3 classes.\n",
      "(27, 3)\n",
      "(4, 3)\n",
      "Epoch 1/2\n",
      " - 2s - loss: 0.7112 - acc: 0.5638 - val_loss: 0.7058 - val_acc: 0.5278\n",
      "Epoch 2/2\n",
      " - 1s - loss: 0.6964 - acc: 0.5638 - val_loss: 0.6961 - val_acc: 0.5833\n",
      "27\n",
      "Fold:  5  test_index:  [ 0  6 17 29]\n",
      "Found 47 images belonging to 3 classes.\n",
      "Found 8 images belonging to 3 classes.\n",
      "(27, 3)\n",
      "(4, 3)\n",
      "Epoch 1/2\n",
      " - 2s - loss: 0.6005 - acc: 0.6877 - val_loss: 0.5593 - val_acc: 0.7222\n",
      "Epoch 2/2\n",
      " - 1s - loss: 0.5861 - acc: 0.6840 - val_loss: 0.5541 - val_acc: 0.6944\n",
      "27\n",
      "Fold:  6  test_index:  [ 1  9 26 27]\n",
      "Found 81 images belonging to 3 classes.\n",
      "Found 12 images belonging to 3 classes.\n",
      "(27, 3)\n",
      "(4, 3)\n",
      "Epoch 1/2\n",
      " - 2s - loss: 0.7136 - acc: 0.6049 - val_loss: 0.6948 - val_acc: 0.6667\n",
      "Epoch 2/2\n",
      " - 1s - loss: 0.6970 - acc: 0.6667 - val_loss: 0.6818 - val_acc: 0.6667\n",
      "27\n"
     ]
    }
   ],
   "source": [
    "CV = True\n",
    "\n",
    "#Run Cross-Validation or a single run \n",
    "if CV:\n",
    "    Genotypes_Fold = []\n",
    "    History_Fold = []\n",
    "    Model_Fold = []\n",
    "    CV_run(Genotypes_Fold,History_Fold,Model_Fold,epochs=2,n_splits = 7)\n",
    "else:\n",
    "    #Partition data into training and test set\n",
    "    #If fixed set to true, all training and test sets have the same size for all classes \n",
    "    createDirectories(num_classes,Extracted_path,Partitioned_path,Genotypes)\n",
    "    createTrain_Test(Genotypes,0.3, fixed = True)\n",
    "    Gen,Hist,Mdl = runModel(epochs=2)\n"
   ]
  },
  {
   "cell_type": "code",
   "execution_count": 0,
   "metadata": {
    "colab": {
     "base_uri": "https://localhost:8080/",
     "height": 929
    },
    "colab_type": "code",
    "id": "nqyqXPPtkWeB",
    "outputId": "2f0c07bf-aea1-4960-b6d9-3cd0f749e62b"
   },
   "outputs": [
    {
     "name": "stdout",
     "output_type": "stream",
     "text": [
      "7\n",
      "[0.644444465637207, 0.6222222447395325]\n",
      "[0.6666666865348816, 0.6666666865348816]\n",
      "[0.5999999940395355, 0.7333333492279053]\n",
      "[0.6666666865348816, 0.6666666865348816]\n",
      "[0.5277777910232544, 0.5833333532015482]\n",
      "[0.7222222288449606, 0.694444457689921]\n",
      "[0.6666666865348816, 0.6666666865348816]\n"
     ]
    },
    {
     "data": {
      "image/png": "[encoded data removed]",
      "text/plain": [
       "<matplotlib.figure.Figure at 0x7fa9340927f0>"
      ]
     },
     "metadata": {
      "tags": []
     },
     "output_type": "display_data"
    },
    {
     "data": {
      "image/png": "[encoded data removed]",
      "text/plain": [
       "<matplotlib.figure.Figure at 0x7fa91bb7ebe0>"
      ]
     },
     "metadata": {
      "tags": []
     },
     "output_type": "display_data"
    },
    {
     "data": {
      "image/png": "[encoded data removed]",
      "text/plain": [
       "<matplotlib.figure.Figure at 0x7fa91bb055f8>"
      ]
     },
     "metadata": {
      "tags": []
     },
     "output_type": "display_data"
    },
    {
     "data": {
      "image/png": "[encoded data removed]",
      "text/plain": [
       "<matplotlib.figure.Figure at 0x7fa91bac52e8>"
      ]
     },
     "metadata": {
      "tags": []
     },
     "output_type": "display_data"
    },
    {
     "data": {
      "image/png": "[encoded data removed]",
      "text/plain": [
       "<matplotlib.figure.Figure at 0x7fa91ba4a1d0>"
      ]
     },
     "metadata": {
      "tags": []
     },
     "output_type": "display_data"
    },
    {
     "data": {
      "image/png": "[encoded data removed]",
      "text/plain": [
       "<matplotlib.figure.Figure at 0x7fa91b9fcf60>"
      ]
     },
     "metadata": {
      "tags": []
     },
     "output_type": "display_data"
    },
    {
     "data": {
      "image/png": "[encoded data removed]",
      "text/plain": [
       "<matplotlib.figure.Figure at 0x7fa91b983710>"
      ]
     },
     "metadata": {
      "tags": []
     },
     "output_type": "display_data"
    },
    {
     "data": {
      "image/png": "[encoded data removed]",
      "text/plain": [
       "<matplotlib.figure.Figure at 0x7fa91b9456d8>"
      ]
     },
     "metadata": {
      "tags": []
     },
     "output_type": "display_data"
    }
   ],
   "source": [
    "#Plotting Accuracy for folds\n",
    "if CV:\n",
    "    print(len(History_Fold))\n",
    "    for i in range(len(History_Fold)):\n",
    "        print(History_Fold[i].history['val_acc'])\n",
    "        plt.subplot(len(History_Fold), 1, i+1)\n",
    "        plot_loss_acc(History_Fold[i])\n",
    "#Plotting for single run\n",
    "else:\n",
    "    plot_loss_acc(Hist)\n",
    "    "
   ]
  },
  {
   "cell_type": "code",
   "execution_count": 0,
   "metadata": {
    "colab": {
     "base_uri": "https://localhost:8080/",
     "height": 920
    },
    "colab_type": "code",
    "id": "b0qKY73VkdXj",
    "outputId": "9154b43a-790b-4244-c60d-138ea70f815d"
   },
   "outputs": [
    {
     "name": "stdout",
     "output_type": "stream",
     "text": [
      "Found 15 images belonging to 1 classes.\n",
      "15/15 [==============================] - 1s 59ms/step\n",
      "fsstbx6s\n",
      "[[0.2801 0.3723 0.3476]\n",
      " [0.2929 0.3980 0.3090]\n",
      " [0.2655 0.3821 0.3524]\n",
      " [0.2827 0.3641 0.3532]\n",
      " [0.2142 0.4590 0.3268]\n",
      " [0.2459 0.4088 0.3453]\n",
      " [0.2090 0.4222 0.3688]\n",
      " [0.2541 0.3361 0.4099]\n",
      " [0.2473 0.4437 0.3090]\n",
      " [0.1948 0.4846 0.3205]\n",
      " [0.2583 0.3859 0.3557]\n",
      " [0.2529 0.4057 0.3414]\n",
      " [0.2411 0.3966 0.3622]\n",
      " [0.2569 0.3739 0.3692]\n",
      " [0.2623 0.3687 0.3690]]\n",
      "Found 15 images belonging to 1 classes.\n",
      "15/15 [==============================] - 1s 58ms/step\n",
      "her1her7s\n",
      "[[0.2606 0.3588 0.3806]\n",
      " [0.2271 0.4031 0.3698]\n",
      " [0.2444 0.3865 0.3691]\n",
      " [0.2701 0.3618 0.3680]\n",
      " [0.1815 0.4531 0.3654]\n",
      " [0.1918 0.4264 0.3818]\n",
      " [0.2450 0.4478 0.3072]\n",
      " [0.2705 0.3480 0.3815]\n",
      " [0.2272 0.3830 0.3898]\n",
      " [0.2688 0.3355 0.3957]\n",
      " [0.1764 0.4478 0.3758]\n",
      " [0.2188 0.3840 0.3972]\n",
      " [0.2679 0.3493 0.3828]\n",
      " [0.2392 0.3802 0.3806]\n",
      " [0.1849 0.4218 0.3933]]\n",
      "Found 15 images belonging to 1 classes.\n",
      "15/15 [==============================] - 1s 57ms/step\n",
      "WTs\n",
      "[[0.2079 0.4207 0.3715]\n",
      " [0.2331 0.4059 0.3610]\n",
      " [0.2490 0.3615 0.3895]\n",
      " [0.2701 0.3424 0.3875]\n",
      " [0.2274 0.3783 0.3942]\n",
      " [0.2770 0.3941 0.3289]\n",
      " [0.2593 0.3487 0.3920]\n",
      " [0.2232 0.4230 0.3538]\n",
      " [0.2197 0.4059 0.3744]\n",
      " [0.1946 0.4163 0.3891]\n",
      " [0.2584 0.3657 0.3759]\n",
      " [0.2176 0.3689 0.4135]\n",
      " [0.2056 0.4168 0.3776]\n",
      " [0.2231 0.3816 0.3953]\n",
      " [0.2087 0.4116 0.3798]]\n"
     ]
    }
   ],
   "source": [
    "#Format array to 4 decimal points\n",
    "float_formatter = lambda x: \"%.4f\" % x\n",
    "np.set_printoptions(formatter={'float_kind':float_formatter})\n",
    "\n",
    "#Predict Model based on validation set\n",
    "\n",
    "model_prediction(\n",
    "    model, \n",
    "    Genotypes,\n",
    "    Validation_prediction_path,\n",
    "    shapeY, shapeX, \n",
    "    class_mode = 'categorical' # If the content of class0_test_path and class1_test_path should be refreshed\n",
    "    )"
   ]
  },
  {
   "cell_type": "code",
   "execution_count": 0,
   "metadata": {
    "colab": {
     "base_uri": "https://localhost:8080/",
     "height": 605
    },
    "colab_type": "code",
    "id": "acZPsS-WDyOK",
    "outputId": "6148db05-2e6b-414f-b25d-ce70e49eea94",
    "scrolled": true
   },
   "outputs": [
    {
     "name": "stdout",
     "output_type": "stream",
     "text": [
      "Found 0 images belonging to 0 classes.\n"
     ]
    }
   ],
   "source": [
    "predictionFiles, predictions = predictClass(model,Prediction_path, shapeY, shapeX, class_mode='categorical')\n",
    "#print(predictions)\n",
    "for i in range(len(predictions)):\n",
    "    print(predictionFiles.filenames[i])\n",
    "    print(predictions[i])"
   ]
  },
  {
   "cell_type": "code",
   "execution_count": 0,
   "metadata": {
    "colab": {
     "base_uri": "https://localhost:8080/",
     "height": 543
    },
    "colab_type": "code",
    "id": "kAsd2vKOlLnu",
    "outputId": "5ff876eb-d762-42b6-b453-9f089f2d6773",
    "scrolled": true
   },
   "outputs": [
    {
     "data": {
      "image/png": "[encoded data removed]",
      "text/plain": [
       "<Figure size 432x288 with 1 Axes>"
      ]
     },
     "metadata": {
      "tags": []
     },
     "output_type": "display_data"
    },
    {
     "data": {
      "image/png": "[encoded data removed]",
      "text/plain": [
       "<Figure size 432x288 with 1 Axes>"
      ]
     },
     "metadata": {
      "tags": []
     },
     "output_type": "display_data"
    }
   ],
   "source": [
    "#Plot training and validation accuracy per epoch\n",
    "\n",
    "plot_loss_acc(history)"
   ]
  },
  {
   "cell_type": "code",
   "execution_count": 0,
   "metadata": {
    "colab": {},
    "colab_type": "code",
    "id": "8vkORR3xYqdQ"
   },
   "outputs": [],
   "source": [
    "import csv\n",
    "import datetime\n",
    "\n",
    "ModelType = 'Prediction_Model_1_Option1_' \n",
    "time = f\"{datetime.datetime.now():%Y-%m-%d_%H%M}\"\n",
    "csvName = ModelType + time + '.csv'\n",
    "PredictionCSV = Base_path + csvName\n",
    "with open(PredictionCSV, 'w') as csvfile:\n",
    "    fieldnames = ['Filename', 'WT', 'FSS', 'HH']\n",
    "    writer = csv.DictWriter(csvfile, delimiter=\",\", fieldnames=fieldnames,lineterminator = '\\n')\n",
    "    writer.writeheader()\n",
    "    for i in range(len(predictions)):\n",
    "        writer.writerow({'Filename':str(predictionFiles.filenames[i]),'WT':float(format(predictions[i][0], '.4f')),'FSS':float(format(predictions[i][1], '.4f')),'HH':float(format(predictions[i][2], '.4f'))})\n",
    "    Model_parameters = model.optimizer,\", Learning Rate:\", learning_rate, \", Hidden_Units:\", hidden_units_num, \"Input_size:\", model.inputs\n",
    "    writer.writerow({'Filename':\"Model\",'WT':str(Model_parameters)})\n",
    "    "
   ]
  },
  {
   "cell_type": "code",
   "execution_count": 0,
   "metadata": {
    "colab": {},
    "colab_type": "code",
    "id": "Gnd8zq_DYqdc"
   },
   "outputs": [],
   "source": []
  },
  {
   "cell_type": "markdown",
   "metadata": {
    "colab_type": "text",
    "id": "q0Z8oCOVdgBo"
   },
   "source": [
    "**Hyper params tuning**"
   ]
  },
  {
   "cell_type": "code",
   "execution_count": 0,
   "metadata": {
    "colab": {},
    "colab_type": "code",
    "id": "CX5M9U_8ddVo"
   },
   "outputs": [],
   "source": [
    "from IPython import get_ipython\n",
    "get_ipython().run_line_magic('matplotlib', 'inline')\n",
    "\n",
    "import matplotlib.pyplot as plt\n",
    "import matplotlib.image as mpimg\n",
    "\n",
    "def plot_loss(history, lr):\n",
    "  # Retrieve a list of list results on training and test data\n",
    "  # sets for each training epoch\n",
    "  loss = history.history['loss']\n",
    "  val_loss = history.history['val_loss']\n",
    "\n",
    "  # Get number of epochs\n",
    "  epochs = range(len(loss))\n",
    "\n",
    "  # Plot training and validation loss per epoch\n",
    "  plt.plot(epochs, loss)\n",
    "  plt.plot(epochs, val_loss)\n",
    "  plt.title('Training and validation loss, lr = ' + str(lr))\n",
    "\n",
    "  plt.figure()"
   ]
  },
  {
   "cell_type": "code",
   "execution_count": 0,
   "metadata": {
    "colab": {},
    "colab_type": "code",
    "id": "hQ6TulRvddSp"
   },
   "outputs": [],
   "source": [
    "import numpy as np\n",
    "import matplotlib.pyplot as plt\n",
    "\n",
    "\n",
    "def cross_validation_visualization(lambds, mse_tr, mse_te):\n",
    "    \"\"\"visualization the curves of mse_tr and mse_te.\"\"\"\n",
    "    plt.semilogx(lambds, mse_tr, marker=\".\", color='b', label='train error')\n",
    "    plt.semilogx(lambds, mse_te, marker=\".\", color='r', label='test error')\n",
    "    plt.xlabel(\"learning rate\")\n",
    "    plt.ylabel(\"loss\")\n",
    "    plt.title(\"different learning rates\")\n",
    "    plt.legend(loc=2)\n",
    "    plt.grid(True)\n",
    "    # plt.savefig(\"cross_validation\")"
   ]
  },
  {
   "cell_type": "code",
   "execution_count": 25,
   "metadata": {
    "colab": {
     "base_uri": "https://localhost:8080/",
     "height": 1844
    },
    "colab_type": "code",
    "id": "B_thtwDKdlBl",
    "outputId": "41ea707e-b871-46e0-b055-ba44e318b4aa"
   },
   "outputs": [
    {
     "name": "stdout",
     "output_type": "stream",
     "text": [
      "lr = 1e-07\n",
      "31\n",
      "76\n",
      "33\n",
      "Fold:  0  test_index:  [ 1  9 11 15 19 26 27 29]\n",
      "Found 69 images belonging to 3 classes.\n",
      "Found 24 images belonging to 3 classes.\n",
      "(23, 3)\n",
      "(8, 3)\n",
      "Epoch 1/20\n",
      " - 5s - loss: 0.7231 - acc: 0.5507 - val_loss: 0.7409 - val_acc: 0.5139\n",
      "Epoch 2/20\n"
     ]
    },
    {
     "ename": "KeyboardInterrupt",
     "evalue": "ignored",
     "output_type": "error",
     "traceback": [
      "\u001b[0;31m---------------------------------------------------------------------------\u001b[0m",
      "\u001b[0;31mKeyboardInterrupt\u001b[0m                         Traceback (most recent call last)",
      "\u001b[0;32m<ipython-input-25-6ea7edadc066>\u001b[0m in \u001b[0;36m<module>\u001b[0;34m()\u001b[0m\n\u001b[1;32m     29\u001b[0m     \u001b[0mcross_validation_visualization\u001b[0m\u001b[0;34m(\u001b[0m\u001b[0mlearning_rates\u001b[0m\u001b[0;34m,\u001b[0m \u001b[0mloss_tr\u001b[0m\u001b[0;34m,\u001b[0m \u001b[0mloss_te\u001b[0m\u001b[0;34m)\u001b[0m\u001b[0;34m\u001b[0m\u001b[0;34m\u001b[0m\u001b[0m\n\u001b[1;32m     30\u001b[0m \u001b[0;34m\u001b[0m\u001b[0m\n\u001b[0;32m---> 31\u001b[0;31m \u001b[0mlearning_rate_demo\u001b[0m\u001b[0;34m(\u001b[0m\u001b[0;34m)\u001b[0m\u001b[0;34m\u001b[0m\u001b[0;34m\u001b[0m\u001b[0m\n\u001b[0m",
      "\u001b[0;32m<ipython-input-25-6ea7edadc066>\u001b[0m in \u001b[0;36mlearning_rate_demo\u001b[0;34m()\u001b[0m\n\u001b[1;32m     16\u001b[0m         \u001b[0mHistory_Fold\u001b[0m \u001b[0;34m=\u001b[0m \u001b[0;34m[\u001b[0m\u001b[0;34m]\u001b[0m\u001b[0;34m\u001b[0m\u001b[0;34m\u001b[0m\u001b[0m\n\u001b[1;32m     17\u001b[0m         \u001b[0mModel_Fold\u001b[0m \u001b[0;34m=\u001b[0m \u001b[0;34m[\u001b[0m\u001b[0;34m]\u001b[0m\u001b[0;34m\u001b[0m\u001b[0;34m\u001b[0m\u001b[0m\n\u001b[0;32m---> 18\u001b[0;31m         \u001b[0mCV_run\u001b[0m\u001b[0;34m(\u001b[0m\u001b[0mGenotypes_Fold\u001b[0m\u001b[0;34m,\u001b[0m \u001b[0mHistory_Fold\u001b[0m\u001b[0;34m,\u001b[0m \u001b[0mModel_Fold\u001b[0m\u001b[0;34m,\u001b[0m \u001b[0mepochs\u001b[0m\u001b[0;34m=\u001b[0m\u001b[0;36m20\u001b[0m\u001b[0;34m,\u001b[0m \u001b[0mn_splits\u001b[0m \u001b[0;34m=\u001b[0m \u001b[0mk_fold\u001b[0m\u001b[0;34m,\u001b[0m \u001b[0mnum_nodes\u001b[0m \u001b[0;34m=\u001b[0m \u001b[0;36m1024\u001b[0m\u001b[0;34m,\u001b[0m \u001b[0mlr\u001b[0m \u001b[0;34m=\u001b[0m \u001b[0mlr\u001b[0m\u001b[0;34m)\u001b[0m\u001b[0;34m\u001b[0m\u001b[0;34m\u001b[0m\u001b[0m\n\u001b[0m\u001b[1;32m     19\u001b[0m \u001b[0;34m\u001b[0m\u001b[0m\n\u001b[1;32m     20\u001b[0m         \u001b[0mloss_tr_tmp\u001b[0m \u001b[0;34m=\u001b[0m \u001b[0;34m[\u001b[0m\u001b[0;34m]\u001b[0m\u001b[0;34m\u001b[0m\u001b[0;34m\u001b[0m\u001b[0m\n",
      "\u001b[0;32m<ipython-input-22-4faab96c1a7f>\u001b[0m in \u001b[0;36mCV_run\u001b[0;34m(Genotypes_Fold, History_Fold, Model_Fold, epochs, n_splits, num_nodes, lr)\u001b[0m\n\u001b[1;32m     23\u001b[0m             \u001b[0;31m#print(\"Train_set size: \", len(Genotypes[i].trainSet), \" Test_set size: \",len(Genotypes[i].testSet))\u001b[0m\u001b[0;34m\u001b[0m\u001b[0;34m\u001b[0m\u001b[0;34m\u001b[0m\u001b[0m\n\u001b[1;32m     24\u001b[0m \u001b[0;34m\u001b[0m\u001b[0m\n\u001b[0;32m---> 25\u001b[0;31m         \u001b[0mGen\u001b[0m\u001b[0;34m,\u001b[0m\u001b[0mHist\u001b[0m\u001b[0;34m,\u001b[0m\u001b[0mMdl\u001b[0m \u001b[0;34m=\u001b[0m \u001b[0mrunModel\u001b[0m\u001b[0;34m(\u001b[0m\u001b[0mepochs\u001b[0m\u001b[0;34m,\u001b[0m \u001b[0mnum_nodes\u001b[0m \u001b[0;34m=\u001b[0m \u001b[0mnum_nodes\u001b[0m\u001b[0;34m,\u001b[0m \u001b[0mlr\u001b[0m \u001b[0;34m=\u001b[0m \u001b[0mlr\u001b[0m\u001b[0;34m)\u001b[0m\u001b[0;34m\u001b[0m\u001b[0;34m\u001b[0m\u001b[0m\n\u001b[0m\u001b[1;32m     26\u001b[0m         \u001b[0mGenotypes_Fold\u001b[0m\u001b[0;34m.\u001b[0m\u001b[0mappend\u001b[0m\u001b[0;34m(\u001b[0m\u001b[0mGen\u001b[0m\u001b[0;34m)\u001b[0m\u001b[0;34m,\u001b[0m\u001b[0mHistory_Fold\u001b[0m\u001b[0;34m.\u001b[0m\u001b[0mappend\u001b[0m\u001b[0;34m(\u001b[0m\u001b[0mHist\u001b[0m\u001b[0;34m)\u001b[0m\u001b[0;34m,\u001b[0m\u001b[0mModel_Fold\u001b[0m\u001b[0;34m.\u001b[0m\u001b[0mappend\u001b[0m\u001b[0;34m(\u001b[0m\u001b[0mMdl\u001b[0m\u001b[0;34m)\u001b[0m\u001b[0;34m\u001b[0m\u001b[0;34m\u001b[0m\u001b[0m\n\u001b[1;32m     27\u001b[0m \u001b[0;34m\u001b[0m\u001b[0m\n",
      "\u001b[0;32m<ipython-input-21-fa83d514d5ce>\u001b[0m in \u001b[0;36mrunModel\u001b[0;34m(epochs, num_nodes, lr)\u001b[0m\n\u001b[1;32m     44\u001b[0m       \u001b[0mvalidation_data\u001b[0m\u001b[0;34m=\u001b[0m\u001b[0mvalidation_generator\u001b[0m\u001b[0;34m,\u001b[0m\u001b[0;34m\u001b[0m\u001b[0;34m\u001b[0m\u001b[0m\n\u001b[1;32m     45\u001b[0m       \u001b[0mvalidation_steps\u001b[0m\u001b[0;34m=\u001b[0m\u001b[0;36m3\u001b[0m\u001b[0;34m,\u001b[0m\u001b[0;34m\u001b[0m\u001b[0;34m\u001b[0m\u001b[0m\n\u001b[0;32m---> 46\u001b[0;31m       verbose=2)\n\u001b[0m\u001b[1;32m     47\u001b[0m \u001b[0;34m\u001b[0m\u001b[0m\n\u001b[1;32m     48\u001b[0m     \u001b[0;32mreturn\u001b[0m \u001b[0mGenotypes\u001b[0m\u001b[0;34m,\u001b[0m\u001b[0mhistory\u001b[0m\u001b[0;34m,\u001b[0m\u001b[0mmodel\u001b[0m\u001b[0;34m\u001b[0m\u001b[0;34m\u001b[0m\u001b[0m\n",
      "\u001b[0;32m/usr/local/lib/python3.6/dist-packages/tensorflow/python/keras/engine/training.py\u001b[0m in \u001b[0;36mfit_generator\u001b[0;34m(self, generator, steps_per_epoch, epochs, verbose, callbacks, validation_data, validation_steps, class_weight, max_queue_size, workers, use_multiprocessing, shuffle, initial_epoch)\u001b[0m\n\u001b[1;32m   2175\u001b[0m         \u001b[0muse_multiprocessing\u001b[0m\u001b[0;34m=\u001b[0m\u001b[0muse_multiprocessing\u001b[0m\u001b[0;34m,\u001b[0m\u001b[0;34m\u001b[0m\u001b[0;34m\u001b[0m\u001b[0m\n\u001b[1;32m   2176\u001b[0m         \u001b[0mshuffle\u001b[0m\u001b[0;34m=\u001b[0m\u001b[0mshuffle\u001b[0m\u001b[0;34m,\u001b[0m\u001b[0;34m\u001b[0m\u001b[0;34m\u001b[0m\u001b[0m\n\u001b[0;32m-> 2177\u001b[0;31m         initial_epoch=initial_epoch)\n\u001b[0m\u001b[1;32m   2178\u001b[0m \u001b[0;34m\u001b[0m\u001b[0m\n\u001b[1;32m   2179\u001b[0m   def evaluate_generator(self,\n",
      "\u001b[0;32m/usr/local/lib/python3.6/dist-packages/tensorflow/python/keras/engine/training_generator.py\u001b[0m in \u001b[0;36mfit_generator\u001b[0;34m(model, generator, steps_per_epoch, epochs, verbose, callbacks, validation_data, validation_steps, class_weight, max_queue_size, workers, use_multiprocessing, shuffle, initial_epoch)\u001b[0m\n\u001b[1;32m    195\u001b[0m                 \u001b[0mworkers\u001b[0m\u001b[0;34m=\u001b[0m\u001b[0mworkers\u001b[0m\u001b[0;34m,\u001b[0m\u001b[0;34m\u001b[0m\u001b[0;34m\u001b[0m\u001b[0m\n\u001b[1;32m    196\u001b[0m                 \u001b[0muse_multiprocessing\u001b[0m\u001b[0;34m=\u001b[0m\u001b[0muse_multiprocessing\u001b[0m\u001b[0;34m,\u001b[0m\u001b[0;34m\u001b[0m\u001b[0;34m\u001b[0m\u001b[0m\n\u001b[0;32m--> 197\u001b[0;31m                 max_queue_size=max_queue_size)\n\u001b[0m\u001b[1;32m    198\u001b[0m           \u001b[0;32melse\u001b[0m\u001b[0;34m:\u001b[0m\u001b[0;34m\u001b[0m\u001b[0;34m\u001b[0m\u001b[0m\n\u001b[1;32m    199\u001b[0m             \u001b[0;31m# No need for try/except because\u001b[0m\u001b[0;34m\u001b[0m\u001b[0;34m\u001b[0m\u001b[0;34m\u001b[0m\u001b[0m\n",
      "\u001b[0;32m/usr/local/lib/python3.6/dist-packages/tensorflow/python/keras/engine/training_generator.py\u001b[0m in \u001b[0;36mevaluate_generator\u001b[0;34m(model, generator, steps, max_queue_size, workers, use_multiprocessing, verbose)\u001b[0m\n\u001b[1;32m    294\u001b[0m \u001b[0;34m\u001b[0m\u001b[0m\n\u001b[1;32m    295\u001b[0m     \u001b[0;32mwhile\u001b[0m \u001b[0msteps_done\u001b[0m \u001b[0;34m<\u001b[0m \u001b[0msteps\u001b[0m\u001b[0;34m:\u001b[0m\u001b[0;34m\u001b[0m\u001b[0;34m\u001b[0m\u001b[0m\n\u001b[0;32m--> 296\u001b[0;31m       \u001b[0mgenerator_output\u001b[0m \u001b[0;34m=\u001b[0m \u001b[0mnext\u001b[0m\u001b[0;34m(\u001b[0m\u001b[0moutput_generator\u001b[0m\u001b[0;34m)\u001b[0m\u001b[0;34m\u001b[0m\u001b[0;34m\u001b[0m\u001b[0m\n\u001b[0m\u001b[1;32m    297\u001b[0m       \u001b[0;32mif\u001b[0m \u001b[0;32mnot\u001b[0m \u001b[0mhasattr\u001b[0m\u001b[0;34m(\u001b[0m\u001b[0mgenerator_output\u001b[0m\u001b[0;34m,\u001b[0m \u001b[0;34m'__len__'\u001b[0m\u001b[0;34m)\u001b[0m\u001b[0;34m:\u001b[0m\u001b[0;34m\u001b[0m\u001b[0;34m\u001b[0m\u001b[0m\n\u001b[1;32m    298\u001b[0m         raise ValueError('Output of generator should be a tuple '\n",
      "\u001b[0;32m/usr/local/lib/python3.6/dist-packages/tensorflow/python/keras/utils/data_utils.py\u001b[0m in \u001b[0;36mget\u001b[0;34m(self)\u001b[0m\n\u001b[1;32m    612\u001b[0m     \u001b[0;32mtry\u001b[0m\u001b[0;34m:\u001b[0m\u001b[0;34m\u001b[0m\u001b[0;34m\u001b[0m\u001b[0m\n\u001b[1;32m    613\u001b[0m       \u001b[0;32mwhile\u001b[0m \u001b[0mself\u001b[0m\u001b[0;34m.\u001b[0m\u001b[0mis_running\u001b[0m\u001b[0;34m(\u001b[0m\u001b[0;34m)\u001b[0m\u001b[0;34m:\u001b[0m\u001b[0;34m\u001b[0m\u001b[0;34m\u001b[0m\u001b[0m\n\u001b[0;32m--> 614\u001b[0;31m         \u001b[0minputs\u001b[0m \u001b[0;34m=\u001b[0m \u001b[0mself\u001b[0m\u001b[0;34m.\u001b[0m\u001b[0mqueue\u001b[0m\u001b[0;34m.\u001b[0m\u001b[0mget\u001b[0m\u001b[0;34m(\u001b[0m\u001b[0mblock\u001b[0m\u001b[0;34m=\u001b[0m\u001b[0;32mTrue\u001b[0m\u001b[0;34m)\u001b[0m\u001b[0;34m.\u001b[0m\u001b[0mget\u001b[0m\u001b[0;34m(\u001b[0m\u001b[0;34m)\u001b[0m\u001b[0;34m\u001b[0m\u001b[0;34m\u001b[0m\u001b[0m\n\u001b[0m\u001b[1;32m    615\u001b[0m         \u001b[0mself\u001b[0m\u001b[0;34m.\u001b[0m\u001b[0mqueue\u001b[0m\u001b[0;34m.\u001b[0m\u001b[0mtask_done\u001b[0m\u001b[0;34m(\u001b[0m\u001b[0;34m)\u001b[0m\u001b[0;34m\u001b[0m\u001b[0;34m\u001b[0m\u001b[0m\n\u001b[1;32m    616\u001b[0m         \u001b[0;32mif\u001b[0m \u001b[0minputs\u001b[0m \u001b[0;32mis\u001b[0m \u001b[0;32mnot\u001b[0m \u001b[0;32mNone\u001b[0m\u001b[0;34m:\u001b[0m\u001b[0;34m\u001b[0m\u001b[0;34m\u001b[0m\u001b[0m\n",
      "\u001b[0;32m/usr/lib/python3.6/multiprocessing/pool.py\u001b[0m in \u001b[0;36mget\u001b[0;34m(self, timeout)\u001b[0m\n\u001b[1;32m    662\u001b[0m \u001b[0;34m\u001b[0m\u001b[0m\n\u001b[1;32m    663\u001b[0m     \u001b[0;32mdef\u001b[0m \u001b[0mget\u001b[0m\u001b[0;34m(\u001b[0m\u001b[0mself\u001b[0m\u001b[0;34m,\u001b[0m \u001b[0mtimeout\u001b[0m\u001b[0;34m=\u001b[0m\u001b[0;32mNone\u001b[0m\u001b[0;34m)\u001b[0m\u001b[0;34m:\u001b[0m\u001b[0;34m\u001b[0m\u001b[0;34m\u001b[0m\u001b[0m\n\u001b[0;32m--> 664\u001b[0;31m         \u001b[0mself\u001b[0m\u001b[0;34m.\u001b[0m\u001b[0mwait\u001b[0m\u001b[0;34m(\u001b[0m\u001b[0mtimeout\u001b[0m\u001b[0;34m)\u001b[0m\u001b[0;34m\u001b[0m\u001b[0;34m\u001b[0m\u001b[0m\n\u001b[0m\u001b[1;32m    665\u001b[0m         \u001b[0;32mif\u001b[0m \u001b[0;32mnot\u001b[0m \u001b[0mself\u001b[0m\u001b[0;34m.\u001b[0m\u001b[0mready\u001b[0m\u001b[0;34m(\u001b[0m\u001b[0;34m)\u001b[0m\u001b[0;34m:\u001b[0m\u001b[0;34m\u001b[0m\u001b[0;34m\u001b[0m\u001b[0m\n\u001b[1;32m    666\u001b[0m             \u001b[0;32mraise\u001b[0m \u001b[0mTimeoutError\u001b[0m\u001b[0;34m\u001b[0m\u001b[0;34m\u001b[0m\u001b[0m\n",
      "\u001b[0;32m/usr/lib/python3.6/multiprocessing/pool.py\u001b[0m in \u001b[0;36mwait\u001b[0;34m(self, timeout)\u001b[0m\n\u001b[1;32m    659\u001b[0m \u001b[0;34m\u001b[0m\u001b[0m\n\u001b[1;32m    660\u001b[0m     \u001b[0;32mdef\u001b[0m \u001b[0mwait\u001b[0m\u001b[0;34m(\u001b[0m\u001b[0mself\u001b[0m\u001b[0;34m,\u001b[0m \u001b[0mtimeout\u001b[0m\u001b[0;34m=\u001b[0m\u001b[0;32mNone\u001b[0m\u001b[0;34m)\u001b[0m\u001b[0;34m:\u001b[0m\u001b[0;34m\u001b[0m\u001b[0;34m\u001b[0m\u001b[0m\n\u001b[0;32m--> 661\u001b[0;31m         \u001b[0mself\u001b[0m\u001b[0;34m.\u001b[0m\u001b[0m_event\u001b[0m\u001b[0;34m.\u001b[0m\u001b[0mwait\u001b[0m\u001b[0;34m(\u001b[0m\u001b[0mtimeout\u001b[0m\u001b[0;34m)\u001b[0m\u001b[0;34m\u001b[0m\u001b[0;34m\u001b[0m\u001b[0m\n\u001b[0m\u001b[1;32m    662\u001b[0m \u001b[0;34m\u001b[0m\u001b[0m\n\u001b[1;32m    663\u001b[0m     \u001b[0;32mdef\u001b[0m \u001b[0mget\u001b[0m\u001b[0;34m(\u001b[0m\u001b[0mself\u001b[0m\u001b[0;34m,\u001b[0m \u001b[0mtimeout\u001b[0m\u001b[0;34m=\u001b[0m\u001b[0;32mNone\u001b[0m\u001b[0;34m)\u001b[0m\u001b[0;34m:\u001b[0m\u001b[0;34m\u001b[0m\u001b[0;34m\u001b[0m\u001b[0m\n",
      "\u001b[0;32m/usr/lib/python3.6/threading.py\u001b[0m in \u001b[0;36mwait\u001b[0;34m(self, timeout)\u001b[0m\n\u001b[1;32m    549\u001b[0m             \u001b[0msignaled\u001b[0m \u001b[0;34m=\u001b[0m \u001b[0mself\u001b[0m\u001b[0;34m.\u001b[0m\u001b[0m_flag\u001b[0m\u001b[0;34m\u001b[0m\u001b[0;34m\u001b[0m\u001b[0m\n\u001b[1;32m    550\u001b[0m             \u001b[0;32mif\u001b[0m \u001b[0;32mnot\u001b[0m \u001b[0msignaled\u001b[0m\u001b[0;34m:\u001b[0m\u001b[0;34m\u001b[0m\u001b[0;34m\u001b[0m\u001b[0m\n\u001b[0;32m--> 551\u001b[0;31m                 \u001b[0msignaled\u001b[0m \u001b[0;34m=\u001b[0m \u001b[0mself\u001b[0m\u001b[0;34m.\u001b[0m\u001b[0m_cond\u001b[0m\u001b[0;34m.\u001b[0m\u001b[0mwait\u001b[0m\u001b[0;34m(\u001b[0m\u001b[0mtimeout\u001b[0m\u001b[0;34m)\u001b[0m\u001b[0;34m\u001b[0m\u001b[0;34m\u001b[0m\u001b[0m\n\u001b[0m\u001b[1;32m    552\u001b[0m             \u001b[0;32mreturn\u001b[0m \u001b[0msignaled\u001b[0m\u001b[0;34m\u001b[0m\u001b[0;34m\u001b[0m\u001b[0m\n\u001b[1;32m    553\u001b[0m \u001b[0;34m\u001b[0m\u001b[0m\n",
      "\u001b[0;32m/usr/lib/python3.6/threading.py\u001b[0m in \u001b[0;36mwait\u001b[0;34m(self, timeout)\u001b[0m\n\u001b[1;32m    293\u001b[0m         \u001b[0;32mtry\u001b[0m\u001b[0;34m:\u001b[0m    \u001b[0;31m# restore state no matter what (e.g., KeyboardInterrupt)\u001b[0m\u001b[0;34m\u001b[0m\u001b[0;34m\u001b[0m\u001b[0m\n\u001b[1;32m    294\u001b[0m             \u001b[0;32mif\u001b[0m \u001b[0mtimeout\u001b[0m \u001b[0;32mis\u001b[0m \u001b[0;32mNone\u001b[0m\u001b[0;34m:\u001b[0m\u001b[0;34m\u001b[0m\u001b[0;34m\u001b[0m\u001b[0m\n\u001b[0;32m--> 295\u001b[0;31m                 \u001b[0mwaiter\u001b[0m\u001b[0;34m.\u001b[0m\u001b[0macquire\u001b[0m\u001b[0;34m(\u001b[0m\u001b[0;34m)\u001b[0m\u001b[0;34m\u001b[0m\u001b[0;34m\u001b[0m\u001b[0m\n\u001b[0m\u001b[1;32m    296\u001b[0m                 \u001b[0mgotit\u001b[0m \u001b[0;34m=\u001b[0m \u001b[0;32mTrue\u001b[0m\u001b[0;34m\u001b[0m\u001b[0;34m\u001b[0m\u001b[0m\n\u001b[1;32m    297\u001b[0m             \u001b[0;32melse\u001b[0m\u001b[0;34m:\u001b[0m\u001b[0;34m\u001b[0m\u001b[0;34m\u001b[0m\u001b[0m\n",
      "\u001b[0;31mKeyboardInterrupt\u001b[0m: "
     ]
    }
   ],
   "source": [
    "def learning_rate_demo():\n",
    "    seed = 12\n",
    "    # degree = 7\n",
    "    k_fold = 4\n",
    "    learning_rates = np.logspace(-7, -2, 7)\n",
    "    # split data in k fold\n",
    "    # k_indices = build_k_indices(y, k_fold, seed)\n",
    "    # define lists to store the loss of training data and test data\n",
    "    loss_tr = []\n",
    "    loss_te = []\n",
    "    # cross validation\n",
    "    for lr in learning_rates:\n",
    "        print('lr = ' + str(lr))\n",
    "        \n",
    "        Genotypes_Fold = []\n",
    "        History_Fold = []\n",
    "        Model_Fold = []\n",
    "        CV_run(Genotypes_Fold, History_Fold, Model_Fold, epochs=20, n_splits = k_fold, num_nodes = 1024, lr = lr)\n",
    "        \n",
    "        loss_tr_tmp = []\n",
    "        loss_te_tmp = []\n",
    "        for i in range(k_fold):\n",
    "          #plot_loss(history, lr)\n",
    "          loss_tr_tmp.append(History_Fold[0].history['loss'][-1])\n",
    "          loss_te_tmp.append(History_Fold[0].history['val_loss'][-1])\n",
    "        loss_tr.append(np.mean(loss_tr_tmp))\n",
    "        loss_te.append(np.mean(loss_te_tmp))\n",
    "\n",
    "    cross_validation_visualization(learning_rates, loss_tr, loss_te)\n",
    "\n",
    "learning_rate_demo()"
   ]
  },
  {
   "cell_type": "code",
   "execution_count": 0,
   "metadata": {
    "colab": {
     "base_uri": "https://localhost:8080/",
     "height": 5013
    },
    "colab_type": "code",
    "id": "AwTA9IzdiIJB",
    "outputId": "6bcb4a74-bfec-4e46-8a06-da627c1941f3"
   },
   "outputs": [
    {
     "name": "stdout",
     "output_type": "stream",
     "text": [
      "nodes = 4\n",
      "31\n",
      "76\n",
      "33\n",
      "Fold:  0  test_index:  [ 1  4  5  9 13 14 26 28]\n",
      "Found 69 images belonging to 3 classes.\n",
      "Found 24 images belonging to 3 classes.\n",
      "(23, 3)\n",
      "(8, 3)\n",
      "Epoch 1/10\n",
      " - 3s - loss: 0.6163 - acc: 0.6667 - val_loss: 0.5872 - val_acc: 0.6806\n",
      "Epoch 2/10\n",
      " - 1s - loss: 0.5719 - acc: 0.6908 - val_loss: 0.5505 - val_acc: 0.7361\n",
      "Epoch 3/10\n",
      " - 1s - loss: 0.5489 - acc: 0.7198 - val_loss: 0.5362 - val_acc: 0.7361\n",
      "Epoch 4/10\n",
      " - 1s - loss: 0.5371 - acc: 0.7295 - val_loss: 0.5245 - val_acc: 0.7222\n",
      "Epoch 5/10\n",
      " - 1s - loss: 0.5190 - acc: 0.7295 - val_loss: 0.5137 - val_acc: 0.7222\n",
      "Epoch 6/10\n",
      " - 1s - loss: 0.5059 - acc: 0.7391 - val_loss: 0.5045 - val_acc: 0.7361\n",
      "Epoch 7/10\n",
      " - 1s - loss: 0.4953 - acc: 0.7488 - val_loss: 0.4948 - val_acc: 0.7361\n",
      "Epoch 8/10\n",
      " - 1s - loss: 0.4893 - acc: 0.7391 - val_loss: 0.4869 - val_acc: 0.7500\n",
      "Epoch 9/10\n",
      " - 1s - loss: 0.4796 - acc: 0.7585 - val_loss: 0.4794 - val_acc: 0.7500\n",
      "Epoch 10/10\n",
      " - 1s - loss: 0.4671 - acc: 0.7536 - val_loss: 0.4740 - val_acc: 0.7639\n",
      "23\n",
      "Fold:  1  test_index:  [ 6 10 12 16 18 22 27 30]\n",
      "Found 69 images belonging to 3 classes.\n",
      "Found 24 images belonging to 3 classes.\n",
      "(23, 3)\n",
      "(8, 3)\n",
      "Epoch 1/10\n",
      " - 3s - loss: 0.6550 - acc: 0.6425 - val_loss: 0.6240 - val_acc: 0.6667\n",
      "Epoch 2/10\n",
      " - 1s - loss: 0.6002 - acc: 0.6860 - val_loss: 0.5891 - val_acc: 0.6667\n",
      "Epoch 3/10\n",
      " - 1s - loss: 0.5682 - acc: 0.6957 - val_loss: 0.5626 - val_acc: 0.6944\n",
      "Epoch 4/10\n",
      " - 1s - loss: 0.5521 - acc: 0.7150 - val_loss: 0.5432 - val_acc: 0.7083\n",
      "Epoch 5/10\n",
      " - 1s - loss: 0.5307 - acc: 0.7295 - val_loss: 0.5278 - val_acc: 0.7500\n",
      "Epoch 6/10\n",
      " - 1s - loss: 0.5133 - acc: 0.7536 - val_loss: 0.5106 - val_acc: 0.7500\n",
      "Epoch 7/10\n",
      " - 1s - loss: 0.5067 - acc: 0.7633 - val_loss: 0.5019 - val_acc: 0.7778\n",
      "Epoch 8/10\n",
      " - 1s - loss: 0.4885 - acc: 0.7826 - val_loss: 0.4876 - val_acc: 0.7778\n",
      "Epoch 9/10\n",
      " - 1s - loss: 0.4739 - acc: 0.7874 - val_loss: 0.4724 - val_acc: 0.7778\n",
      "Epoch 10/10\n",
      " - 1s - loss: 0.4649 - acc: 0.7971 - val_loss: 0.4643 - val_acc: 0.7778\n",
      "23\n",
      "Fold:  2  test_index:  [ 2  7 11 15 19 23 25 29]\n",
      "Found 69 images belonging to 3 classes.\n",
      "Found 24 images belonging to 3 classes.\n",
      "(23, 3)\n",
      "(8, 3)\n",
      "Epoch 1/10\n",
      " - 3s - loss: 0.9513 - acc: 0.5556 - val_loss: 0.7323 - val_acc: 0.5972\n",
      "Epoch 2/10\n",
      " - 1s - loss: 0.6677 - acc: 0.6135 - val_loss: 0.6399 - val_acc: 0.6389\n",
      "Epoch 3/10\n",
      " - 1s - loss: 0.6064 - acc: 0.6763 - val_loss: 0.5964 - val_acc: 0.6944\n",
      "Epoch 4/10\n",
      " - 1s - loss: 0.5778 - acc: 0.6908 - val_loss: 0.5667 - val_acc: 0.7361\n",
      "Epoch 5/10\n",
      " - 1s - loss: 0.5510 - acc: 0.7150 - val_loss: 0.5416 - val_acc: 0.7500\n",
      "Epoch 6/10\n",
      " - 1s - loss: 0.5300 - acc: 0.7198 - val_loss: 0.5196 - val_acc: 0.7639\n",
      "Epoch 7/10\n",
      " - 1s - loss: 0.5129 - acc: 0.7198 - val_loss: 0.4999 - val_acc: 0.7639\n",
      "Epoch 8/10\n",
      " - 1s - loss: 0.4988 - acc: 0.7391 - val_loss: 0.4840 - val_acc: 0.7639\n",
      "Epoch 9/10\n",
      " - 1s - loss: 0.4853 - acc: 0.7488 - val_loss: 0.4690 - val_acc: 0.7639\n",
      "Epoch 10/10\n",
      " - 1s - loss: 0.4698 - acc: 0.7826 - val_loss: 0.4552 - val_acc: 0.7500\n",
      "23\n",
      "Fold:  3  test_index:  [ 0  3  8 17 20 21 24]\n",
      "Found 72 images belonging to 3 classes.\n",
      "Found 21 images belonging to 3 classes.\n",
      "(24, 3)\n",
      "(7, 3)\n",
      "Epoch 1/10\n",
      " - 4s - loss: 0.5663 - acc: 0.7269 - val_loss: 0.5604 - val_acc: 0.7619\n",
      "Epoch 2/10\n",
      " - 1s - loss: 0.5348 - acc: 0.7685 - val_loss: 0.5392 - val_acc: 0.7619\n",
      "Epoch 3/10\n",
      " - 1s - loss: 0.5245 - acc: 0.7685 - val_loss: 0.5262 - val_acc: 0.7778\n",
      "Epoch 4/10\n",
      " - 1s - loss: 0.5024 - acc: 0.8056 - val_loss: 0.5151 - val_acc: 0.7778\n",
      "Epoch 5/10\n",
      " - 1s - loss: 0.4936 - acc: 0.8148 - val_loss: 0.5058 - val_acc: 0.7937\n",
      "Epoch 6/10\n",
      " - 1s - loss: 0.4763 - acc: 0.8287 - val_loss: 0.4936 - val_acc: 0.8095\n",
      "Epoch 7/10\n",
      " - 1s - loss: 0.4691 - acc: 0.8333 - val_loss: 0.4839 - val_acc: 0.8095\n",
      "Epoch 8/10\n",
      " - 1s - loss: 0.4567 - acc: 0.8380 - val_loss: 0.4752 - val_acc: 0.8095\n",
      "Epoch 9/10\n",
      " - 1s - loss: 0.4464 - acc: 0.8426 - val_loss: 0.4671 - val_acc: 0.8254\n",
      "Epoch 10/10\n",
      " - 1s - loss: 0.4373 - acc: 0.8472 - val_loss: 0.4579 - val_acc: 0.8254\n",
      "24\n",
      "nodes = 8\n",
      "31\n",
      "76\n",
      "33\n",
      "Fold:  0  test_index:  [ 1  6  7 11 18 21 22 23]\n",
      "Found 69 images belonging to 3 classes.\n",
      "Found 24 images belonging to 3 classes.\n",
      "(23, 3)\n",
      "(8, 3)\n",
      "Epoch 1/10\n",
      " - 4s - loss: 0.6479 - acc: 0.6039 - val_loss: 0.5654 - val_acc: 0.6667\n",
      "Epoch 2/10\n",
      " - 1s - loss: 0.5639 - acc: 0.6522 - val_loss: 0.5245 - val_acc: 0.6806\n",
      "Epoch 3/10\n",
      " - 1s - loss: 0.5308 - acc: 0.6957 - val_loss: 0.5016 - val_acc: 0.7083\n",
      "Epoch 4/10\n",
      " - 1s - loss: 0.5046 - acc: 0.7053 - val_loss: 0.4765 - val_acc: 0.7222\n",
      "Epoch 5/10\n",
      " - 1s - loss: 0.4840 - acc: 0.7440 - val_loss: 0.4581 - val_acc: 0.7917\n",
      "Epoch 6/10\n",
      " - 1s - loss: 0.4688 - acc: 0.7971 - val_loss: 0.4446 - val_acc: 0.8056\n",
      "Epoch 7/10\n",
      " - 1s - loss: 0.4520 - acc: 0.8261 - val_loss: 0.4317 - val_acc: 0.8472\n",
      "Epoch 8/10\n",
      " - 1s - loss: 0.4392 - acc: 0.8551 - val_loss: 0.4147 - val_acc: 0.8889\n",
      "Epoch 9/10\n",
      " - 1s - loss: 0.4256 - acc: 0.8889 - val_loss: 0.4031 - val_acc: 0.9028\n",
      "Epoch 10/10\n",
      " - 1s - loss: 0.4128 - acc: 0.9130 - val_loss: 0.3899 - val_acc: 0.9583\n",
      "23\n",
      "Fold:  1  test_index:  [ 8 12 14 17 20 25 27 28]\n",
      "Found 69 images belonging to 3 classes.\n",
      "Found 24 images belonging to 3 classes.\n",
      "(23, 3)\n",
      "(8, 3)\n",
      "Epoch 1/10\n",
      " - 4s - loss: 0.6404 - acc: 0.6522 - val_loss: 0.5645 - val_acc: 0.7500\n",
      "Epoch 2/10\n",
      " - 1s - loss: 0.5654 - acc: 0.7585 - val_loss: 0.5288 - val_acc: 0.8056\n",
      "Epoch 3/10\n",
      " - 1s - loss: 0.5341 - acc: 0.7874 - val_loss: 0.5003 - val_acc: 0.8194\n",
      "Epoch 4/10\n",
      " - 1s - loss: 0.5070 - acc: 0.8019 - val_loss: 0.4780 - val_acc: 0.8333\n",
      "Epoch 5/10\n",
      " - 1s - loss: 0.4871 - acc: 0.8068 - val_loss: 0.4589 - val_acc: 0.8472\n",
      "Epoch 6/10\n",
      " - 1s - loss: 0.4732 - acc: 0.8068 - val_loss: 0.4469 - val_acc: 0.8611\n",
      "Epoch 7/10\n",
      " - 1s - loss: 0.4579 - acc: 0.8164 - val_loss: 0.4307 - val_acc: 0.8611\n",
      "Epoch 8/10\n",
      " - 1s - loss: 0.4433 - acc: 0.8213 - val_loss: 0.4182 - val_acc: 0.8611\n",
      "Epoch 9/10\n",
      " - 1s - loss: 0.4370 - acc: 0.8019 - val_loss: 0.4096 - val_acc: 0.8611\n",
      "Epoch 10/10\n",
      " - 1s - loss: 0.4228 - acc: 0.8309 - val_loss: 0.4000 - val_acc: 0.8472\n",
      "23\n",
      "Fold:  2  test_index:  [ 0  2  4  5  9 13 19 29]\n",
      "Found 69 images belonging to 3 classes.\n",
      "Found 24 images belonging to 3 classes.\n",
      "(23, 3)\n",
      "(8, 3)\n",
      "Epoch 1/10\n",
      " - 4s - loss: 0.6177 - acc: 0.6618 - val_loss: 0.5761 - val_acc: 0.6806\n",
      "Epoch 2/10\n",
      " - 1s - loss: 0.5569 - acc: 0.6812 - val_loss: 0.5569 - val_acc: 0.7083\n",
      "Epoch 3/10\n",
      " - 1s - loss: 0.5236 - acc: 0.7536 - val_loss: 0.5411 - val_acc: 0.7222\n",
      "Epoch 4/10\n",
      " - 1s - loss: 0.4947 - acc: 0.7778 - val_loss: 0.5267 - val_acc: 0.7361\n",
      "Epoch 5/10\n",
      " - 1s - loss: 0.4733 - acc: 0.7826 - val_loss: 0.5131 - val_acc: 0.7778\n",
      "Epoch 6/10\n",
      " - 1s - loss: 0.4565 - acc: 0.8068 - val_loss: 0.5007 - val_acc: 0.7778\n",
      "Epoch 7/10\n",
      " - 1s - loss: 0.4446 - acc: 0.7971 - val_loss: 0.4899 - val_acc: 0.7639\n",
      "Epoch 8/10\n",
      " - 1s - loss: 0.4251 - acc: 0.8309 - val_loss: 0.4796 - val_acc: 0.8056\n",
      "Epoch 9/10\n",
      " - 1s - loss: 0.4153 - acc: 0.8454 - val_loss: 0.4697 - val_acc: 0.7639\n",
      "Epoch 10/10\n",
      " - 1s - loss: 0.4010 - acc: 0.8454 - val_loss: 0.4600 - val_acc: 0.7917\n",
      "23\n",
      "Fold:  3  test_index:  [ 3 10 15 16 24 26 30]\n",
      "Found 72 images belonging to 3 classes.\n",
      "Found 21 images belonging to 3 classes.\n",
      "(24, 3)\n",
      "(7, 3)\n",
      "Epoch 1/10\n",
      " - 4s - loss: 0.6315 - acc: 0.7083 - val_loss: 0.5294 - val_acc: 0.7143\n",
      "Epoch 2/10\n",
      " - 1s - loss: 0.5363 - acc: 0.7500 - val_loss: 0.4815 - val_acc: 0.7778\n",
      "Epoch 3/10\n",
      " - 1s - loss: 0.4833 - acc: 0.7963 - val_loss: 0.4496 - val_acc: 0.7778\n",
      "Epoch 4/10\n",
      " - 1s - loss: 0.4571 - acc: 0.8056 - val_loss: 0.4249 - val_acc: 0.7937\n",
      "Epoch 5/10\n",
      " - 1s - loss: 0.4310 - acc: 0.8333 - val_loss: 0.4031 - val_acc: 0.7937\n",
      "Epoch 6/10\n",
      " - 1s - loss: 0.4008 - acc: 0.8611 - val_loss: 0.3874 - val_acc: 0.8095\n",
      "Epoch 7/10\n",
      " - 1s - loss: 0.3802 - acc: 0.8565 - val_loss: 0.3670 - val_acc: 0.8889\n",
      "Epoch 8/10\n",
      " - 1s - loss: 0.3571 - acc: 0.9028 - val_loss: 0.3502 - val_acc: 0.8571\n",
      "Epoch 9/10\n",
      " - 1s - loss: 0.3382 - acc: 0.9120 - val_loss: 0.3360 - val_acc: 0.8571\n",
      "Epoch 10/10\n",
      " - 1s - loss: 0.3187 - acc: 0.9074 - val_loss: 0.3193 - val_acc: 0.8889\n",
      "24\n",
      "nodes = 16\n",
      "31\n",
      "76\n",
      "33\n",
      "Fold:  0  test_index:  [ 1  4  5  6 16 17 26 29]\n",
      "Found 69 images belonging to 3 classes.\n",
      "Found 24 images belonging to 3 classes.\n",
      "(23, 3)\n",
      "(8, 3)\n",
      "Epoch 1/10\n",
      " - 4s - loss: 0.6681 - acc: 0.5990 - val_loss: 0.6097 - val_acc: 0.6944\n",
      "Epoch 2/10\n",
      " - 1s - loss: 0.5896 - acc: 0.6860 - val_loss: 0.5809 - val_acc: 0.6944\n",
      "Epoch 3/10\n",
      " - 1s - loss: 0.5552 - acc: 0.7101 - val_loss: 0.5617 - val_acc: 0.7083\n",
      "Epoch 4/10\n",
      " - 1s - loss: 0.5346 - acc: 0.7488 - val_loss: 0.5449 - val_acc: 0.7083\n",
      "Epoch 5/10\n",
      " - 1s - loss: 0.5170 - acc: 0.7633 - val_loss: 0.5298 - val_acc: 0.7222\n",
      "Epoch 6/10\n",
      " - 1s - loss: 0.5002 - acc: 0.7729 - val_loss: 0.5158 - val_acc: 0.7361\n",
      "Epoch 7/10\n",
      " - 1s - loss: 0.4908 - acc: 0.8116 - val_loss: 0.5038 - val_acc: 0.8056\n",
      "Epoch 8/10\n",
      " - 1s - loss: 0.4718 - acc: 0.8357 - val_loss: 0.4898 - val_acc: 0.8194\n",
      "Epoch 9/10\n",
      " - 1s - loss: 0.4605 - acc: 0.8454 - val_loss: 0.4775 - val_acc: 0.8472\n",
      "Epoch 10/10\n",
      " - 1s - loss: 0.4467 - acc: 0.8502 - val_loss: 0.4657 - val_acc: 0.8472\n",
      "23\n",
      "Fold:  1  test_index:  [ 8 13 14 18 19 20 24 25]\n",
      "Found 69 images belonging to 3 classes.\n",
      "Found 24 images belonging to 3 classes.\n",
      "(23, 3)\n",
      "(8, 3)\n",
      "Epoch 1/10\n",
      " - 4s - loss: 0.7250 - acc: 0.5942 - val_loss: 0.6587 - val_acc: 0.6528\n",
      "Epoch 2/10\n",
      " - 1s - loss: 0.6083 - acc: 0.6908 - val_loss: 0.6016 - val_acc: 0.6667\n",
      "Epoch 3/10\n",
      " - 1s - loss: 0.5584 - acc: 0.7053 - val_loss: 0.5584 - val_acc: 0.6806\n",
      "Epoch 4/10\n",
      " - 1s - loss: 0.5218 - acc: 0.7150 - val_loss: 0.5251 - val_acc: 0.6944\n",
      "Epoch 5/10\n",
      " - 1s - loss: 0.4815 - acc: 0.7585 - val_loss: 0.4902 - val_acc: 0.7500\n",
      "Epoch 6/10\n",
      " - 1s - loss: 0.4511 - acc: 0.7923 - val_loss: 0.4567 - val_acc: 0.7778\n",
      "Epoch 7/10\n",
      " - 1s - loss: 0.4191 - acc: 0.8406 - val_loss: 0.4256 - val_acc: 0.8472\n",
      "Epoch 8/10\n",
      " - 1s - loss: 0.3954 - acc: 0.8647 - val_loss: 0.4013 - val_acc: 0.8611\n",
      "Epoch 9/10\n",
      " - 1s - loss: 0.3754 - acc: 0.8744 - val_loss: 0.3787 - val_acc: 0.9028\n",
      "Epoch 10/10\n",
      " - 1s - loss: 0.3469 - acc: 0.9227 - val_loss: 0.3592 - val_acc: 0.9028\n",
      "23\n",
      "Fold:  2  test_index:  [ 0  2  9 10 11 12 23 28]\n",
      "Found 69 images belonging to 3 classes.\n",
      "Found 24 images belonging to 3 classes.\n"
     ]
    }
   ],
   "source": [
    "def hidden_nodes_demo():\n",
    "    seed = 12\n",
    "    # degree = 7\n",
    "    k_fold = 4\n",
    "    hidden_nodes = [4, 8, 16, 32, 64, 128, 256, 512, 1024]\n",
    "    lr = 0.001\n",
    "    # split data in k fold\n",
    "    # k_indices = build_k_indices(y, k_fold, seed)\n",
    "    # define lists to store the loss of training data and test data\n",
    "    loss_tr = []\n",
    "    loss_te = []\n",
    "    # cross validation\n",
    "    for nodes in hidden_nodes:\n",
    "        print('nodes = ' + str(nodes))\n",
    "        \n",
    "        Genotypes_Fold = []\n",
    "        History_Fold = []\n",
    "        Model_Fold = []\n",
    "        CV_run(Genotypes_Fold, History_Fold, Model_Fold, epochs=10, n_splits = k_fold, num_nodes = nodes, lr = lr)\n",
    "        \n",
    "        loss_tr_tmp = []\n",
    "        loss_te_tmp = []\n",
    "        for i in range(k_fold):\n",
    "          #plot_loss(history, lr)\n",
    "          loss_tr_tmp.append(History_Fold[0].history['loss'][-1])\n",
    "          loss_te_tmp.append(History_Fold[0].history['val_loss'][-1])\n",
    "        loss_tr.append(np.mean(loss_tr_tmp))\n",
    "        loss_te.append(np.mean(loss_te_tmp))\n",
    "\n",
    "    cross_validation_visualization(hidden_nodes, loss_tr, loss_te)\n",
    "\n",
    "hidden_nodes_demo()"
   ]
  },
  {
   "cell_type": "code",
   "execution_count": 0,
   "metadata": {
    "colab": {},
    "colab_type": "code",
    "id": "N4ggK6gZet1m"
   },
   "outputs": [],
   "source": []
  },
  {
   "cell_type": "code",
   "execution_count": 0,
   "metadata": {
    "colab": {},
    "colab_type": "code",
    "id": "P3HYxggxdo26"
   },
   "outputs": [],
   "source": [
    "import os, signal\n",
    "os.kill(os.getpid(), signal.SIGKILL)"
   ]
  }
 ],
 "metadata": {
  "accelerator": "GPU",
  "colab": {
   "collapsed_sections": [],
   "name": "Classifier.ipynb",
   "provenance": [],
   "version": "0.3.2"
  },
  "kernelspec": {
   "display_name": "Python 3",
   "language": "python",
   "name": "python3"
  },
  "language_info": {
   "codemirror_mode": {
    "name": "ipython",
    "version": 3
   },
   "file_extension": ".py",
   "mimetype": "text/x-python",
   "name": "python",
   "nbconvert_exporter": "python",
   "pygments_lexer": "ipython3",
   "version": "3.6.5"
  }
 },
 "nbformat": 4,
 "nbformat_minor": 1
}
