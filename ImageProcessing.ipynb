{
 "cells": [
  {
   "cell_type": "code",
   "execution_count": 2,
   "metadata": {},
   "outputs": [
    {
     "name": "stdout",
     "output_type": "stream",
     "text": [
      "Total images:  147\n",
      "Saved images: 143\n"
     ]
    }
   ],
   "source": [
    "import cv2\n",
    "import numpy as np\n",
    "from matplotlib import pyplot as plt\n",
    "import glob\n",
    "import os\n",
    "import sys\n",
    "\n",
    "from scipy.spatial import distance\n",
    "# This line is necessary to show the images inside the jupyter notebook.\n",
    "%matplotlib inline\n",
    "\n",
    "from pylab import rcParams\n",
    "rcParams['figure.figsize'] = 25, 25\n",
    "\n",
    "input_path = \"E:/Downloads/raw images/dapt/4th phenotype/*.tif\"\n",
    "output_path = \"4thPhenotypePNG/\"\n",
    "\n",
    "images = [(file) for file in glob.glob(input_path)]\n",
    "\n",
    "totalImages = len(images)\n",
    "#print(totalImages)\n",
    "i = 0\n",
    "for file in images:\n",
    "    img = cv2.imread(file)\n",
    "    #print(file[43:])\n",
    "    mod_img =  cv2.cvtColor(img, cv2.COLOR_BGR2GRAY)\n",
    "\n",
    "    th1 = cv2.adaptiveThreshold(mod_img, 255, cv2.ADAPTIVE_THRESH_GAUSSIAN_C, cv2.THRESH_BINARY, 365, 20)\n",
    "    kernel_dil = np.ones((20, 20), np.uint8)    \n",
    "    th1 = cv2.erode(th1, kernel_dil, 1)\n",
    "    \n",
    "    im2, contours, hierarchy = cv2.findContours(th1, cv2.RETR_TREE, cv2.CHAIN_APPROX_SIMPLE)\n",
    "    \n",
    "    for c in contours:\n",
    "        if (len(c) > 300):\n",
    "            x,y,w,h = cv2.boundingRect(c) \n",
    "            if (w>700):\n",
    "                i+=1\n",
    "                cv2.rectangle(th1,(x,y),(x+w,y+h),(0,255,0),2)\n",
    "                img_crop = img[y:y+h,x:x+w]\n",
    "\n",
    "\n",
    "    output_path1 = output_path+file[43:-4]+'.png'\n",
    "    #print(output_path1)\n",
    "    #cv2.imwrite(output_path_format.format(file[3:]), img_crop)\n",
    "    cv2.imwrite(output_path1, img_crop)\n",
    "            \n",
    "if (totalImages == i):\n",
    "    print(\"SUCCESS !!\")\n",
    "print(\"Total images: \",totalImages)\n",
    "print(\"Saved images:\",i)\n",
    "#plt.subplot(121)\n",
    "#plt.imshow(img, cmap='gray')\n",
    "#plt.subplot(122)\n",
    "#plt.imshow(mod_img, cmap='gray')"
   ]
  },
  {
   "cell_type": "code",
   "execution_count": null,
   "metadata": {},
   "outputs": [],
   "source": []
  }
 ],
 "metadata": {
  "kernelspec": {
   "display_name": "Python 3",
   "language": "python",
   "name": "python3"
  },
  "language_info": {
   "codemirror_mode": {
    "name": "ipython",
    "version": 3
   },
   "file_extension": ".py",
   "mimetype": "text/x-python",
   "name": "python",
   "nbconvert_exporter": "python",
   "pygments_lexer": "ipython3",
   "version": "3.6.8"
  }
 },
 "nbformat": 4,
 "nbformat_minor": 2
}
